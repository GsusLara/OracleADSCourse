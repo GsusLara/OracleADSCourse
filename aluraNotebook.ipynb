{
 "cells": [
  {
   "cell_type": "markdown",
   "id": "52b09abf",
   "metadata": {},
   "source": [
    "### OCI Data Science - Useful Tips\n",
    "<details>\n",
    "<summary><font size=\"2\">Check for Public Internet Access</font></summary>\n",
    "\n",
    "```python\n",
    "import requests\n",
    "response = requests.get(\"https://oracle.com\")\n",
    "assert response.status_code==200, \"Internet connection failed\"\n",
    "```\n",
    "</details>\n",
    "<details>\n",
    "<summary><font size=\"2\">Helpful Documentation </font></summary>\n",
    "<ul><li><a href=\"https://docs.cloud.oracle.com/en-us/iaas/data-science/using/data-science.htm\">Data Science Service Documentation</a></li>\n",
    "<li><a href=\"https://docs.cloud.oracle.com/iaas/tools/ads-sdk/latest/index.html\">ADS documentation</a></li>\n",
    "</ul>\n",
    "</details>\n",
    "<details>\n",
    "<summary><font size=\"2\">Typical Cell Imports and Settings for ADS</font></summary>\n",
    "\n",
    "```python\n",
    "%load_ext autoreload\n",
    "%autoreload 2\n",
    "%matplotlib inline\n",
    "\n",
    "import warnings\n",
    "warnings.filterwarnings('ignore')\n",
    "\n",
    "import logging\n",
    "logging.basicConfig(format='%(levelname)s:%(message)s', level=logging.ERROR)\n",
    "\n",
    "import ads\n",
    "from ads.dataset.factory import DatasetFactory\n",
    "from ads.automl.provider import OracleAutoMLProvider\n",
    "from ads.automl.driver import AutoML\n",
    "from ads.evaluations.evaluator import ADSEvaluator\n",
    "from ads.common.data import ADSData\n",
    "from ads.explanations.explainer import ADSExplainer\n",
    "from ads.explanations.mlx_global_explainer import MLXGlobalExplainer\n",
    "from ads.explanations.mlx_local_explainer import MLXLocalExplainer\n",
    "from ads.catalog.model import ModelCatalog\n",
    "from ads.common.model_artifact import ModelArtifact\n",
    "```\n",
    "</details>\n",
    "<details>\n",
    "<summary><font size=\"2\">Useful Environment Variables</font></summary>\n",
    "\n",
    "```python\n",
    "import os\n",
    "print(os.environ[\"NB_SESSION_COMPARTMENT_OCID\"])\n",
    "print(os.environ[\"PROJECT_OCID\"])\n",
    "print(os.environ[\"USER_OCID\"])\n",
    "print(os.environ[\"TENANCY_OCID\"])\n",
    "print(os.environ[\"NB_REGION\"])\n",
    "```\n",
    "</details>"
   ]
  },
  {
   "attachments": {},
   "cell_type": "markdown",
   "id": "431f8651",
   "metadata": {},
   "source": [
    "# Analisis de datos con Oracle-ADS"
   ]
  },
  {
   "attachments": {},
   "cell_type": "markdown",
   "id": "57164824",
   "metadata": {},
   "source": [
    "### importar de librerias"
   ]
  },
  {
   "cell_type": "code",
   "execution_count": 8,
   "id": "13e3ee10",
   "metadata": {},
   "outputs": [],
   "source": [
    "import ads\n",
    "import pandas as pd \n",
    "import seaborn as sns"
   ]
  },
  {
   "attachments": {},
   "cell_type": "markdown",
   "id": "2c7146de",
   "metadata": {},
   "source": [
    "### versiones de librerias"
   ]
  },
  {
   "cell_type": "code",
   "execution_count": 9,
   "id": "4f68e99b",
   "metadata": {},
   "outputs": [
    {
     "data": {
      "text/plain": [
       "'2.7.2'"
      ]
     },
     "execution_count": 9,
     "metadata": {},
     "output_type": "execute_result"
    }
   ],
   "source": [
    "ads.__version__"
   ]
  },
  {
   "cell_type": "code",
   "execution_count": 10,
   "id": "541944fe",
   "metadata": {},
   "outputs": [
    {
     "data": {
      "text/plain": [
       "'1.5.2'"
      ]
     },
     "execution_count": 10,
     "metadata": {},
     "output_type": "execute_result"
    }
   ],
   "source": [
    "pd.__version__"
   ]
  },
  {
   "cell_type": "code",
   "execution_count": 11,
   "id": "a1916eab",
   "metadata": {},
   "outputs": [
    {
     "data": {
      "text/plain": [
       "'0.12.2'"
      ]
     },
     "execution_count": 11,
     "metadata": {},
     "output_type": "execute_result"
    }
   ],
   "source": [
    "sns.__version__"
   ]
  },
  {
   "attachments": {},
   "cell_type": "markdown",
   "id": "0f976628",
   "metadata": {},
   "source": [
    "### Importar el archivo de base de datos"
   ]
  },
  {
   "cell_type": "code",
   "execution_count": 12,
   "id": "9813eda4",
   "metadata": {},
   "outputs": [
    {
     "data": {
      "application/vnd.jupyter.widget-view+json": {
       "model_id": "122e2cc852a04ea3afb2b8ed9b2aa78a",
       "version_major": 2,
       "version_minor": 0
      },
      "text/plain": [
       "loop1:   0%|          | 0/4 [00:00<?, ?it/s]"
      ]
     },
     "metadata": {},
     "output_type": "display_data"
    },
    {
     "data": {
      "text/plain": [
       "ads.dataset.dataset.ADSDataset"
      ]
     },
     "execution_count": 12,
     "metadata": {},
     "output_type": "execute_result"
    }
   ],
   "source": [
    "from ads.dataset.factory import DatasetFactory\n",
    "data = DatasetFactory.open('framingham.csv', type_discovery=False )\n",
    "type(data)"
   ]
  },
  {
   "cell_type": "code",
   "execution_count": 17,
   "id": "35fb428b",
   "metadata": {},
   "outputs": [
    {
     "data": {
      "text/html": [
       "<div>\n",
       "<style scoped>\n",
       "    .dataframe tbody tr th:only-of-type {\n",
       "        vertical-align: middle;\n",
       "    }\n",
       "\n",
       "    .dataframe tbody tr th {\n",
       "        vertical-align: top;\n",
       "    }\n",
       "\n",
       "    .dataframe thead th {\n",
       "        text-align: right;\n",
       "    }\n",
       "</style>\n",
       "<table border=\"1\" class=\"dataframe\">\n",
       "  <thead>\n",
       "    <tr style=\"text-align: right;\">\n",
       "      <th></th>\n",
       "      <th>male</th>\n",
       "      <th>age</th>\n",
       "      <th>education</th>\n",
       "      <th>currentSmoker</th>\n",
       "      <th>cigsPerDay</th>\n",
       "      <th>BPMeds</th>\n",
       "      <th>prevalentStroke</th>\n",
       "      <th>prevalentHyp</th>\n",
       "      <th>diabetes</th>\n",
       "      <th>totChol</th>\n",
       "      <th>sysBP</th>\n",
       "      <th>diaBP</th>\n",
       "      <th>BMI</th>\n",
       "      <th>heartRate</th>\n",
       "      <th>glucose</th>\n",
       "      <th>TenYearCHD</th>\n",
       "    </tr>\n",
       "  </thead>\n",
       "  <tbody>\n",
       "    <tr>\n",
       "      <th>0</th>\n",
       "      <td>1</td>\n",
       "      <td>39</td>\n",
       "      <td>4.0</td>\n",
       "      <td>0</td>\n",
       "      <td>0.0</td>\n",
       "      <td>0.0</td>\n",
       "      <td>0</td>\n",
       "      <td>0</td>\n",
       "      <td>0</td>\n",
       "      <td>195.0</td>\n",
       "      <td>106.0</td>\n",
       "      <td>70.0</td>\n",
       "      <td>26.97</td>\n",
       "      <td>80.0</td>\n",
       "      <td>77.0</td>\n",
       "      <td>0</td>\n",
       "    </tr>\n",
       "    <tr>\n",
       "      <th>1</th>\n",
       "      <td>0</td>\n",
       "      <td>46</td>\n",
       "      <td>2.0</td>\n",
       "      <td>0</td>\n",
       "      <td>0.0</td>\n",
       "      <td>0.0</td>\n",
       "      <td>0</td>\n",
       "      <td>0</td>\n",
       "      <td>0</td>\n",
       "      <td>250.0</td>\n",
       "      <td>121.0</td>\n",
       "      <td>81.0</td>\n",
       "      <td>28.73</td>\n",
       "      <td>95.0</td>\n",
       "      <td>76.0</td>\n",
       "      <td>0</td>\n",
       "    </tr>\n",
       "    <tr>\n",
       "      <th>2</th>\n",
       "      <td>1</td>\n",
       "      <td>48</td>\n",
       "      <td>1.0</td>\n",
       "      <td>1</td>\n",
       "      <td>20.0</td>\n",
       "      <td>0.0</td>\n",
       "      <td>0</td>\n",
       "      <td>0</td>\n",
       "      <td>0</td>\n",
       "      <td>245.0</td>\n",
       "      <td>127.5</td>\n",
       "      <td>80.0</td>\n",
       "      <td>25.34</td>\n",
       "      <td>75.0</td>\n",
       "      <td>70.0</td>\n",
       "      <td>0</td>\n",
       "    </tr>\n",
       "    <tr>\n",
       "      <th>3</th>\n",
       "      <td>0</td>\n",
       "      <td>61</td>\n",
       "      <td>3.0</td>\n",
       "      <td>1</td>\n",
       "      <td>30.0</td>\n",
       "      <td>0.0</td>\n",
       "      <td>0</td>\n",
       "      <td>1</td>\n",
       "      <td>0</td>\n",
       "      <td>225.0</td>\n",
       "      <td>150.0</td>\n",
       "      <td>95.0</td>\n",
       "      <td>28.58</td>\n",
       "      <td>65.0</td>\n",
       "      <td>103.0</td>\n",
       "      <td>1</td>\n",
       "    </tr>\n",
       "    <tr>\n",
       "      <th>4</th>\n",
       "      <td>0</td>\n",
       "      <td>46</td>\n",
       "      <td>3.0</td>\n",
       "      <td>1</td>\n",
       "      <td>23.0</td>\n",
       "      <td>0.0</td>\n",
       "      <td>0</td>\n",
       "      <td>0</td>\n",
       "      <td>0</td>\n",
       "      <td>285.0</td>\n",
       "      <td>130.0</td>\n",
       "      <td>84.0</td>\n",
       "      <td>23.10</td>\n",
       "      <td>85.0</td>\n",
       "      <td>85.0</td>\n",
       "      <td>0</td>\n",
       "    </tr>\n",
       "  </tbody>\n",
       "</table>\n",
       "</div>"
      ],
      "text/plain": [
       "   male  age  education  currentSmoker  cigsPerDay  BPMeds  prevalentStroke  \\\n",
       "0     1   39        4.0              0         0.0     0.0                0   \n",
       "1     0   46        2.0              0         0.0     0.0                0   \n",
       "2     1   48        1.0              1        20.0     0.0                0   \n",
       "3     0   61        3.0              1        30.0     0.0                0   \n",
       "4     0   46        3.0              1        23.0     0.0                0   \n",
       "\n",
       "   prevalentHyp  diabetes  totChol  sysBP  diaBP    BMI  heartRate  glucose  \\\n",
       "0             0         0    195.0  106.0   70.0  26.97       80.0     77.0   \n",
       "1             0         0    250.0  121.0   81.0  28.73       95.0     76.0   \n",
       "2             0         0    245.0  127.5   80.0  25.34       75.0     70.0   \n",
       "3             1         0    225.0  150.0   95.0  28.58       65.0    103.0   \n",
       "4             0         0    285.0  130.0   84.0  23.10       85.0     85.0   \n",
       "\n",
       "   TenYearCHD  \n",
       "0           0  \n",
       "1           0  \n",
       "2           0  \n",
       "3           1  \n",
       "4           0  "
      ]
     },
     "execution_count": 17,
     "metadata": {},
     "output_type": "execute_result"
    }
   ],
   "source": [
    "data.head()"
   ]
  },
  {
   "cell_type": "code",
   "execution_count": 18,
   "id": "fecf7ac0",
   "metadata": {},
   "outputs": [
    {
     "data": {
      "text/plain": [
       "Index(['male', 'age', 'education', 'currentSmoker', 'cigsPerDay', 'BPMeds',\n",
       "       'prevalentStroke', 'prevalentHyp', 'diabetes', 'totChol', 'sysBP',\n",
       "       'diaBP', 'BMI', 'heartRate', 'glucose', 'TenYearCHD'],\n",
       "      dtype='object')"
      ]
     },
     "execution_count": 18,
     "metadata": {},
     "output_type": "execute_result"
    }
   ],
   "source": [
    "data.columns"
   ]
  },
  {
   "attachments": {},
   "cell_type": "markdown",
   "id": "b9fde701",
   "metadata": {},
   "source": [
    "### Traduciendo las variables"
   ]
  },
  {
   "cell_type": "code",
   "execution_count": 19,
   "id": "d7238810",
   "metadata": {},
   "outputs": [
    {
     "data": {
      "text/html": [
       "<div>\n",
       "<style scoped>\n",
       "    .dataframe tbody tr th:only-of-type {\n",
       "        vertical-align: middle;\n",
       "    }\n",
       "\n",
       "    .dataframe tbody tr th {\n",
       "        vertical-align: top;\n",
       "    }\n",
       "\n",
       "    .dataframe thead th {\n",
       "        text-align: right;\n",
       "    }\n",
       "</style>\n",
       "<table border=\"1\" class=\"dataframe\">\n",
       "  <thead>\n",
       "    <tr style=\"text-align: right;\">\n",
       "      <th></th>\n",
       "      <th>Sexo</th>\n",
       "      <th>Edad</th>\n",
       "      <th>Educación</th>\n",
       "      <th>Fumador</th>\n",
       "      <th>Cigarrillos_por_dia</th>\n",
       "      <th>Medicamentos_presion</th>\n",
       "      <th>ACV</th>\n",
       "      <th>Hipertension</th>\n",
       "      <th>Diabetes</th>\n",
       "      <th>Colesterol_total</th>\n",
       "      <th>Presion_sistolica</th>\n",
       "      <th>Presion_Diastolica</th>\n",
       "      <th>IMC</th>\n",
       "      <th>Frecuencia_Cardiaca</th>\n",
       "      <th>Glicemia</th>\n",
       "      <th>Reizgo_EAC_decada</th>\n",
       "    </tr>\n",
       "  </thead>\n",
       "  <tbody>\n",
       "    <tr>\n",
       "      <th>0</th>\n",
       "      <td>1</td>\n",
       "      <td>39</td>\n",
       "      <td>4.0</td>\n",
       "      <td>0</td>\n",
       "      <td>0.0</td>\n",
       "      <td>0.0</td>\n",
       "      <td>0</td>\n",
       "      <td>0</td>\n",
       "      <td>0</td>\n",
       "      <td>195.0</td>\n",
       "      <td>106.0</td>\n",
       "      <td>70.0</td>\n",
       "      <td>26.97</td>\n",
       "      <td>80.0</td>\n",
       "      <td>77.0</td>\n",
       "      <td>0</td>\n",
       "    </tr>\n",
       "    <tr>\n",
       "      <th>1</th>\n",
       "      <td>0</td>\n",
       "      <td>46</td>\n",
       "      <td>2.0</td>\n",
       "      <td>0</td>\n",
       "      <td>0.0</td>\n",
       "      <td>0.0</td>\n",
       "      <td>0</td>\n",
       "      <td>0</td>\n",
       "      <td>0</td>\n",
       "      <td>250.0</td>\n",
       "      <td>121.0</td>\n",
       "      <td>81.0</td>\n",
       "      <td>28.73</td>\n",
       "      <td>95.0</td>\n",
       "      <td>76.0</td>\n",
       "      <td>0</td>\n",
       "    </tr>\n",
       "    <tr>\n",
       "      <th>2</th>\n",
       "      <td>1</td>\n",
       "      <td>48</td>\n",
       "      <td>1.0</td>\n",
       "      <td>1</td>\n",
       "      <td>20.0</td>\n",
       "      <td>0.0</td>\n",
       "      <td>0</td>\n",
       "      <td>0</td>\n",
       "      <td>0</td>\n",
       "      <td>245.0</td>\n",
       "      <td>127.5</td>\n",
       "      <td>80.0</td>\n",
       "      <td>25.34</td>\n",
       "      <td>75.0</td>\n",
       "      <td>70.0</td>\n",
       "      <td>0</td>\n",
       "    </tr>\n",
       "    <tr>\n",
       "      <th>3</th>\n",
       "      <td>0</td>\n",
       "      <td>61</td>\n",
       "      <td>3.0</td>\n",
       "      <td>1</td>\n",
       "      <td>30.0</td>\n",
       "      <td>0.0</td>\n",
       "      <td>0</td>\n",
       "      <td>1</td>\n",
       "      <td>0</td>\n",
       "      <td>225.0</td>\n",
       "      <td>150.0</td>\n",
       "      <td>95.0</td>\n",
       "      <td>28.58</td>\n",
       "      <td>65.0</td>\n",
       "      <td>103.0</td>\n",
       "      <td>1</td>\n",
       "    </tr>\n",
       "    <tr>\n",
       "      <th>4</th>\n",
       "      <td>0</td>\n",
       "      <td>46</td>\n",
       "      <td>3.0</td>\n",
       "      <td>1</td>\n",
       "      <td>23.0</td>\n",
       "      <td>0.0</td>\n",
       "      <td>0</td>\n",
       "      <td>0</td>\n",
       "      <td>0</td>\n",
       "      <td>285.0</td>\n",
       "      <td>130.0</td>\n",
       "      <td>84.0</td>\n",
       "      <td>23.10</td>\n",
       "      <td>85.0</td>\n",
       "      <td>85.0</td>\n",
       "      <td>0</td>\n",
       "    </tr>\n",
       "  </tbody>\n",
       "</table>\n",
       "</div>"
      ],
      "text/plain": [
       "   Sexo  Edad  Educación  Fumador  Cigarrillos_por_dia  Medicamentos_presion  \\\n",
       "0     1    39        4.0        0                  0.0                   0.0   \n",
       "1     0    46        2.0        0                  0.0                   0.0   \n",
       "2     1    48        1.0        1                 20.0                   0.0   \n",
       "3     0    61        3.0        1                 30.0                   0.0   \n",
       "4     0    46        3.0        1                 23.0                   0.0   \n",
       "\n",
       "   ACV  Hipertension  Diabetes  Colesterol_total  Presion_sistolica  \\\n",
       "0    0             0         0             195.0              106.0   \n",
       "1    0             0         0             250.0              121.0   \n",
       "2    0             0         0             245.0              127.5   \n",
       "3    0             1         0             225.0              150.0   \n",
       "4    0             0         0             285.0              130.0   \n",
       "\n",
       "   Presion_Diastolica    IMC  Frecuencia_Cardiaca  Glicemia  Reizgo_EAC_decada  \n",
       "0                70.0  26.97                 80.0      77.0                  0  \n",
       "1                81.0  28.73                 95.0      76.0                  0  \n",
       "2                80.0  25.34                 75.0      70.0                  0  \n",
       "3                95.0  28.58                 65.0     103.0                  1  \n",
       "4                84.0  23.10                 85.0      85.0                  0  "
      ]
     },
     "execution_count": 19,
     "metadata": {},
     "output_type": "execute_result"
    }
   ],
   "source": [
    "columnasEsp={\n",
    "    'male':'Sexo',\n",
    "    'age':'Edad',\n",
    "    'education':'Educación',\n",
    "    'currentSmoker':'Fumador',\n",
    "    'cigsPerDay':'Cigarrillos_por_dia',\n",
    "    'BPMeds':'Medicamentos_presion',\n",
    "    'prevalentStroke':'ACV',\n",
    "    'prevalentHyp':'Hipertension',\n",
    "    'diabetes':'Diabetes', \n",
    "    'totChol':'Colesterol_total', \n",
    "    'sysBP':'Presion_sistolica',\n",
    "    'diaBP':'Presion_Diastolica',\n",
    "    'BMI':'IMC',\n",
    "    'heartRate':'Frecuencia_Cardiaca',\n",
    "    'glucose':'Glicemia',\n",
    "    'TenYearCHD':'Reizgo_EAC_decada'\n",
    "}\n",
    "\n",
    "data = data.rename_columns(columns=columnasEsp)\n",
    "data.head()"
   ]
  },
  {
   "attachments": {},
   "cell_type": "markdown",
   "id": "246b3f94",
   "metadata": {},
   "source": [
    "### Eliminacion de datos no útiles"
   ]
  },
  {
   "cell_type": "code",
   "execution_count": 20,
   "id": "be821d79",
   "metadata": {},
   "outputs": [
    {
     "data": {
      "text/html": [
       "<div>\n",
       "<style scoped>\n",
       "    .dataframe tbody tr th:only-of-type {\n",
       "        vertical-align: middle;\n",
       "    }\n",
       "\n",
       "    .dataframe tbody tr th {\n",
       "        vertical-align: top;\n",
       "    }\n",
       "\n",
       "    .dataframe thead th {\n",
       "        text-align: right;\n",
       "    }\n",
       "</style>\n",
       "<table border=\"1\" class=\"dataframe\">\n",
       "  <thead>\n",
       "    <tr style=\"text-align: right;\">\n",
       "      <th></th>\n",
       "      <th>Sexo</th>\n",
       "      <th>Edad</th>\n",
       "      <th>Fumador</th>\n",
       "      <th>Cigarrillos_por_dia</th>\n",
       "      <th>Medicamentos_presion</th>\n",
       "      <th>ACV</th>\n",
       "      <th>Hipertension</th>\n",
       "      <th>Diabetes</th>\n",
       "      <th>Colesterol_total</th>\n",
       "      <th>Presion_sistolica</th>\n",
       "      <th>Presion_Diastolica</th>\n",
       "      <th>IMC</th>\n",
       "      <th>Frecuencia_Cardiaca</th>\n",
       "      <th>Glicemia</th>\n",
       "      <th>Reizgo_EAC_decada</th>\n",
       "    </tr>\n",
       "  </thead>\n",
       "  <tbody>\n",
       "    <tr>\n",
       "      <th>0</th>\n",
       "      <td>1</td>\n",
       "      <td>39</td>\n",
       "      <td>0</td>\n",
       "      <td>0.0</td>\n",
       "      <td>0.0</td>\n",
       "      <td>0</td>\n",
       "      <td>0</td>\n",
       "      <td>0</td>\n",
       "      <td>195.0</td>\n",
       "      <td>106.0</td>\n",
       "      <td>70.0</td>\n",
       "      <td>26.97</td>\n",
       "      <td>80.0</td>\n",
       "      <td>77.0</td>\n",
       "      <td>0</td>\n",
       "    </tr>\n",
       "    <tr>\n",
       "      <th>1</th>\n",
       "      <td>0</td>\n",
       "      <td>46</td>\n",
       "      <td>0</td>\n",
       "      <td>0.0</td>\n",
       "      <td>0.0</td>\n",
       "      <td>0</td>\n",
       "      <td>0</td>\n",
       "      <td>0</td>\n",
       "      <td>250.0</td>\n",
       "      <td>121.0</td>\n",
       "      <td>81.0</td>\n",
       "      <td>28.73</td>\n",
       "      <td>95.0</td>\n",
       "      <td>76.0</td>\n",
       "      <td>0</td>\n",
       "    </tr>\n",
       "    <tr>\n",
       "      <th>2</th>\n",
       "      <td>1</td>\n",
       "      <td>48</td>\n",
       "      <td>1</td>\n",
       "      <td>20.0</td>\n",
       "      <td>0.0</td>\n",
       "      <td>0</td>\n",
       "      <td>0</td>\n",
       "      <td>0</td>\n",
       "      <td>245.0</td>\n",
       "      <td>127.5</td>\n",
       "      <td>80.0</td>\n",
       "      <td>25.34</td>\n",
       "      <td>75.0</td>\n",
       "      <td>70.0</td>\n",
       "      <td>0</td>\n",
       "    </tr>\n",
       "    <tr>\n",
       "      <th>3</th>\n",
       "      <td>0</td>\n",
       "      <td>61</td>\n",
       "      <td>1</td>\n",
       "      <td>30.0</td>\n",
       "      <td>0.0</td>\n",
       "      <td>0</td>\n",
       "      <td>1</td>\n",
       "      <td>0</td>\n",
       "      <td>225.0</td>\n",
       "      <td>150.0</td>\n",
       "      <td>95.0</td>\n",
       "      <td>28.58</td>\n",
       "      <td>65.0</td>\n",
       "      <td>103.0</td>\n",
       "      <td>1</td>\n",
       "    </tr>\n",
       "    <tr>\n",
       "      <th>4</th>\n",
       "      <td>0</td>\n",
       "      <td>46</td>\n",
       "      <td>1</td>\n",
       "      <td>23.0</td>\n",
       "      <td>0.0</td>\n",
       "      <td>0</td>\n",
       "      <td>0</td>\n",
       "      <td>0</td>\n",
       "      <td>285.0</td>\n",
       "      <td>130.0</td>\n",
       "      <td>84.0</td>\n",
       "      <td>23.10</td>\n",
       "      <td>85.0</td>\n",
       "      <td>85.0</td>\n",
       "      <td>0</td>\n",
       "    </tr>\n",
       "  </tbody>\n",
       "</table>\n",
       "</div>"
      ],
      "text/plain": [
       "   Sexo  Edad  Fumador  Cigarrillos_por_dia  Medicamentos_presion  ACV  \\\n",
       "0     1    39        0                  0.0                   0.0    0   \n",
       "1     0    46        0                  0.0                   0.0    0   \n",
       "2     1    48        1                 20.0                   0.0    0   \n",
       "3     0    61        1                 30.0                   0.0    0   \n",
       "4     0    46        1                 23.0                   0.0    0   \n",
       "\n",
       "   Hipertension  Diabetes  Colesterol_total  Presion_sistolica  \\\n",
       "0             0         0             195.0              106.0   \n",
       "1             0         0             250.0              121.0   \n",
       "2             0         0             245.0              127.5   \n",
       "3             1         0             225.0              150.0   \n",
       "4             0         0             285.0              130.0   \n",
       "\n",
       "   Presion_Diastolica    IMC  Frecuencia_Cardiaca  Glicemia  Reizgo_EAC_decada  \n",
       "0                70.0  26.97                 80.0      77.0                  0  \n",
       "1                81.0  28.73                 95.0      76.0                  0  \n",
       "2                80.0  25.34                 75.0      70.0                  0  \n",
       "3                95.0  28.58                 65.0     103.0                  1  \n",
       "4                84.0  23.10                 85.0      85.0                  0  "
      ]
     },
     "execution_count": 20,
     "metadata": {},
     "output_type": "execute_result"
    }
   ],
   "source": [
    "data = data.drop_columns('Educación')\n",
    "data.head()"
   ]
  },
  {
   "attachments": {},
   "cell_type": "markdown",
   "id": "d9ec8bb9",
   "metadata": {},
   "source": [
    "### Visualización de tipo de datos"
   ]
  },
  {
   "cell_type": "code",
   "execution_count": 21,
   "id": "b8da7732",
   "metadata": {},
   "outputs": [
    {
     "data": {
      "text/html": [
       "<div>\n",
       "<style scoped>\n",
       "    .dataframe tbody tr th:only-of-type {\n",
       "        vertical-align: middle;\n",
       "    }\n",
       "\n",
       "    .dataframe tbody tr th {\n",
       "        vertical-align: top;\n",
       "    }\n",
       "\n",
       "    .dataframe thead th {\n",
       "        text-align: right;\n",
       "    }\n",
       "</style>\n",
       "<table border=\"1\" class=\"dataframe\">\n",
       "  <thead>\n",
       "    <tr style=\"text-align: right;\">\n",
       "      <th></th>\n",
       "      <th>Feature</th>\n",
       "      <th>Datatype</th>\n",
       "    </tr>\n",
       "  </thead>\n",
       "  <tbody>\n",
       "    <tr>\n",
       "      <th>0</th>\n",
       "      <td>Sexo</td>\n",
       "      <td>ordinal/int64</td>\n",
       "    </tr>\n",
       "    <tr>\n",
       "      <th>1</th>\n",
       "      <td>Edad</td>\n",
       "      <td>ordinal/int64</td>\n",
       "    </tr>\n",
       "    <tr>\n",
       "      <th>2</th>\n",
       "      <td>Fumador</td>\n",
       "      <td>ordinal/int64</td>\n",
       "    </tr>\n",
       "    <tr>\n",
       "      <th>3</th>\n",
       "      <td>Cigarrillos_por_dia</td>\n",
       "      <td>continuous/float64</td>\n",
       "    </tr>\n",
       "    <tr>\n",
       "      <th>4</th>\n",
       "      <td>Medicamentos_presion</td>\n",
       "      <td>continuous/float64</td>\n",
       "    </tr>\n",
       "    <tr>\n",
       "      <th>5</th>\n",
       "      <td>ACV</td>\n",
       "      <td>ordinal/int64</td>\n",
       "    </tr>\n",
       "    <tr>\n",
       "      <th>6</th>\n",
       "      <td>Hipertension</td>\n",
       "      <td>ordinal/int64</td>\n",
       "    </tr>\n",
       "    <tr>\n",
       "      <th>7</th>\n",
       "      <td>Diabetes</td>\n",
       "      <td>ordinal/int64</td>\n",
       "    </tr>\n",
       "    <tr>\n",
       "      <th>8</th>\n",
       "      <td>Colesterol_total</td>\n",
       "      <td>continuous/float64</td>\n",
       "    </tr>\n",
       "    <tr>\n",
       "      <th>9</th>\n",
       "      <td>Presion_sistolica</td>\n",
       "      <td>continuous/float64</td>\n",
       "    </tr>\n",
       "    <tr>\n",
       "      <th>10</th>\n",
       "      <td>Presion_Diastolica</td>\n",
       "      <td>continuous/float64</td>\n",
       "    </tr>\n",
       "    <tr>\n",
       "      <th>11</th>\n",
       "      <td>IMC</td>\n",
       "      <td>continuous/float64</td>\n",
       "    </tr>\n",
       "    <tr>\n",
       "      <th>12</th>\n",
       "      <td>Frecuencia_Cardiaca</td>\n",
       "      <td>continuous/float64</td>\n",
       "    </tr>\n",
       "    <tr>\n",
       "      <th>13</th>\n",
       "      <td>Glicemia</td>\n",
       "      <td>continuous/float64</td>\n",
       "    </tr>\n",
       "    <tr>\n",
       "      <th>14</th>\n",
       "      <td>Reizgo_EAC_decada</td>\n",
       "      <td>ordinal/int64</td>\n",
       "    </tr>\n",
       "  </tbody>\n",
       "</table>\n",
       "</div>"
      ],
      "text/plain": [
       "                 Feature            Datatype\n",
       "0                   Sexo       ordinal/int64\n",
       "1                   Edad       ordinal/int64\n",
       "2                Fumador       ordinal/int64\n",
       "3    Cigarrillos_por_dia  continuous/float64\n",
       "4   Medicamentos_presion  continuous/float64\n",
       "5                    ACV       ordinal/int64\n",
       "6           Hipertension       ordinal/int64\n",
       "7               Diabetes       ordinal/int64\n",
       "8       Colesterol_total  continuous/float64\n",
       "9      Presion_sistolica  continuous/float64\n",
       "10    Presion_Diastolica  continuous/float64\n",
       "11                   IMC  continuous/float64\n",
       "12   Frecuencia_Cardiaca  continuous/float64\n",
       "13              Glicemia  continuous/float64\n",
       "14     Reizgo_EAC_decada       ordinal/int64"
      ]
     },
     "execution_count": 21,
     "metadata": {},
     "output_type": "execute_result"
    }
   ],
   "source": [
    "data.summary()"
   ]
  },
  {
   "attachments": {},
   "cell_type": "markdown",
   "id": "987fc3b8",
   "metadata": {},
   "source": [
    "### Búsqueda de datos faltantes"
   ]
  },
  {
   "cell_type": "code",
   "execution_count": 22,
   "id": "da3705d2",
   "metadata": {},
   "outputs": [
    {
     "data": {
      "text/plain": [
       "Sexo                      0\n",
       "Edad                      0\n",
       "Fumador                   0\n",
       "Cigarrillos_por_dia      29\n",
       "Medicamentos_presion     53\n",
       "ACV                       0\n",
       "Hipertension              0\n",
       "Diabetes                  0\n",
       "Colesterol_total         50\n",
       "Presion_sistolica         0\n",
       "Presion_Diastolica        0\n",
       "IMC                      19\n",
       "Frecuencia_Cardiaca       1\n",
       "Glicemia                388\n",
       "Reizgo_EAC_decada         0\n",
       "dtype: int64"
      ]
     },
     "execution_count": 22,
     "metadata": {},
     "output_type": "execute_result"
    }
   ],
   "source": [
    "data.isnull().sum()"
   ]
  },
  {
   "attachments": {},
   "cell_type": "markdown",
   "id": "825c00c4",
   "metadata": {},
   "source": [
    "### Eliminación de faltantes\n",
    "Se eliminan los que no afectan la muestra"
   ]
  },
  {
   "cell_type": "code",
   "execution_count": 23,
   "id": "b76ae2d3",
   "metadata": {},
   "outputs": [
    {
     "data": {
      "text/plain": [
       "Sexo                      0\n",
       "Edad                      0\n",
       "Fumador                   0\n",
       "Cigarrillos_por_dia       0\n",
       "Medicamentos_presion      0\n",
       "ACV                       0\n",
       "Hipertension              0\n",
       "Diabetes                  0\n",
       "Colesterol_total          0\n",
       "Presion_sistolica         0\n",
       "Presion_Diastolica        0\n",
       "IMC                       0\n",
       "Frecuencia_Cardiaca       0\n",
       "Glicemia                339\n",
       "Reizgo_EAC_decada         0\n",
       "dtype: int64"
      ]
     },
     "execution_count": 23,
     "metadata": {},
     "output_type": "execute_result"
    }
   ],
   "source": [
    "data = data[data.Cigarrillos_por_dia.notnull()]\n",
    "data = data[data.Medicamentos_presion.notnull()]\n",
    "data = data[data.Colesterol_total.notnull()]\n",
    "data = data[data.IMC.notnull()]\n",
    "data = data[data.Frecuencia_Cardiaca.notnull()]\n",
    "data.isnull().sum()"
   ]
  },
  {
   "attachments": {},
   "cell_type": "markdown",
   "id": "d3752d92",
   "metadata": {},
   "source": [
    "### Análisis de la variable Glicenia\n",
    "Se relaciona directamente con la variable dibetes"
   ]
  },
  {
   "cell_type": "code",
   "execution_count": 28,
   "id": "f6a02343",
   "metadata": {},
   "outputs": [
    {
     "data": {
      "text/plain": [
       "0    3984\n",
       "1     104\n",
       "Name: Diabetes, dtype: int64"
      ]
     },
     "execution_count": 28,
     "metadata": {},
     "output_type": "execute_result"
    }
   ],
   "source": [
    "data.Diabetes.value_counts()"
   ]
  },
  {
   "cell_type": "code",
   "execution_count": 29,
   "id": "24b6dadf",
   "metadata": {},
   "outputs": [],
   "source": [
    "diabeticos = data[data.Diabetes==1]\n",
    "noDiabeticos = data[data.Diabetes==0]"
   ]
  },
  {
   "cell_type": "code",
   "execution_count": 30,
   "id": "74a36dd0",
   "metadata": {},
   "outputs": [
    {
     "data": {
      "text/plain": [
       "169.87254901960785"
      ]
     },
     "execution_count": 30,
     "metadata": {},
     "output_type": "execute_result"
    }
   ],
   "source": [
    "diabeticos.Glicemia.mean()"
   ]
  },
  {
   "cell_type": "code",
   "execution_count": 31,
   "id": "6e5daf96",
   "metadata": {},
   "outputs": [
    {
     "data": {
      "text/plain": [
       "79.42226487523992"
      ]
     },
     "execution_count": 31,
     "metadata": {},
     "output_type": "execute_result"
    }
   ],
   "source": [
    "noDiabeticos.Glicemia.mean()"
   ]
  },
  {
   "cell_type": "code",
   "execution_count": 32,
   "id": "c2578662",
   "metadata": {},
   "outputs": [
    {
     "data": {
      "text/plain": [
       "81.88316884502534"
      ]
     },
     "execution_count": 32,
     "metadata": {},
     "output_type": "execute_result"
    }
   ],
   "source": [
    "data.Glicemia.mean()"
   ]
  },
  {
   "cell_type": "code",
   "execution_count": 101,
   "id": "d2586b5f",
   "metadata": {},
   "outputs": [
    {
     "data": {
      "text/plain": [
       "0    0.97456\n",
       "1    0.02544\n",
       "Name: Diabetes, dtype: float64"
      ]
     },
     "execution_count": 101,
     "metadata": {},
     "output_type": "execute_result"
    }
   ],
   "source": [
    "data.Diabetes.value_counts(normalize=True)"
   ]
  },
  {
   "cell_type": "code",
   "execution_count": 34,
   "id": "ecfc7b94",
   "metadata": {},
   "outputs": [
    {
     "data": {
      "image/png": "[encoded data removed]",
      "text/plain": [
       "<Figure size 640x480 with 1 Axes>"
      ]
     },
     "metadata": {},
     "output_type": "display_data"
    }
   ],
   "source": [
    "ax = sns.distplot(diabeticos.Glicemia)"
   ]
  },
  {
   "cell_type": "code",
   "execution_count": 35,
   "id": "215b1fcd",
   "metadata": {},
   "outputs": [
    {
     "data": {
      "image/png": "[encoded data removed]",
      "text/plain": [
       "<Figure size 640x480 with 1 Axes>"
      ]
     },
     "metadata": {},
     "output_type": "display_data"
    }
   ],
   "source": [
    "ax = sns.distplot(noDiabeticos.Glicemia)\n",
    "ax.set_xlim(28,165);"
   ]
  },
  {
   "attachments": {},
   "cell_type": "markdown",
   "id": "ae810e37",
   "metadata": {},
   "source": [
    "### Remplazando faltantes\n",
    "del total de faltantes solo 2 son diabeticos, se aplica el promedia de la columna glicemia, por el analisis aplicado antes"
   ]
  },
  {
   "cell_type": "code",
   "execution_count": 136,
   "id": "adab1d81",
   "metadata": {},
   "outputs": [],
   "source": [
    "faltantes = data.Glicemia.isnull()"
   ]
  },
  {
   "cell_type": "code",
   "execution_count": 138,
   "id": "a60d0ecd",
   "metadata": {},
   "outputs": [
    {
     "data": {
      "text/plain": [
       "Series([], Name: Diabetes, dtype: int64)"
      ]
     },
     "execution_count": 138,
     "metadata": {},
     "output_type": "execute_result"
    }
   ],
   "source": [
    "data.Diabetes[faltantes].value_counts()"
   ]
  },
  {
   "cell_type": "code",
   "execution_count": 139,
   "id": "44cc7f48",
   "metadata": {},
   "outputs": [
    {
     "data": {
      "text/plain": [
       "Sexo                    0\n",
       "Edad                    0\n",
       "Fumador                 0\n",
       "Cigarrillos_por_dia     0\n",
       "Medicamentos_presion    0\n",
       "ACV                     0\n",
       "Hipertension            0\n",
       "Diabetes                0\n",
       "Colesterol_total        0\n",
       "Presion_sistolica       0\n",
       "Presion_Diastolica      0\n",
       "IMC                     0\n",
       "Frecuencia_Cardiaca     0\n",
       "Glicemia                0\n",
       "Reizgo_EAC_decada       0\n",
       "dtype: int64"
      ]
     },
     "execution_count": 139,
     "metadata": {},
     "output_type": "execute_result"
    }
   ],
   "source": [
    "promedioGlicemia = data.Glicemia.mean()\n",
    "data.fillna({'Glicemia':promedioGlicemia}, inplace=True)\n",
    "data.isnull().sum()"
   ]
  },
  {
   "cell_type": "code",
   "execution_count": 140,
   "id": "ed80858b",
   "metadata": {},
   "outputs": [
    {
     "data": {
      "text/html": [
       "<div>\n",
       "<style scoped>\n",
       "    .dataframe tbody tr th:only-of-type {\n",
       "        vertical-align: middle;\n",
       "    }\n",
       "\n",
       "    .dataframe tbody tr th {\n",
       "        vertical-align: top;\n",
       "    }\n",
       "\n",
       "    .dataframe thead th {\n",
       "        text-align: right;\n",
       "    }\n",
       "</style>\n",
       "<table border=\"1\" class=\"dataframe\">\n",
       "  <thead>\n",
       "    <tr style=\"text-align: right;\">\n",
       "      <th></th>\n",
       "      <th>Sexo</th>\n",
       "      <th>Edad</th>\n",
       "      <th>Fumador</th>\n",
       "      <th>Cigarrillos_por_dia</th>\n",
       "      <th>Medicamentos_presion</th>\n",
       "      <th>ACV</th>\n",
       "      <th>Hipertension</th>\n",
       "      <th>Diabetes</th>\n",
       "      <th>Colesterol_total</th>\n",
       "      <th>Presion_sistolica</th>\n",
       "      <th>Presion_Diastolica</th>\n",
       "      <th>IMC</th>\n",
       "      <th>Frecuencia_Cardiaca</th>\n",
       "      <th>Glicemia</th>\n",
       "      <th>Reizgo_EAC_decada</th>\n",
       "    </tr>\n",
       "  </thead>\n",
       "  <tbody>\n",
       "    <tr>\n",
       "      <th>0</th>\n",
       "      <td>1</td>\n",
       "      <td>39</td>\n",
       "      <td>0</td>\n",
       "      <td>0.0</td>\n",
       "      <td>0.0</td>\n",
       "      <td>0</td>\n",
       "      <td>0</td>\n",
       "      <td>0</td>\n",
       "      <td>195.0</td>\n",
       "      <td>106.0</td>\n",
       "      <td>70.0</td>\n",
       "      <td>26.97</td>\n",
       "      <td>80.0</td>\n",
       "      <td>77.0</td>\n",
       "      <td>0</td>\n",
       "    </tr>\n",
       "    <tr>\n",
       "      <th>1</th>\n",
       "      <td>0</td>\n",
       "      <td>46</td>\n",
       "      <td>0</td>\n",
       "      <td>0.0</td>\n",
       "      <td>0.0</td>\n",
       "      <td>0</td>\n",
       "      <td>0</td>\n",
       "      <td>0</td>\n",
       "      <td>250.0</td>\n",
       "      <td>121.0</td>\n",
       "      <td>81.0</td>\n",
       "      <td>28.73</td>\n",
       "      <td>95.0</td>\n",
       "      <td>76.0</td>\n",
       "      <td>0</td>\n",
       "    </tr>\n",
       "    <tr>\n",
       "      <th>2</th>\n",
       "      <td>1</td>\n",
       "      <td>48</td>\n",
       "      <td>1</td>\n",
       "      <td>20.0</td>\n",
       "      <td>0.0</td>\n",
       "      <td>0</td>\n",
       "      <td>0</td>\n",
       "      <td>0</td>\n",
       "      <td>245.0</td>\n",
       "      <td>127.5</td>\n",
       "      <td>80.0</td>\n",
       "      <td>25.34</td>\n",
       "      <td>75.0</td>\n",
       "      <td>70.0</td>\n",
       "      <td>0</td>\n",
       "    </tr>\n",
       "    <tr>\n",
       "      <th>3</th>\n",
       "      <td>0</td>\n",
       "      <td>61</td>\n",
       "      <td>1</td>\n",
       "      <td>30.0</td>\n",
       "      <td>0.0</td>\n",
       "      <td>0</td>\n",
       "      <td>1</td>\n",
       "      <td>0</td>\n",
       "      <td>225.0</td>\n",
       "      <td>150.0</td>\n",
       "      <td>95.0</td>\n",
       "      <td>28.58</td>\n",
       "      <td>65.0</td>\n",
       "      <td>103.0</td>\n",
       "      <td>1</td>\n",
       "    </tr>\n",
       "    <tr>\n",
       "      <th>4</th>\n",
       "      <td>0</td>\n",
       "      <td>46</td>\n",
       "      <td>1</td>\n",
       "      <td>23.0</td>\n",
       "      <td>0.0</td>\n",
       "      <td>0</td>\n",
       "      <td>0</td>\n",
       "      <td>0</td>\n",
       "      <td>285.0</td>\n",
       "      <td>130.0</td>\n",
       "      <td>84.0</td>\n",
       "      <td>23.10</td>\n",
       "      <td>85.0</td>\n",
       "      <td>85.0</td>\n",
       "      <td>0</td>\n",
       "    </tr>\n",
       "    <tr>\n",
       "      <th>...</th>\n",
       "      <td>...</td>\n",
       "      <td>...</td>\n",
       "      <td>...</td>\n",
       "      <td>...</td>\n",
       "      <td>...</td>\n",
       "      <td>...</td>\n",
       "      <td>...</td>\n",
       "      <td>...</td>\n",
       "      <td>...</td>\n",
       "      <td>...</td>\n",
       "      <td>...</td>\n",
       "      <td>...</td>\n",
       "      <td>...</td>\n",
       "      <td>...</td>\n",
       "      <td>...</td>\n",
       "    </tr>\n",
       "    <tr>\n",
       "      <th>99</th>\n",
       "      <td>0</td>\n",
       "      <td>56</td>\n",
       "      <td>1</td>\n",
       "      <td>15.0</td>\n",
       "      <td>0.0</td>\n",
       "      <td>0</td>\n",
       "      <td>0</td>\n",
       "      <td>0</td>\n",
       "      <td>269.0</td>\n",
       "      <td>121.0</td>\n",
       "      <td>75.0</td>\n",
       "      <td>22.36</td>\n",
       "      <td>50.0</td>\n",
       "      <td>66.0</td>\n",
       "      <td>0</td>\n",
       "    </tr>\n",
       "    <tr>\n",
       "      <th>100</th>\n",
       "      <td>0</td>\n",
       "      <td>47</td>\n",
       "      <td>1</td>\n",
       "      <td>20.0</td>\n",
       "      <td>0.0</td>\n",
       "      <td>0</td>\n",
       "      <td>0</td>\n",
       "      <td>0</td>\n",
       "      <td>220.0</td>\n",
       "      <td>132.5</td>\n",
       "      <td>87.0</td>\n",
       "      <td>27.98</td>\n",
       "      <td>65.0</td>\n",
       "      <td>75.0</td>\n",
       "      <td>0</td>\n",
       "    </tr>\n",
       "    <tr>\n",
       "      <th>101</th>\n",
       "      <td>0</td>\n",
       "      <td>60</td>\n",
       "      <td>0</td>\n",
       "      <td>0.0</td>\n",
       "      <td>0.0</td>\n",
       "      <td>0</td>\n",
       "      <td>1</td>\n",
       "      <td>0</td>\n",
       "      <td>275.0</td>\n",
       "      <td>141.0</td>\n",
       "      <td>84.0</td>\n",
       "      <td>29.66</td>\n",
       "      <td>75.0</td>\n",
       "      <td>105.0</td>\n",
       "      <td>0</td>\n",
       "    </tr>\n",
       "    <tr>\n",
       "      <th>102</th>\n",
       "      <td>0</td>\n",
       "      <td>45</td>\n",
       "      <td>1</td>\n",
       "      <td>9.0</td>\n",
       "      <td>0.0</td>\n",
       "      <td>0</td>\n",
       "      <td>0</td>\n",
       "      <td>0</td>\n",
       "      <td>268.0</td>\n",
       "      <td>110.0</td>\n",
       "      <td>64.0</td>\n",
       "      <td>20.68</td>\n",
       "      <td>63.0</td>\n",
       "      <td>71.0</td>\n",
       "      <td>0</td>\n",
       "    </tr>\n",
       "    <tr>\n",
       "      <th>103</th>\n",
       "      <td>0</td>\n",
       "      <td>48</td>\n",
       "      <td>0</td>\n",
       "      <td>0.0</td>\n",
       "      <td>0.0</td>\n",
       "      <td>0</td>\n",
       "      <td>1</td>\n",
       "      <td>0</td>\n",
       "      <td>265.0</td>\n",
       "      <td>145.0</td>\n",
       "      <td>77.0</td>\n",
       "      <td>24.23</td>\n",
       "      <td>74.0</td>\n",
       "      <td>64.0</td>\n",
       "      <td>0</td>\n",
       "    </tr>\n",
       "  </tbody>\n",
       "</table>\n",
       "<p>100 rows × 15 columns</p>\n",
       "</div>"
      ],
      "text/plain": [
       "     Sexo  Edad  Fumador  Cigarrillos_por_dia  Medicamentos_presion  ACV  \\\n",
       "0       1    39        0                  0.0                   0.0    0   \n",
       "1       0    46        0                  0.0                   0.0    0   \n",
       "2       1    48        1                 20.0                   0.0    0   \n",
       "3       0    61        1                 30.0                   0.0    0   \n",
       "4       0    46        1                 23.0                   0.0    0   \n",
       "..    ...   ...      ...                  ...                   ...  ...   \n",
       "99      0    56        1                 15.0                   0.0    0   \n",
       "100     0    47        1                 20.0                   0.0    0   \n",
       "101     0    60        0                  0.0                   0.0    0   \n",
       "102     0    45        1                  9.0                   0.0    0   \n",
       "103     0    48        0                  0.0                   0.0    0   \n",
       "\n",
       "     Hipertension  Diabetes  Colesterol_total  Presion_sistolica  \\\n",
       "0               0         0             195.0              106.0   \n",
       "1               0         0             250.0              121.0   \n",
       "2               0         0             245.0              127.5   \n",
       "3               1         0             225.0              150.0   \n",
       "4               0         0             285.0              130.0   \n",
       "..            ...       ...               ...                ...   \n",
       "99              0         0             269.0              121.0   \n",
       "100             0         0             220.0              132.5   \n",
       "101             1         0             275.0              141.0   \n",
       "102             0         0             268.0              110.0   \n",
       "103             1         0             265.0              145.0   \n",
       "\n",
       "     Presion_Diastolica    IMC  Frecuencia_Cardiaca  Glicemia  \\\n",
       "0                  70.0  26.97                 80.0      77.0   \n",
       "1                  81.0  28.73                 95.0      76.0   \n",
       "2                  80.0  25.34                 75.0      70.0   \n",
       "3                  95.0  28.58                 65.0     103.0   \n",
       "4                  84.0  23.10                 85.0      85.0   \n",
       "..                  ...    ...                  ...       ...   \n",
       "99                 75.0  22.36                 50.0      66.0   \n",
       "100                87.0  27.98                 65.0      75.0   \n",
       "101                84.0  29.66                 75.0     105.0   \n",
       "102                64.0  20.68                 63.0      71.0   \n",
       "103                77.0  24.23                 74.0      64.0   \n",
       "\n",
       "     Reizgo_EAC_decada  \n",
       "0                    0  \n",
       "1                    0  \n",
       "2                    0  \n",
       "3                    1  \n",
       "4                    0  \n",
       "..                 ...  \n",
       "99                   0  \n",
       "100                  0  \n",
       "101                  0  \n",
       "102                  0  \n",
       "103                  0  \n",
       "\n",
       "[100 rows x 15 columns]"
      ]
     },
     "execution_count": 140,
     "metadata": {},
     "output_type": "execute_result"
    }
   ],
   "source": [
    "data.head(100)"
   ]
  },
  {
   "cell_type": "code",
   "execution_count": 141,
   "id": "00f59640",
   "metadata": {},
   "outputs": [
    {
     "data": {
      "text/plain": [
       "(4088, 15)"
      ]
     },
     "execution_count": 141,
     "metadata": {},
     "output_type": "execute_result"
    }
   ],
   "source": [
    "data.shape"
   ]
  },
  {
   "attachments": {},
   "cell_type": "markdown",
   "id": "ddaf3779",
   "metadata": {},
   "source": [
    "### se analizan los datos nuevamente"
   ]
  },
  {
   "cell_type": "code",
   "execution_count": 142,
   "id": "ffb728c6",
   "metadata": {},
   "outputs": [
    {
     "data": {
      "text/html": [
       "<div>\n",
       "<style scoped>\n",
       "    .dataframe tbody tr th:only-of-type {\n",
       "        vertical-align: middle;\n",
       "    }\n",
       "\n",
       "    .dataframe tbody tr th {\n",
       "        vertical-align: top;\n",
       "    }\n",
       "\n",
       "    .dataframe thead th {\n",
       "        text-align: right;\n",
       "    }\n",
       "</style>\n",
       "<table border=\"1\" class=\"dataframe\">\n",
       "  <thead>\n",
       "    <tr style=\"text-align: right;\">\n",
       "      <th></th>\n",
       "      <th>Feature</th>\n",
       "      <th>Datatype</th>\n",
       "    </tr>\n",
       "  </thead>\n",
       "  <tbody>\n",
       "    <tr>\n",
       "      <th>0</th>\n",
       "      <td>Sexo</td>\n",
       "      <td>ordinal/int64</td>\n",
       "    </tr>\n",
       "    <tr>\n",
       "      <th>1</th>\n",
       "      <td>Edad</td>\n",
       "      <td>ordinal/int64</td>\n",
       "    </tr>\n",
       "    <tr>\n",
       "      <th>2</th>\n",
       "      <td>Fumador</td>\n",
       "      <td>ordinal/int64</td>\n",
       "    </tr>\n",
       "    <tr>\n",
       "      <th>3</th>\n",
       "      <td>Cigarrillos_por_dia</td>\n",
       "      <td>continuous/float64</td>\n",
       "    </tr>\n",
       "    <tr>\n",
       "      <th>4</th>\n",
       "      <td>Medicamentos_presion</td>\n",
       "      <td>continuous/float64</td>\n",
       "    </tr>\n",
       "    <tr>\n",
       "      <th>5</th>\n",
       "      <td>ACV</td>\n",
       "      <td>ordinal/int64</td>\n",
       "    </tr>\n",
       "    <tr>\n",
       "      <th>6</th>\n",
       "      <td>Hipertension</td>\n",
       "      <td>ordinal/int64</td>\n",
       "    </tr>\n",
       "    <tr>\n",
       "      <th>7</th>\n",
       "      <td>Diabetes</td>\n",
       "      <td>ordinal/int64</td>\n",
       "    </tr>\n",
       "    <tr>\n",
       "      <th>8</th>\n",
       "      <td>Colesterol_total</td>\n",
       "      <td>continuous/float64</td>\n",
       "    </tr>\n",
       "    <tr>\n",
       "      <th>9</th>\n",
       "      <td>Presion_sistolica</td>\n",
       "      <td>continuous/float64</td>\n",
       "    </tr>\n",
       "    <tr>\n",
       "      <th>10</th>\n",
       "      <td>Presion_Diastolica</td>\n",
       "      <td>continuous/float64</td>\n",
       "    </tr>\n",
       "    <tr>\n",
       "      <th>11</th>\n",
       "      <td>IMC</td>\n",
       "      <td>continuous/float64</td>\n",
       "    </tr>\n",
       "    <tr>\n",
       "      <th>12</th>\n",
       "      <td>Frecuencia_Cardiaca</td>\n",
       "      <td>continuous/float64</td>\n",
       "    </tr>\n",
       "    <tr>\n",
       "      <th>13</th>\n",
       "      <td>Glicemia</td>\n",
       "      <td>continuous/float64</td>\n",
       "    </tr>\n",
       "    <tr>\n",
       "      <th>14</th>\n",
       "      <td>Reizgo_EAC_decada</td>\n",
       "      <td>ordinal/int64</td>\n",
       "    </tr>\n",
       "  </tbody>\n",
       "</table>\n",
       "</div>"
      ],
      "text/plain": [
       "                 Feature            Datatype\n",
       "0                   Sexo       ordinal/int64\n",
       "1                   Edad       ordinal/int64\n",
       "2                Fumador       ordinal/int64\n",
       "3    Cigarrillos_por_dia  continuous/float64\n",
       "4   Medicamentos_presion  continuous/float64\n",
       "5                    ACV       ordinal/int64\n",
       "6           Hipertension       ordinal/int64\n",
       "7               Diabetes       ordinal/int64\n",
       "8       Colesterol_total  continuous/float64\n",
       "9      Presion_sistolica  continuous/float64\n",
       "10    Presion_Diastolica  continuous/float64\n",
       "11                   IMC  continuous/float64\n",
       "12   Frecuencia_Cardiaca  continuous/float64\n",
       "13              Glicemia  continuous/float64\n",
       "14     Reizgo_EAC_decada       ordinal/int64"
      ]
     },
     "execution_count": 142,
     "metadata": {},
     "output_type": "execute_result"
    }
   ],
   "source": [
    "data.summary()"
   ]
  },
  {
   "attachments": {},
   "cell_type": "markdown",
   "id": "07516d06",
   "metadata": {},
   "source": [
    "### Se trabajara la variable \"cigarrillos por dia\"\n",
    "se convertira a datos enteros ya que no tiene sentido que sean boolean"
   ]
  },
  {
   "cell_type": "code",
   "execution_count": 143,
   "id": "7b609bb1",
   "metadata": {},
   "outputs": [],
   "source": [
    "data = data.astype(types={'Cigarrillos_por_dia':'int64'})"
   ]
  },
  {
   "cell_type": "code",
   "execution_count": 144,
   "id": "91c9ebd5",
   "metadata": {},
   "outputs": [],
   "source": [
    "data = data.astype(types={'Medicamentos_presion':'int64'})"
   ]
  },
  {
   "cell_type": "code",
   "execution_count": 145,
   "id": "c3745e58",
   "metadata": {},
   "outputs": [
    {
     "data": {
      "text/html": [
       "<div>\n",
       "<style scoped>\n",
       "    .dataframe tbody tr th:only-of-type {\n",
       "        vertical-align: middle;\n",
       "    }\n",
       "\n",
       "    .dataframe tbody tr th {\n",
       "        vertical-align: top;\n",
       "    }\n",
       "\n",
       "    .dataframe thead th {\n",
       "        text-align: right;\n",
       "    }\n",
       "</style>\n",
       "<table border=\"1\" class=\"dataframe\">\n",
       "  <thead>\n",
       "    <tr style=\"text-align: right;\">\n",
       "      <th></th>\n",
       "      <th>Feature</th>\n",
       "      <th>Datatype</th>\n",
       "    </tr>\n",
       "  </thead>\n",
       "  <tbody>\n",
       "    <tr>\n",
       "      <th>0</th>\n",
       "      <td>Sexo</td>\n",
       "      <td>ordinal/int64</td>\n",
       "    </tr>\n",
       "    <tr>\n",
       "      <th>1</th>\n",
       "      <td>Edad</td>\n",
       "      <td>ordinal/int64</td>\n",
       "    </tr>\n",
       "    <tr>\n",
       "      <th>2</th>\n",
       "      <td>Fumador</td>\n",
       "      <td>ordinal/int64</td>\n",
       "    </tr>\n",
       "    <tr>\n",
       "      <th>3</th>\n",
       "      <td>Cigarrillos_por_dia</td>\n",
       "      <td>ordinal/int64</td>\n",
       "    </tr>\n",
       "    <tr>\n",
       "      <th>4</th>\n",
       "      <td>Medicamentos_presion</td>\n",
       "      <td>ordinal/int64</td>\n",
       "    </tr>\n",
       "    <tr>\n",
       "      <th>5</th>\n",
       "      <td>ACV</td>\n",
       "      <td>ordinal/int64</td>\n",
       "    </tr>\n",
       "    <tr>\n",
       "      <th>6</th>\n",
       "      <td>Hipertension</td>\n",
       "      <td>ordinal/int64</td>\n",
       "    </tr>\n",
       "    <tr>\n",
       "      <th>7</th>\n",
       "      <td>Diabetes</td>\n",
       "      <td>ordinal/int64</td>\n",
       "    </tr>\n",
       "    <tr>\n",
       "      <th>8</th>\n",
       "      <td>Colesterol_total</td>\n",
       "      <td>continuous/float64</td>\n",
       "    </tr>\n",
       "    <tr>\n",
       "      <th>9</th>\n",
       "      <td>Presion_sistolica</td>\n",
       "      <td>continuous/float64</td>\n",
       "    </tr>\n",
       "    <tr>\n",
       "      <th>10</th>\n",
       "      <td>Presion_Diastolica</td>\n",
       "      <td>continuous/float64</td>\n",
       "    </tr>\n",
       "    <tr>\n",
       "      <th>11</th>\n",
       "      <td>IMC</td>\n",
       "      <td>continuous/float64</td>\n",
       "    </tr>\n",
       "    <tr>\n",
       "      <th>12</th>\n",
       "      <td>Frecuencia_Cardiaca</td>\n",
       "      <td>continuous/float64</td>\n",
       "    </tr>\n",
       "    <tr>\n",
       "      <th>13</th>\n",
       "      <td>Glicemia</td>\n",
       "      <td>continuous/float64</td>\n",
       "    </tr>\n",
       "    <tr>\n",
       "      <th>14</th>\n",
       "      <td>Reizgo_EAC_decada</td>\n",
       "      <td>ordinal/int64</td>\n",
       "    </tr>\n",
       "  </tbody>\n",
       "</table>\n",
       "</div>"
      ],
      "text/plain": [
       "                 Feature            Datatype\n",
       "0                   Sexo       ordinal/int64\n",
       "1                   Edad       ordinal/int64\n",
       "2                Fumador       ordinal/int64\n",
       "3    Cigarrillos_por_dia       ordinal/int64\n",
       "4   Medicamentos_presion       ordinal/int64\n",
       "5                    ACV       ordinal/int64\n",
       "6           Hipertension       ordinal/int64\n",
       "7               Diabetes       ordinal/int64\n",
       "8       Colesterol_total  continuous/float64\n",
       "9      Presion_sistolica  continuous/float64\n",
       "10    Presion_Diastolica  continuous/float64\n",
       "11                   IMC  continuous/float64\n",
       "12   Frecuencia_Cardiaca  continuous/float64\n",
       "13              Glicemia  continuous/float64\n",
       "14     Reizgo_EAC_decada       ordinal/int64"
      ]
     },
     "execution_count": 145,
     "metadata": {},
     "output_type": "execute_result"
    }
   ],
   "source": [
    "data.summary()"
   ]
  },
  {
   "cell_type": "code",
   "execution_count": 146,
   "id": "6f7afc31",
   "metadata": {},
   "outputs": [
    {
     "data": {
      "text/plain": [
       "count    4088.000000\n",
       "mean        8.992417\n",
       "std        11.910941\n",
       "min         0.000000\n",
       "25%         0.000000\n",
       "50%         0.000000\n",
       "75%        20.000000\n",
       "max        70.000000\n",
       "Name: Cigarrillos_por_dia, dtype: float64"
      ]
     },
     "execution_count": 146,
     "metadata": {},
     "output_type": "execute_result"
    }
   ],
   "source": [
    "data.Cigarrillos_por_dia.describe()"
   ]
  },
  {
   "cell_type": "code",
   "execution_count": 147,
   "id": "80637a13",
   "metadata": {},
   "outputs": [
    {
     "data": {
      "image/png": "[encoded data removed]",
      "text/plain": [
       "<Figure size 640x480 with 1 Axes>"
      ]
     },
     "metadata": {},
     "output_type": "display_data"
    }
   ],
   "source": [
    "ax = sns.distplot(data.Cigarrillos_por_dia)\n",
    "ax.set_xlim(-1,80);"
   ]
  },
  {
   "cell_type": "code",
   "execution_count": 148,
   "id": "3e97627d",
   "metadata": {},
   "outputs": [
    {
     "data": {
      "image/png": "[encoded data removed]",
      "text/plain": [
       "<Figure size 640x480 with 1 Axes>"
      ]
     },
     "metadata": {},
     "output_type": "display_data"
    }
   ],
   "source": [
    "ax = sns.boxplot(data.Cigarrillos_por_dia);"
   ]
  },
  {
   "attachments": {},
   "cell_type": "markdown",
   "id": "b4927949",
   "metadata": {},
   "source": [
    "### se agrupan los datos en una nueva variable para analizarlos"
   ]
  },
  {
   "cell_type": "code",
   "execution_count": 149,
   "id": "5fa82acc",
   "metadata": {},
   "outputs": [],
   "source": [
    "categorias = [0,1,2,3]\n",
    "limites = [-1,1,11,21,71]"
   ]
  },
  {
   "cell_type": "code",
   "execution_count": 150,
   "id": "4f10fa9b",
   "metadata": {},
   "outputs": [],
   "source": [
    "Categoria_fumador = pd.cut(data.Cigarrillos_por_dia, limites, labels=categorias)"
   ]
  },
  {
   "cell_type": "code",
   "execution_count": 151,
   "id": "662436ce",
   "metadata": {},
   "outputs": [
    {
     "data": {
      "text/plain": [
       "Index(['Sexo', 'Edad', 'Fumador', 'Cigarrillos_por_dia',\n",
       "       'Medicamentos_presion', 'ACV', 'Hipertension', 'Diabetes',\n",
       "       'Colesterol_total', 'Presion_sistolica', 'Presion_Diastolica', 'IMC',\n",
       "       'Frecuencia_Cardiaca', 'Glicemia', 'Reizgo_EAC_decada',\n",
       "       'Categoria_fumador'],\n",
       "      dtype='object')"
      ]
     },
     "execution_count": 151,
     "metadata": {},
     "output_type": "execute_result"
    }
   ],
   "source": [
    "data = data.assign_column('Categoria_fumador',Categoria_fumador)\n",
    "data.columns"
   ]
  },
  {
   "cell_type": "code",
   "execution_count": 154,
   "id": "7f87748b",
   "metadata": {},
   "outputs": [
    {
     "data": {
      "text/html": [
       "<div>\n",
       "<style scoped>\n",
       "    .dataframe tbody tr th:only-of-type {\n",
       "        vertical-align: middle;\n",
       "    }\n",
       "\n",
       "    .dataframe tbody tr th {\n",
       "        vertical-align: top;\n",
       "    }\n",
       "\n",
       "    .dataframe thead th {\n",
       "        text-align: right;\n",
       "    }\n",
       "</style>\n",
       "<table border=\"1\" class=\"dataframe\">\n",
       "  <thead>\n",
       "    <tr style=\"text-align: right;\">\n",
       "      <th></th>\n",
       "      <th>Sexo</th>\n",
       "      <th>Edad</th>\n",
       "      <th>Fumador</th>\n",
       "      <th>Cigarrillos_por_dia</th>\n",
       "      <th>Medicamentos_presion</th>\n",
       "      <th>ACV</th>\n",
       "      <th>Hipertension</th>\n",
       "      <th>Diabetes</th>\n",
       "      <th>Colesterol_total</th>\n",
       "      <th>Presion_sistolica</th>\n",
       "      <th>Presion_Diastolica</th>\n",
       "      <th>IMC</th>\n",
       "      <th>Frecuencia_Cardiaca</th>\n",
       "      <th>Glicemia</th>\n",
       "      <th>Reizgo_EAC_decada</th>\n",
       "      <th>Categoria_fumador</th>\n",
       "    </tr>\n",
       "  </thead>\n",
       "  <tbody>\n",
       "    <tr>\n",
       "      <th>0</th>\n",
       "      <td>1</td>\n",
       "      <td>39</td>\n",
       "      <td>0</td>\n",
       "      <td>0</td>\n",
       "      <td>0</td>\n",
       "      <td>0</td>\n",
       "      <td>0</td>\n",
       "      <td>0</td>\n",
       "      <td>195.0</td>\n",
       "      <td>106.0</td>\n",
       "      <td>70.0</td>\n",
       "      <td>26.97</td>\n",
       "      <td>80.0</td>\n",
       "      <td>77.0</td>\n",
       "      <td>0</td>\n",
       "      <td>0</td>\n",
       "    </tr>\n",
       "    <tr>\n",
       "      <th>1</th>\n",
       "      <td>0</td>\n",
       "      <td>46</td>\n",
       "      <td>0</td>\n",
       "      <td>0</td>\n",
       "      <td>0</td>\n",
       "      <td>0</td>\n",
       "      <td>0</td>\n",
       "      <td>0</td>\n",
       "      <td>250.0</td>\n",
       "      <td>121.0</td>\n",
       "      <td>81.0</td>\n",
       "      <td>28.73</td>\n",
       "      <td>95.0</td>\n",
       "      <td>76.0</td>\n",
       "      <td>0</td>\n",
       "      <td>0</td>\n",
       "    </tr>\n",
       "    <tr>\n",
       "      <th>2</th>\n",
       "      <td>1</td>\n",
       "      <td>48</td>\n",
       "      <td>1</td>\n",
       "      <td>20</td>\n",
       "      <td>0</td>\n",
       "      <td>0</td>\n",
       "      <td>0</td>\n",
       "      <td>0</td>\n",
       "      <td>245.0</td>\n",
       "      <td>127.5</td>\n",
       "      <td>80.0</td>\n",
       "      <td>25.34</td>\n",
       "      <td>75.0</td>\n",
       "      <td>70.0</td>\n",
       "      <td>0</td>\n",
       "      <td>2</td>\n",
       "    </tr>\n",
       "    <tr>\n",
       "      <th>3</th>\n",
       "      <td>0</td>\n",
       "      <td>61</td>\n",
       "      <td>1</td>\n",
       "      <td>30</td>\n",
       "      <td>0</td>\n",
       "      <td>0</td>\n",
       "      <td>1</td>\n",
       "      <td>0</td>\n",
       "      <td>225.0</td>\n",
       "      <td>150.0</td>\n",
       "      <td>95.0</td>\n",
       "      <td>28.58</td>\n",
       "      <td>65.0</td>\n",
       "      <td>103.0</td>\n",
       "      <td>1</td>\n",
       "      <td>3</td>\n",
       "    </tr>\n",
       "    <tr>\n",
       "      <th>4</th>\n",
       "      <td>0</td>\n",
       "      <td>46</td>\n",
       "      <td>1</td>\n",
       "      <td>23</td>\n",
       "      <td>0</td>\n",
       "      <td>0</td>\n",
       "      <td>0</td>\n",
       "      <td>0</td>\n",
       "      <td>285.0</td>\n",
       "      <td>130.0</td>\n",
       "      <td>84.0</td>\n",
       "      <td>23.10</td>\n",
       "      <td>85.0</td>\n",
       "      <td>85.0</td>\n",
       "      <td>0</td>\n",
       "      <td>3</td>\n",
       "    </tr>\n",
       "  </tbody>\n",
       "</table>\n",
       "</div>"
      ],
      "text/plain": [
       "   Sexo  Edad  Fumador  Cigarrillos_por_dia  Medicamentos_presion  ACV  \\\n",
       "0     1    39        0                    0                     0    0   \n",
       "1     0    46        0                    0                     0    0   \n",
       "2     1    48        1                   20                     0    0   \n",
       "3     0    61        1                   30                     0    0   \n",
       "4     0    46        1                   23                     0    0   \n",
       "\n",
       "   Hipertension  Diabetes  Colesterol_total  Presion_sistolica  \\\n",
       "0             0         0             195.0              106.0   \n",
       "1             0         0             250.0              121.0   \n",
       "2             0         0             245.0              127.5   \n",
       "3             1         0             225.0              150.0   \n",
       "4             0         0             285.0              130.0   \n",
       "\n",
       "   Presion_Diastolica    IMC  Frecuencia_Cardiaca  Glicemia  \\\n",
       "0                70.0  26.97                 80.0      77.0   \n",
       "1                81.0  28.73                 95.0      76.0   \n",
       "2                80.0  25.34                 75.0      70.0   \n",
       "3                95.0  28.58                 65.0     103.0   \n",
       "4                84.0  23.10                 85.0      85.0   \n",
       "\n",
       "   Reizgo_EAC_decada Categoria_fumador  \n",
       "0                  0                 0  \n",
       "1                  0                 0  \n",
       "2                  0                 2  \n",
       "3                  1                 3  \n",
       "4                  0                 3  "
      ]
     },
     "execution_count": 154,
     "metadata": {},
     "output_type": "execute_result"
    }
   ],
   "source": [
    "data.head()"
   ]
  },
  {
   "cell_type": "code",
   "execution_count": 157,
   "id": "870b1012",
   "metadata": {},
   "outputs": [
    {
     "data": {
      "application/javascript": "(function(root) {\n  function now() {\n    return new Date();\n  }\n\n  const force = true;\n\n  if (typeof root._bokeh_onload_callbacks === \"undefined\" || force === true) {\n    root._bokeh_onload_callbacks = [];\n    root._bokeh_is_loading = undefined;\n  }\n\nconst JS_MIME_TYPE = 'application/javascript';\n  const HTML_MIME_TYPE = 'text/html';\n  const EXEC_MIME_TYPE = 'application/vnd.bokehjs_exec.v0+json';\n  const CLASS_NAME = 'output_bokeh rendered_html';\n\n  /**\n   * Render data to the DOM node\n   */\n  function render(props, node) {\n    const script = document.createElement(\"script\");\n    node.appendChild(script);\n  }\n\n  /**\n   * Handle when an output is cleared or removed\n   */\n  function handleClearOutput(event, handle) {\n    const cell = handle.cell;\n\n    const id = cell.output_area._bokeh_element_id;\n    const server_id = cell.output_area._bokeh_server_id;\n    // Clean up Bokeh references\n    if (id != null && id in Bokeh.index) {\n      Bokeh.index[id].model.document.clear();\n      delete Bokeh.index[id];\n    }\n\n    if (server_id !== undefined) {\n      // Clean up Bokeh references\n      const cmd_clean = \"from bokeh.io.state import curstate; print(curstate().uuid_to_server['\" + server_id + \"'].get_sessions()[0].document.roots[0]._id)\";\n      cell.notebook.kernel.execute(cmd_clean, {\n        iopub: {\n          output: function(msg) {\n            const id = msg.content.text.trim();\n            if (id in Bokeh.index) {\n              Bokeh.index[id].model.document.clear();\n              delete Bokeh.index[id];\n            }\n          }\n        }\n      });\n      // Destroy server and session\n      const cmd_destroy = \"import bokeh.io.notebook as ion; ion.destroy_server('\" + server_id + \"')\";\n      cell.notebook.kernel.execute(cmd_destroy);\n    }\n  }\n\n  /**\n   * Handle when a new output is added\n   */\n  function handleAddOutput(event, handle) {\n    const output_area = handle.output_area;\n    const output = handle.output;\n\n    // limit handleAddOutput to display_data with EXEC_MIME_TYPE content only\n    if ((output.output_type != \"display_data\") || (!Object.prototype.hasOwnProperty.call(output.data, EXEC_MIME_TYPE))) {\n      return\n    }\n\n    const toinsert = output_area.element.find(\".\" + CLASS_NAME.split(' ')[0]);\n\n    if (output.metadata[EXEC_MIME_TYPE][\"id\"] !== undefined) {\n      toinsert[toinsert.length - 1].firstChild.textContent = output.data[JS_MIME_TYPE];\n      // store reference to embed id on output_area\n      output_area._bokeh_element_id = output.metadata[EXEC_MIME_TYPE][\"id\"];\n    }\n    if (output.metadata[EXEC_MIME_TYPE][\"server_id\"] !== undefined) {\n      const bk_div = document.createElement(\"div\");\n      bk_div.innerHTML = output.data[HTML_MIME_TYPE];\n      const script_attrs = bk_div.children[0].attributes;\n      for (let i = 0; i < script_attrs.length; i++) {\n        toinsert[toinsert.length - 1].firstChild.setAttribute(script_attrs[i].name, script_attrs[i].value);\n        toinsert[toinsert.length - 1].firstChild.textContent = bk_div.children[0].textContent\n      }\n      // store reference to server id on output_area\n      output_area._bokeh_server_id = output.metadata[EXEC_MIME_TYPE][\"server_id\"];\n    }\n  }\n\n  function register_renderer(events, OutputArea) {\n\n    function append_mime(data, metadata, element) {\n      // create a DOM node to render to\n      const toinsert = this.create_output_subarea(\n        metadata,\n        CLASS_NAME,\n        EXEC_MIME_TYPE\n      );\n      this.keyboard_manager.register_events(toinsert);\n      // Render to node\n      const props = {data: data, metadata: metadata[EXEC_MIME_TYPE]};\n      render(props, toinsert[toinsert.length - 1]);\n      element.append(toinsert);\n      return toinsert\n    }\n\n    /* Handle when an output is cleared or removed */\n    events.on('clear_output.CodeCell', handleClearOutput);\n    events.on('delete.Cell', handleClearOutput);\n\n    /* Handle when a new output is added */\n    events.on('output_added.OutputArea', handleAddOutput);\n\n    /**\n     * Register the mime type and append_mime function with output_area\n     */\n    OutputArea.prototype.register_mime_type(EXEC_MIME_TYPE, append_mime, {\n      /* Is output safe? */\n      safe: true,\n      /* Index of renderer in `output_area.display_order` */\n      index: 0\n    });\n  }\n\n  // register the mime type if in Jupyter Notebook environment and previously unregistered\n  if (root.Jupyter !== undefined) {\n    const events = require('base/js/events');\n    const OutputArea = require('notebook/js/outputarea').OutputArea;\n\n    if (OutputArea.prototype.mime_types().indexOf(EXEC_MIME_TYPE) == -1) {\n      register_renderer(events, OutputArea);\n    }\n  }\n  if (typeof (root._bokeh_timeout) === \"undefined\" || force === true) {\n    root._bokeh_timeout = Date.now() + 5000;\n    root._bokeh_failed_load = false;\n  }\n\n  const NB_LOAD_WARNING = {'data': {'text/html':\n     \"<div style='background-color: #fdd'>\\n\"+\n     \"<p>\\n\"+\n     \"BokehJS does not appear to have successfully loaded. If loading BokehJS from CDN, this \\n\"+\n     \"may be due to a slow or bad network connection. Possible fixes:\\n\"+\n     \"</p>\\n\"+\n     \"<ul>\\n\"+\n     \"<li>re-rerun `output_notebook()` to attempt to load from CDN again, or</li>\\n\"+\n     \"<li>use INLINE resources instead, as so:</li>\\n\"+\n     \"</ul>\\n\"+\n     \"<code>\\n\"+\n     \"from bokeh.resources import INLINE\\n\"+\n     \"output_notebook(resources=INLINE)\\n\"+\n     \"</code>\\n\"+\n     \"</div>\"}};\n\n  function display_loaded() {\n    const el = document.getElementById(\"1583\");\n    if (el != null) {\n      el.textContent = \"BokehJS is loading...\";\n    }\n    if (root.Bokeh !== undefined) {\n      if (el != null) {\n        el.textContent = \"BokehJS \" + root.Bokeh.version + \" successfully loaded.\";\n      }\n    } else if (Date.now() < root._bokeh_timeout) {\n      setTimeout(display_loaded, 100)\n    }\n  }\n\n  function run_callbacks() {\n    try {\n      root._bokeh_onload_callbacks.forEach(function(callback) {\n        if (callback != null)\n          callback();\n      });\n    } finally {\n      delete root._bokeh_onload_callbacks\n    }\n    console.debug(\"Bokeh: all callbacks have finished\");\n  }\n\n  function load_libs(css_urls, js_urls, callback) {\n    if (css_urls == null) css_urls = [];\n    if (js_urls == null) js_urls = [];\n\n    root._bokeh_onload_callbacks.push(callback);\n    if (root._bokeh_is_loading > 0) {\n      console.debug(\"Bokeh: BokehJS is being loaded, scheduling callback at\", now());\n      return null;\n    }\n    if (js_urls == null || js_urls.length === 0) {\n      run_callbacks();\n      return null;\n    }\n    console.debug(\"Bokeh: BokehJS not loaded, scheduling load and callback at\", now());\n    root._bokeh_is_loading = css_urls.length + js_urls.length;\n\n    function on_load() {\n      root._bokeh_is_loading--;\n      if (root._bokeh_is_loading === 0) {\n        console.debug(\"Bokeh: all BokehJS libraries/stylesheets loaded\");\n        run_callbacks()\n      }\n    }\n\n    function on_error(url) {\n      console.error(\"failed to load \" + url);\n    }\n\n    for (let i = 0; i < css_urls.length; i++) {\n      const url = css_urls[i];\n      const element = document.createElement(\"link\");\n      element.onload = on_load;\n      element.onerror = on_error.bind(null, url);\n      element.rel = \"stylesheet\";\n      element.type = \"text/css\";\n      element.href = url;\n      console.debug(\"Bokeh: injecting link tag for BokehJS stylesheet: \", url);\n      document.body.appendChild(element);\n    }\n\n    for (let i = 0; i < js_urls.length; i++) {\n      const url = js_urls[i];\n      const element = document.createElement('script');\n      element.onload = on_load;\n      element.onerror = on_error.bind(null, url);\n      element.async = false;\n      element.src = url;\n      console.debug(\"Bokeh: injecting script tag for BokehJS library: \", url);\n      document.head.appendChild(element);\n    }\n  };\n\n  function inject_raw_css(css) {\n    const element = document.createElement(\"style\");\n    element.appendChild(document.createTextNode(css));\n    document.body.appendChild(element);\n  }\n\n  const js_urls = [\"https://cdn.bokeh.org/bokeh/release/bokeh-2.4.3.min.js\", \"https://cdn.bokeh.org/bokeh/release/bokeh-gl-2.4.3.min.js\", \"https://cdn.bokeh.org/bokeh/release/bokeh-widgets-2.4.3.min.js\", \"https://cdn.bokeh.org/bokeh/release/bokeh-tables-2.4.3.min.js\", \"https://cdn.bokeh.org/bokeh/release/bokeh-mathjax-2.4.3.min.js\"];\n  const css_urls = [];\n\n  const inline_js = [    function(Bokeh) {\n      Bokeh.set_log_level(\"info\");\n    },\nfunction(Bokeh) {\n    }\n  ];\n\n  function run_inline_js() {\n    if (root.Bokeh !== undefined || force === true) {\n          for (let i = 0; i < inline_js.length; i++) {\n      inline_js[i].call(root, root.Bokeh);\n    }\nif (force === true) {\n        display_loaded();\n      }} else if (Date.now() < root._bokeh_timeout) {\n      setTimeout(run_inline_js, 100);\n    } else if (!root._bokeh_failed_load) {\n      console.log(\"Bokeh: BokehJS failed to load within specified timeout.\");\n      root._bokeh_failed_load = true;\n    } else if (force !== true) {\n      const cell = $(document.getElementById(\"1583\")).parents('.cell').data().cell;\n      cell.output_area.append_execute_result(NB_LOAD_WARNING)\n    }\n  }\n\n  if (root._bokeh_is_loading === 0) {\n    console.debug(\"Bokeh: BokehJS loaded, going straight to plotting\");\n    run_inline_js();\n  } else {\n    load_libs(css_urls, js_urls, function() {\n      console.debug(\"Bokeh: BokehJS plotting callback run at\", now());\n      run_inline_js();\n    });\n  }\n}(window));",
      "application/vnd.bokehjs_load.v0+json": ""
     },
     "metadata": {},
     "output_type": "display_data"
    },
    {
     "data": {
      "application/javascript": "(function(root) {\n  function embed_document(root) {\n  const docs_json = {\"73025b12-a52a-4f46-8c0b-e428bc337ac2\":{\"defs\":[],\"roots\":{\"references\":[{\"attributes\":{\"tabs\":[{\"id\":\"1628\"},{\"id\":\"1662\"},{\"id\":\"1696\"}]},\"id\":\"1697\",\"type\":\"Tabs\"},{\"attributes\":{\"axis\":{\"id\":\"1678\"},\"coordinates\":null,\"dimension\":1,\"group\":null,\"ticker\":null},\"id\":\"1681\",\"type\":\"Grid\"},{\"attributes\":{\"tools\":[{\"id\":\"1682\"},{\"id\":\"1683\"},{\"id\":\"1684\"},{\"id\":\"1685\"},{\"id\":\"1686\"},{\"id\":\"1687\"}]},\"id\":\"1689\",\"type\":\"Toolbar\"},{\"attributes\":{},\"id\":\"1763\",\"type\":\"BasicTickFormatter\"},{\"attributes\":{},\"id\":\"1675\",\"type\":\"BasicTicker\"},{\"attributes\":{},\"id\":\"1683\",\"type\":\"WheelZoomTool\"},{\"attributes\":{},\"id\":\"1687\",\"type\":\"HelpTool\"},{\"attributes\":{},\"id\":\"1761\",\"type\":\"AllLabels\"},{\"attributes\":{\"coordinates\":null,\"formatter\":{\"id\":\"1772\"},\"group\":null,\"major_label_policy\":{\"id\":\"1773\"},\"ticker\":{\"id\":\"1675\"}},\"id\":\"1674\",\"type\":\"LinearAxis\"},{\"attributes\":{},\"id\":\"1764\",\"type\":\"AllLabels\"},{\"attributes\":{\"child\":{\"id\":\"1629\"},\"title\":\"Category vs Category\"},\"id\":\"1662\",\"type\":\"Panel\"},{\"attributes\":{},\"id\":\"1672\",\"type\":\"LinearScale\"},{\"attributes\":{\"high\":1,\"low\":-1,\"palette\":[\"#f7fcfd\",\"#f6fbfd\",\"#f6fbfc\",\"#f5fafc\",\"#f4fafc\",\"#f3f9fc\",\"#f3f9fb\",\"#f2f8fb\",\"#f1f8fb\",\"#f1f7fa\",\"#f0f7fa\",\"#eff6fa\",\"#eef6fa\",\"#eef5f9\",\"#edf5f9\",\"#ecf4f9\",\"#ebf4f8\",\"#ebf3f8\",\"#eaf3f8\",\"#e9f2f8\",\"#e9f2f7\",\"#e8f1f7\",\"#e7f1f7\",\"#e6f0f7\",\"#e6f0f6\",\"#e5eff6\",\"#e4eff6\",\"#e4eef5\",\"#e3eef5\",\"#e2edf5\",\"#e1edf5\",\"#e1ecf4\",\"#e0ecf4\",\"#dfebf4\",\"#deeaf3\",\"#ddeaf3\",\"#dce9f2\",\"#dbe8f2\",\"#dae7f1\",\"#d9e6f1\",\"#d8e6f0\",\"#d7e5f0\",\"#d6e4f0\",\"#d4e3ef\",\"#d3e2ef\",\"#d2e2ee\",\"#d1e1ee\",\"#d0e0ed\",\"#cfdfed\",\"#cedfec\",\"#cddeec\",\"#ccddec\",\"#cbdceb\",\"#cadbeb\",\"#c9dbea\",\"#c8daea\",\"#c7d9e9\",\"#c6d8e9\",\"#c5d8e9\",\"#c4d7e8\",\"#c3d6e8\",\"#c2d5e7\",\"#c1d4e7\",\"#c0d4e6\",\"#bfd3e6\",\"#bed2e6\",\"#bdd1e5\",\"#bcd1e5\",\"#bbd0e4\",\"#bacfe4\",\"#b9cee4\",\"#b7cee3\",\"#b6cde3\",\"#b5cce3\",\"#b4cce2\",\"#b3cbe2\",\"#b2cae1\",\"#b1c9e1\",\"#b0c9e1\",\"#afc8e0\",\"#aec7e0\",\"#adc7e0\",\"#acc6df\",\"#abc5df\",\"#aac4de\",\"#a9c4de\",\"#a8c3de\",\"#a7c2dd\",\"#a6c2dd\",\"#a5c1dc\",\"#a4c0dc\",\"#a3bfdc\",\"#a2bfdb\",\"#a1bedb\",\"#a0bddb\",\"#9fbcda\",\"#9ebcda\",\"#9dbad9\",\"#9db9d9\",\"#9cb8d8\",\"#9cb7d7\",\"#9bb6d7\",\"#9ab4d6\",\"#9ab3d5\",\"#99b2d5\",\"#99b1d4\",\"#98b0d3\",\"#98aed3\",\"#97add2\",\"#96acd2\",\"#96abd1\",\"#95aad0\",\"#95a8d0\",\"#94a7cf\",\"#94a6ce\",\"#93a5ce\",\"#92a4cd\",\"#92a3cd\",\"#91a1cc\",\"#91a0cb\",\"#909fcb\",\"#909eca\",\"#8f9dc9\",\"#8f9bc9\",\"#8e9ac8\",\"#8d99c8\",\"#8d98c7\",\"#8c97c6\",\"#8c95c6\",\"#8c94c5\",\"#8c93c4\",\"#8c91c4\",\"#8c90c3\",\"#8c8fc2\",\"#8c8dc2\",\"#8c8cc1\",\"#8c8bc0\",\"#8c89c0\",\"#8c88bf\",\"#8c86be\",\"#8c85be\",\"#8c84bd\",\"#8c82bc\",\"#8c81bc\",\"#8c80bb\",\"#8c7eba\",\"#8c7dba\",\"#8c7cb9\",\"#8c7ab8\",\"#8c79b8\",\"#8c78b7\",\"#8c76b7\",\"#8c75b6\",\"#8c74b5\",\"#8c72b5\",\"#8c71b4\",\"#8c70b3\",\"#8c6eb3\",\"#8c6db2\",\"#8c6cb1\",\"#8c6ab1\",\"#8c69b0\",\"#8c68af\",\"#8c66af\",\"#8b65ae\",\"#8b64ad\",\"#8b62ad\",\"#8b61ac\",\"#8b60ac\",\"#8b5eab\",\"#8b5daa\",\"#8b5caa\",\"#8a5aa9\",\"#8a59a8\",\"#8a58a8\",\"#8a56a7\",\"#8a55a7\",\"#8a54a6\",\"#8a52a5\",\"#8a51a5\",\"#8950a4\",\"#894fa3\",\"#894da3\",\"#894ca2\",\"#894ba2\",\"#8949a1\",\"#8948a0\",\"#8947a0\",\"#88459f\",\"#88449e\",\"#88439e\",\"#88419d\",\"#88409c\",\"#883e9b\",\"#873d9a\",\"#873b99\",\"#873a98\",\"#873897\",\"#873696\",\"#863595\",\"#863394\",\"#863293\",\"#863092\",\"#852f91\",\"#852d90\",\"#852b8f\",\"#852a8e\",\"#85288d\",\"#84278c\",\"#84258b\",\"#84248a\",\"#842289\",\"#832088\",\"#831f86\",\"#831d85\",\"#831c84\",\"#831a83\",\"#821982\",\"#821781\",\"#821580\",\"#82147f\",\"#81127e\",\"#81117d\",\"#810f7c\",\"#800f7b\",\"#7e0e79\",\"#7c0e78\",\"#7b0d76\",\"#790d75\",\"#770c73\",\"#760c71\",\"#740b70\",\"#730b6e\",\"#710a6d\",\"#6f0a6b\",\"#6e096a\",\"#6c0968\",\"#6a0867\",\"#690865\",\"#670864\",\"#650762\",\"#640761\",\"#62065f\",\"#61065d\",\"#5f055c\",\"#5d055a\",\"#5c0459\",\"#5a0457\",\"#580356\",\"#570354\",\"#550253\",\"#540251\",\"#520150\",\"#50014e\",\"#4f004d\",\"#4d004b\"]},\"id\":\"1584\",\"type\":\"LinearColorMapper\"},{\"attributes\":{},\"id\":\"1670\",\"type\":\"LinearScale\"},{\"attributes\":{\"below\":[{\"id\":\"1640\"}],\"center\":[{\"id\":\"1643\"},{\"id\":\"1647\"}],\"left\":[{\"id\":\"1644\"}],\"title\":{\"id\":\"1630\"},\"toolbar\":{\"id\":\"1655\"},\"x_range\":{\"id\":\"1632\"},\"x_scale\":{\"id\":\"1636\"},\"y_range\":{\"id\":\"1634\"},\"y_scale\":{\"id\":\"1638\"}},\"id\":\"1629\",\"subtype\":\"Figure\",\"type\":\"Plot\"},{\"attributes\":{\"below\":[{\"id\":\"1597\"}],\"center\":[{\"id\":\"1599\"},{\"id\":\"1602\"}],\"left\":[{\"id\":\"1600\"}],\"renderers\":[{\"id\":\"1621\"}],\"right\":[{\"id\":\"1627\"}],\"title\":{\"id\":\"1587\"},\"toolbar\":{\"id\":\"1610\"},\"toolbar_location\":\"below\",\"toolbar_sticky\":false,\"x_range\":{\"id\":\"1589\"},\"x_scale\":{\"id\":\"1593\"},\"y_range\":{\"id\":\"1591\"},\"y_scale\":{\"id\":\"1595\"}},\"id\":\"1586\",\"subtype\":\"Figure\",\"type\":\"Plot\"},{\"attributes\":{},\"id\":\"1760\",\"type\":\"CategoricalTickFormatter\"},{\"attributes\":{},\"id\":\"1682\",\"type\":\"PanTool\"},{\"attributes\":{},\"id\":\"1668\",\"type\":\"DataRange1d\"},{\"attributes\":{},\"id\":\"1770\",\"type\":\"AllLabels\"},{\"attributes\":{\"coordinates\":null,\"formatter\":{\"id\":\"1769\"},\"group\":null,\"major_label_policy\":{\"id\":\"1770\"},\"ticker\":{\"id\":\"1679\"}},\"id\":\"1678\",\"type\":\"LinearAxis\"},{\"attributes\":{},\"id\":\"1769\",\"type\":\"BasicTickFormatter\"},{\"attributes\":{\"bottom_units\":\"screen\",\"coordinates\":null,\"fill_alpha\":0.5,\"fill_color\":\"lightgrey\",\"group\":null,\"left_units\":\"screen\",\"level\":\"overlay\",\"line_alpha\":1.0,\"line_color\":\"black\",\"line_dash\":[4,4],\"line_width\":2,\"right_units\":\"screen\",\"syncable\":false,\"top_units\":\"screen\"},\"id\":\"1688\",\"type\":\"BoxAnnotation\"},{\"attributes\":{},\"id\":\"1652\",\"type\":\"ResetTool\"},{\"attributes\":{},\"id\":\"1767\",\"type\":\"AllLabels\"},{\"attributes\":{\"overlay\":{\"id\":\"1688\"}},\"id\":\"1684\",\"type\":\"BoxZoomTool\"},{\"attributes\":{\"data\":{\"corr\":{\"__ndarray__\":\"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\",\"dtype\":\"float64\",\"order\":\"little\",\"shape\":[225]},\"index\":[0,1,2,3,4,5,6,7,8,9,10,11,12,13,14,15,16,17,18,19,20,21,22,23,24,25,26,27,28,29,30,31,32,33,34,35,36,37,38,39,40,41,42,43,44,45,46,47,48,49,50,51,52,53,54,55,56,57,58,59,60,61,62,63,64,65,66,67,68,69,70,71,72,73,74,75,76,77,78,79,80,81,82,83,84,85,86,87,88,89,90,91,92,93,94,95,96,97,98,99,100,101,102,103,104,105,106,107,108,109,110,111,112,113,114,115,116,117,118,119,120,121,122,123,124,125,126,127,128,129,130,131,132,133,134,135,136,137,138,139,140,141,142,143,144,145,146,147,148,149,150,151,152,153,154,155,156,157,158,159,160,161,162,163,164,165,166,167,168,169,170,171,172,173,174,175,176,177,178,179,180,181,182,183,184,185,186,187,188,189,190,191,192,193,194,195,196,197,198,199,200,201,202,203,204,205,206,207,208,209,210,211,212,213,214,215,216,217,218,219,220,221,222,223,224],\"x\":[\"Colesterol_total\",\"Fumador\",\"Frecuencia_Cardiaca\",\"Presion_Diastolica\",\"Cigarrillos_por_dia\",\"Sexo\",\"Glicemia\",\"Hipertension\",\"IMC\",\"ACV\",\"Edad\",\"Presion_sistolica\",\"Medicamentos_presion\",\"Diabetes\",\"Reizgo_EAC_decada\",\"Colesterol_total\",\"Fumador\",\"Frecuencia_Cardiaca\",\"Presion_Diastolica\",\"Cigarrillos_por_dia\",\"Sexo\",\"Glicemia\",\"Hipertension\",\"IMC\",\"ACV\",\"Edad\",\"Presion_sistolica\",\"Medicamentos_presion\",\"Diabetes\",\"Reizgo_EAC_decada\",\"Colesterol_total\",\"Fumador\",\"Frecuencia_Cardiaca\",\"Presion_Diastolica\",\"Cigarrillos_por_dia\",\"Sexo\",\"Glicemia\",\"Hipertension\",\"IMC\",\"ACV\",\"Edad\",\"Presion_sistolica\",\"Medicamentos_presion\",\"Diabetes\",\"Reizgo_EAC_decada\",\"Colesterol_total\",\"Fumador\",\"Frecuencia_Cardiaca\",\"Presion_Diastolica\",\"Cigarrillos_por_dia\",\"Sexo\",\"Glicemia\",\"Hipertension\",\"IMC\",\"ACV\",\"Edad\",\"Presion_sistolica\",\"Medicamentos_presion\",\"Diabetes\",\"Reizgo_EAC_decada\",\"Colesterol_total\",\"Fumador\",\"Frecuencia_Cardiaca\",\"Presion_Diastolica\",\"Cigarrillos_por_dia\",\"Sexo\",\"Glicemia\",\"Hipertension\",\"IMC\",\"ACV\",\"Edad\",\"Presion_sistolica\",\"Medicamentos_presion\",\"Diabetes\",\"Reizgo_EAC_decada\",\"Colesterol_total\",\"Fumador\",\"Frecuencia_Cardiaca\",\"Presion_Diastolica\",\"Cigarrillos_por_dia\",\"Sexo\",\"Glicemia\",\"Hipertension\",\"IMC\",\"ACV\",\"Edad\",\"Presion_sistolica\",\"Medicamentos_presion\",\"Diabetes\",\"Reizgo_EAC_decada\",\"Colesterol_total\",\"Fumador\",\"Frecuencia_Cardiaca\",\"Presion_Diastolica\",\"Cigarrillos_por_dia\",\"Sexo\",\"Glicemia\",\"Hipertension\",\"IMC\",\"ACV\",\"Edad\",\"Presion_sistolica\",\"Medicamentos_presion\",\"Diabetes\",\"Reizgo_EAC_decada\",\"Colesterol_total\",\"Fumador\",\"Frecuencia_Cardiaca\",\"Presion_Diastolica\",\"Cigarrillos_por_dia\",\"Sexo\",\"Glicemia\",\"Hipertension\",\"IMC\",\"ACV\",\"Edad\",\"Presion_sistolica\",\"Medicamentos_presion\",\"Diabetes\",\"Reizgo_EAC_decada\",\"Colesterol_total\",\"Fumador\",\"Frecuencia_Cardiaca\",\"Presion_Diastolica\",\"Cigarrillos_por_dia\",\"Sexo\",\"Glicemia\",\"Hipertension\",\"IMC\",\"ACV\",\"Edad\",\"Presion_sistolica\",\"Medicamentos_presion\",\"Diabetes\",\"Reizgo_EAC_decada\",\"Colesterol_total\",\"Fumador\",\"Frecuencia_Cardiaca\",\"Presion_Diastolica\",\"Cigarrillos_por_dia\",\"Sexo\",\"Glicemia\",\"Hipertension\",\"IMC\",\"ACV\",\"Edad\",\"Presion_sistolica\",\"Medicamentos_presion\",\"Diabetes\",\"Reizgo_EAC_decada\",\"Colesterol_total\",\"Fumador\",\"Frecuencia_Cardiaca\",\"Presion_Diastolica\",\"Cigarrillos_por_dia\",\"Sexo\",\"Glicemia\",\"Hipertension\",\"IMC\",\"ACV\",\"Edad\",\"Presion_sistolica\",\"Medicamentos_presion\",\"Diabetes\",\"Reizgo_EAC_decada\",\"Colesterol_total\",\"Fumador\",\"Frecuencia_Cardiaca\",\"Presion_Diastolica\",\"Cigarrillos_por_dia\",\"Sexo\",\"Glicemia\",\"Hipertension\",\"IMC\",\"ACV\",\"Edad\",\"Presion_sistolica\",\"Medicamentos_presion\",\"Diabetes\",\"Reizgo_EAC_decada\",\"Colesterol_total\",\"Fumador\",\"Frecuencia_Cardiaca\",\"Presion_Diastolica\",\"Cigarrillos_por_dia\",\"Sexo\",\"Glicemia\",\"Hipertension\",\"IMC\",\"ACV\",\"Edad\",\"Presion_sistolica\",\"Medicamentos_presion\",\"Diabetes\",\"Reizgo_EAC_decada\",\"Colesterol_total\",\"Fumador\",\"Frecuencia_Cardiaca\",\"Presion_Diastolica\",\"Cigarrillos_por_dia\",\"Sexo\",\"Glicemia\",\"Hipertension\",\"IMC\",\"ACV\",\"Edad\",\"Presion_sistolica\",\"Medicamentos_presion\",\"Diabetes\",\"Reizgo_EAC_decada\",\"Colesterol_total\",\"Fumador\",\"Frecuencia_Cardiaca\",\"Presion_Diastolica\",\"Cigarrillos_por_dia\",\"Sexo\",\"Glicemia\",\"Hipertension\",\"IMC\",\"ACV\",\"Edad\",\"Presion_sistolica\",\"Medicamentos_presion\",\"Diabetes\",\"Reizgo_EAC_decada\"],\"y\":[\"Colesterol_total\",\"Colesterol_total\",\"Colesterol_total\",\"Colesterol_total\",\"Colesterol_total\",\"Colesterol_total\",\"Colesterol_total\",\"Colesterol_total\",\"Colesterol_total\",\"Colesterol_total\",\"Colesterol_total\",\"Colesterol_total\",\"Colesterol_total\",\"Colesterol_total\",\"Colesterol_total\",\"Fumador\",\"Fumador\",\"Fumador\",\"Fumador\",\"Fumador\",\"Fumador\",\"Fumador\",\"Fumador\",\"Fumador\",\"Fumador\",\"Fumador\",\"Fumador\",\"Fumador\",\"Fumador\",\"Fumador\",\"Frecuencia_Cardiaca\",\"Frecuencia_Cardiaca\",\"Frecuencia_Cardiaca\",\"Frecuencia_Cardiaca\",\"Frecuencia_Cardiaca\",\"Frecuencia_Cardiaca\",\"Frecuencia_Cardiaca\",\"Frecuencia_Cardiaca\",\"Frecuencia_Cardiaca\",\"Frecuencia_Cardiaca\",\"Frecuencia_Cardiaca\",\"Frecuencia_Cardiaca\",\"Frecuencia_Cardiaca\",\"Frecuencia_Cardiaca\",\"Frecuencia_Cardiaca\",\"Presion_Diastolica\",\"Presion_Diastolica\",\"Presion_Diastolica\",\"Presion_Diastolica\",\"Presion_Diastolica\",\"Presion_Diastolica\",\"Presion_Diastolica\",\"Presion_Diastolica\",\"Presion_Diastolica\",\"Presion_Diastolica\",\"Presion_Diastolica\",\"Presion_Diastolica\",\"Presion_Diastolica\",\"Presion_Diastolica\",\"Presion_Diastolica\",\"Cigarrillos_por_dia\",\"Cigarrillos_por_dia\",\"Cigarrillos_por_dia\",\"Cigarrillos_por_dia\",\"Cigarrillos_por_dia\",\"Cigarrillos_por_dia\",\"Cigarrillos_por_dia\",\"Cigarrillos_por_dia\",\"Cigarrillos_por_dia\",\"Cigarrillos_por_dia\",\"Cigarrillos_por_dia\",\"Cigarrillos_por_dia\",\"Cigarrillos_por_dia\",\"Cigarrillos_por_dia\",\"Cigarrillos_por_dia\",\"Sexo\",\"Sexo\",\"Sexo\",\"Sexo\",\"Sexo\",\"Sexo\",\"Sexo\",\"Sexo\",\"Sexo\",\"Sexo\",\"Sexo\",\"Sexo\",\"Sexo\",\"Sexo\",\"Sexo\",\"Glicemia\",\"Glicemia\",\"Glicemia\",\"Glicemia\",\"Glicemia\",\"Glicemia\",\"Glicemia\",\"Glicemia\",\"Glicemia\",\"Glicemia\",\"Glicemia\",\"Glicemia\",\"Glicemia\",\"Glicemia\",\"Glicemia\",\"Hipertension\",\"Hipertension\",\"Hipertension\",\"Hipertension\",\"Hipertension\",\"Hipertension\",\"Hipertension\",\"Hipertension\",\"Hipertension\",\"Hipertension\",\"Hipertension\",\"Hipertension\",\"Hipertension\",\"Hipertension\",\"Hipertension\",\"IMC\",\"IMC\",\"IMC\",\"IMC\",\"IMC\",\"IMC\",\"IMC\",\"IMC\",\"IMC\",\"IMC\",\"IMC\",\"IMC\",\"IMC\",\"IMC\",\"IMC\",\"ACV\",\"ACV\",\"ACV\",\"ACV\",\"ACV\",\"ACV\",\"ACV\",\"ACV\",\"ACV\",\"ACV\",\"ACV\",\"ACV\",\"ACV\",\"ACV\",\"ACV\",\"Edad\",\"Edad\",\"Edad\",\"Edad\",\"Edad\",\"Edad\",\"Edad\",\"Edad\",\"Edad\",\"Edad\",\"Edad\",\"Edad\",\"Edad\",\"Edad\",\"Edad\",\"Presion_sistolica\",\"Presion_sistolica\",\"Presion_sistolica\",\"Presion_sistolica\",\"Presion_sistolica\",\"Presion_sistolica\",\"Presion_sistolica\",\"Presion_sistolica\",\"Presion_sistolica\",\"Presion_sistolica\",\"Presion_sistolica\",\"Presion_sistolica\",\"Presion_sistolica\",\"Presion_sistolica\",\"Presion_sistolica\",\"Medicamentos_presion\",\"Medicamentos_presion\",\"Medicamentos_presion\",\"Medicamentos_presion\",\"Medicamentos_presion\",\"Medicamentos_presion\",\"Medicamentos_presion\",\"Medicamentos_presion\",\"Medicamentos_presion\",\"Medicamentos_presion\",\"Medicamentos_presion\",\"Medicamentos_presion\",\"Medicamentos_presion\",\"Medicamentos_presion\",\"Medicamentos_presion\",\"Diabetes\",\"Diabetes\",\"Diabetes\",\"Diabetes\",\"Diabetes\",\"Diabetes\",\"Diabetes\",\"Diabetes\",\"Diabetes\",\"Diabetes\",\"Diabetes\",\"Diabetes\",\"Diabetes\",\"Diabetes\",\"Diabetes\",\"Reizgo_EAC_decada\",\"Reizgo_EAC_decada\",\"Reizgo_EAC_decada\",\"Reizgo_EAC_decada\",\"Reizgo_EAC_decada\",\"Reizgo_EAC_decada\",\"Reizgo_EAC_decada\",\"Reizgo_EAC_decada\",\"Reizgo_EAC_decada\",\"Reizgo_EAC_decada\",\"Reizgo_EAC_decada\",\"Reizgo_EAC_decada\",\"Reizgo_EAC_decada\",\"Reizgo_EAC_decada\",\"Reizgo_EAC_decada\"]},\"selected\":{\"id\":\"1775\"},\"selection_policy\":{\"id\":\"1774\"}},\"id\":\"1585\",\"type\":\"ColumnDataSource\"},{\"attributes\":{},\"id\":\"1679\",\"type\":\"BasicTicker\"},{\"attributes\":{\"coordinates\":null,\"group\":null,\"text\":\"Pass in \\\"correlation ratio\\\" to show the plot, nothing to display\"},\"id\":\"1664\",\"type\":\"Title\"},{\"attributes\":{},\"id\":\"1685\",\"type\":\"SaveTool\"},{\"attributes\":{},\"id\":\"1686\",\"type\":\"ResetTool\"},{\"attributes\":{},\"id\":\"1653\",\"type\":\"HelpTool\"},{\"attributes\":{},\"id\":\"1766\",\"type\":\"BasicTickFormatter\"},{\"attributes\":{\"axis\":{\"id\":\"1674\"},\"coordinates\":null,\"group\":null,\"ticker\":null},\"id\":\"1677\",\"type\":\"Grid\"},{\"attributes\":{},\"id\":\"1649\",\"type\":\"WheelZoomTool\"},{\"attributes\":{},\"id\":\"1606\",\"type\":\"SaveTool\"},{\"attributes\":{\"overlay\":{\"id\":\"1654\"}},\"id\":\"1650\",\"type\":\"BoxZoomTool\"},{\"attributes\":{\"axis\":{\"id\":\"1644\"},\"coordinates\":null,\"dimension\":1,\"group\":null,\"ticker\":null},\"id\":\"1647\",\"type\":\"Grid\"},{\"attributes\":{\"fill_color\":{\"field\":\"corr\",\"transform\":{\"id\":\"1584\"}},\"height\":{\"value\":1},\"line_color\":{\"value\":null},\"width\":{\"value\":1},\"x\":{\"field\":\"x\"},\"y\":{\"field\":\"y\"}},\"id\":\"1618\",\"type\":\"Rect\"},{\"attributes\":{\"axis\":{\"id\":\"1640\"},\"coordinates\":null,\"group\":null,\"ticker\":null},\"id\":\"1643\",\"type\":\"Grid\"},{\"attributes\":{},\"id\":\"1774\",\"type\":\"UnionRenderers\"},{\"attributes\":{},\"id\":\"1645\",\"type\":\"BasicTicker\"},{\"attributes\":{\"factors\":[\"Colesterol_total\",\"Fumador\",\"Frecuencia_Cardiaca\",\"Presion_Diastolica\",\"Cigarrillos_por_dia\",\"Sexo\",\"Glicemia\",\"Hipertension\",\"IMC\",\"ACV\",\"Edad\",\"Presion_sistolica\",\"Medicamentos_presion\",\"Diabetes\",\"Reizgo_EAC_decada\"]},\"id\":\"1589\",\"type\":\"FactorRange\"},{\"attributes\":{\"tools\":[{\"id\":\"1603\"},{\"id\":\"1604\"},{\"id\":\"1605\"},{\"id\":\"1606\"},{\"id\":\"1607\"},{\"id\":\"1608\"},{\"id\":\"1623\"}]},\"id\":\"1610\",\"type\":\"Toolbar\"},{\"attributes\":{},\"id\":\"1775\",\"type\":\"Selection\"},{\"attributes\":{\"overlay\":{\"id\":\"1609\"}},\"id\":\"1605\",\"type\":\"BoxZoomTool\"},{\"attributes\":{\"coordinates\":null,\"formatter\":{\"id\":\"1756\"},\"group\":null,\"major_label_policy\":{\"id\":\"1757\"},\"ticker\":{\"id\":\"1601\"}},\"id\":\"1600\",\"type\":\"CategoricalAxis\"},{\"attributes\":{\"callback\":null,\"tooltips\":[[\"X\",\"@x\"],[\"Y\",\"@y\"],[\"Corr\",\"@corr\"]]},\"id\":\"1623\",\"type\":\"HoverTool\"},{\"attributes\":{\"child\":{\"id\":\"1586\"},\"title\":\"Continuous vs Continuous\"},\"id\":\"1628\",\"type\":\"Panel\"},{\"attributes\":{},\"id\":\"1598\",\"type\":\"CategoricalTicker\"},{\"attributes\":{},\"id\":\"1634\",\"type\":\"DataRange1d\"},{\"attributes\":{},\"id\":\"1638\",\"type\":\"LinearScale\"},{\"attributes\":{\"bottom_units\":\"screen\",\"coordinates\":null,\"fill_alpha\":0.5,\"fill_color\":\"lightgrey\",\"group\":null,\"left_units\":\"screen\",\"level\":\"overlay\",\"line_alpha\":1.0,\"line_color\":\"black\",\"line_dash\":[4,4],\"line_width\":2,\"right_units\":\"screen\",\"syncable\":false,\"top_units\":\"screen\"},\"id\":\"1609\",\"type\":\"BoxAnnotation\"},{\"attributes\":{},\"id\":\"1595\",\"type\":\"CategoricalScale\"},{\"attributes\":{},\"id\":\"1641\",\"type\":\"BasicTicker\"},{\"attributes\":{\"coordinates\":null,\"group\":null,\"text\":\"Pass in \\\"cramers v\\\" to show the plot, nothing to display\"},\"id\":\"1630\",\"type\":\"Title\"},{\"attributes\":{},\"id\":\"1773\",\"type\":\"AllLabels\"},{\"attributes\":{},\"id\":\"1757\",\"type\":\"AllLabels\"},{\"attributes\":{},\"id\":\"1593\",\"type\":\"CategoricalScale\"},{\"attributes\":{},\"id\":\"1604\",\"type\":\"WheelZoomTool\"},{\"attributes\":{},\"id\":\"1666\",\"type\":\"DataRange1d\"},{\"attributes\":{\"coordinates\":null,\"formatter\":{\"id\":\"1766\"},\"group\":null,\"major_label_policy\":{\"id\":\"1767\"},\"ticker\":{\"id\":\"1641\"}},\"id\":\"1640\",\"type\":\"LinearAxis\"},{\"attributes\":{\"coordinates\":null,\"formatter\":{\"id\":\"1760\"},\"group\":null,\"major_label_orientation\":\"vertical\",\"major_label_policy\":{\"id\":\"1761\"},\"ticker\":{\"id\":\"1598\"}},\"id\":\"1597\",\"type\":\"CategoricalAxis\"},{\"attributes\":{\"below\":[{\"id\":\"1674\"}],\"center\":[{\"id\":\"1677\"},{\"id\":\"1681\"}],\"left\":[{\"id\":\"1678\"}],\"title\":{\"id\":\"1664\"},\"toolbar\":{\"id\":\"1689\"},\"x_range\":{\"id\":\"1666\"},\"x_scale\":{\"id\":\"1670\"},\"y_range\":{\"id\":\"1668\"},\"y_scale\":{\"id\":\"1672\"}},\"id\":\"1663\",\"subtype\":\"Figure\",\"type\":\"Plot\"},{\"attributes\":{\"format\":\"%0.2f\"},\"id\":\"1626\",\"type\":\"PrintfTickFormatter\"},{\"attributes\":{},\"id\":\"1758\",\"type\":\"NoOverlap\"},{\"attributes\":{},\"id\":\"1636\",\"type\":\"LinearScale\"},{\"attributes\":{\"bottom_units\":\"screen\",\"coordinates\":null,\"fill_alpha\":0.5,\"fill_color\":\"lightgrey\",\"group\":null,\"left_units\":\"screen\",\"level\":\"overlay\",\"line_alpha\":1.0,\"line_color\":\"black\",\"line_dash\":[4,4],\"line_width\":2,\"right_units\":\"screen\",\"syncable\":false,\"top_units\":\"screen\"},\"id\":\"1654\",\"type\":\"BoxAnnotation\"},{\"attributes\":{},\"id\":\"1632\",\"type\":\"DataRange1d\"},{\"attributes\":{\"desired_num_ticks\":8},\"id\":\"1625\",\"type\":\"BasicTicker\"},{\"attributes\":{\"factors\":[\"Colesterol_total\",\"Fumador\",\"Frecuencia_Cardiaca\",\"Presion_Diastolica\",\"Cigarrillos_por_dia\",\"Sexo\",\"Glicemia\",\"Hipertension\",\"IMC\",\"ACV\",\"Edad\",\"Presion_sistolica\",\"Medicamentos_presion\",\"Diabetes\",\"Reizgo_EAC_decada\"]},\"id\":\"1591\",\"type\":\"FactorRange\"},{\"attributes\":{},\"id\":\"1603\",\"type\":\"PanTool\"},{\"attributes\":{\"color_mapper\":{\"id\":\"1584\"},\"coordinates\":null,\"formatter\":{\"id\":\"1626\"},\"group\":null,\"label_standoff\":6,\"location\":[0,0],\"major_label_policy\":{\"id\":\"1758\"},\"major_label_text_font_size\":\"5pt\",\"ticker\":{\"id\":\"1625\"}},\"id\":\"1627\",\"type\":\"ColorBar\"},{\"attributes\":{},\"id\":\"1648\",\"type\":\"PanTool\"},{\"attributes\":{\"axis\":{\"id\":\"1597\"},\"coordinates\":null,\"group\":null,\"ticker\":null},\"id\":\"1599\",\"type\":\"Grid\"},{\"attributes\":{\"child\":{\"id\":\"1663\"},\"title\":\"Category vs Continuous\"},\"id\":\"1696\",\"type\":\"Panel\"},{\"attributes\":{\"fill_alpha\":{\"value\":0.2},\"fill_color\":{\"field\":\"corr\",\"transform\":{\"id\":\"1584\"}},\"hatch_alpha\":{\"value\":0.2},\"height\":{\"value\":1},\"line_alpha\":{\"value\":0.2},\"line_color\":{\"value\":null},\"width\":{\"value\":1},\"x\":{\"field\":\"x\"},\"y\":{\"field\":\"y\"}},\"id\":\"1620\",\"type\":\"Rect\"},{\"attributes\":{\"coordinates\":null,\"formatter\":{\"id\":\"1763\"},\"group\":null,\"major_label_policy\":{\"id\":\"1764\"},\"ticker\":{\"id\":\"1645\"}},\"id\":\"1644\",\"type\":\"LinearAxis\"},{\"attributes\":{\"fill_alpha\":{\"value\":0.1},\"fill_color\":{\"field\":\"corr\",\"transform\":{\"id\":\"1584\"}},\"hatch_alpha\":{\"value\":0.1},\"height\":{\"value\":1},\"line_alpha\":{\"value\":0.1},\"line_color\":{\"value\":null},\"width\":{\"value\":1},\"x\":{\"field\":\"x\"},\"y\":{\"field\":\"y\"}},\"id\":\"1619\",\"type\":\"Rect\"},{\"attributes\":{},\"id\":\"1607\",\"type\":\"ResetTool\"},{\"attributes\":{\"coordinates\":null,\"data_source\":{\"id\":\"1585\"},\"glyph\":{\"id\":\"1618\"},\"group\":null,\"hover_glyph\":null,\"muted_glyph\":{\"id\":\"1620\"},\"nonselection_glyph\":{\"id\":\"1619\"},\"view\":{\"id\":\"1622\"}},\"id\":\"1621\",\"type\":\"GlyphRenderer\"},{\"attributes\":{},\"id\":\"1651\",\"type\":\"SaveTool\"},{\"attributes\":{},\"id\":\"1601\",\"type\":\"CategoricalTicker\"},{\"attributes\":{},\"id\":\"1772\",\"type\":\"BasicTickFormatter\"},{\"attributes\":{},\"id\":\"1608\",\"type\":\"HelpTool\"},{\"attributes\":{\"tools\":[{\"id\":\"1648\"},{\"id\":\"1649\"},{\"id\":\"1650\"},{\"id\":\"1651\"},{\"id\":\"1652\"},{\"id\":\"1653\"}]},\"id\":\"1655\",\"type\":\"Toolbar\"},{\"attributes\":{\"axis\":{\"id\":\"1600\"},\"coordinates\":null,\"dimension\":1,\"group\":null,\"ticker\":null},\"id\":\"1602\",\"type\":\"Grid\"},{\"attributes\":{\"coordinates\":null,\"group\":null,\"text\":\"Continuous vs Continuous\"},\"id\":\"1587\",\"type\":\"Title\"},{\"attributes\":{},\"id\":\"1756\",\"type\":\"CategoricalTickFormatter\"},{\"attributes\":{\"source\":{\"id\":\"1585\"}},\"id\":\"1622\",\"type\":\"CDSView\"}],\"root_ids\":[\"1697\"]},\"title\":\"Bokeh Application\",\"version\":\"2.4.3\"}};\n  const render_items = [{\"docid\":\"73025b12-a52a-4f46-8c0b-e428bc337ac2\",\"root_ids\":[\"1697\"],\"roots\":{\"1697\":\"99966d0c-5171-4322-a55a-53fbf4807752\"}}];\n  root.Bokeh.embed.embed_items_notebook(docs_json, render_items);\n  }\n  if (root.Bokeh !== undefined) {\n    embed_document(root);\n  } else {\n    let attempts = 0;\n    const timer = setInterval(function(root) {\n      if (root.Bokeh !== undefined) {\n        clearInterval(timer);\n        embed_document(root);\n      } else {\n        attempts++;\n        if (attempts > 100) {\n          clearInterval(timer);\n          console.log(\"Bokeh: ERROR: Unable to run BokehJS code because BokehJS library is missing\");\n        }\n      }\n    }, 10, root)\n  }\n})(window);",
      "application/vnd.bokehjs_exec.v0+json": ""
     },
     "metadata": {
      "application/vnd.bokehjs_exec.v0+json": {
       "id": "1697"
      }
     },
     "output_type": "display_data"
    },
    {
     "data": {
      "application/vnd.jupyter.widget-view+json": {
       "model_id": "161086def43d4047a0567ca70391cd49",
       "version_major": 2,
       "version_minor": 0
      },
      "text/plain": [
       "Accordion(children=(HTML(value='<h3>Type: ADSDataset</h3><h3>4,088 Rows, 16 Columns</h3><h4>Column Types:</h4>…"
      ]
     },
     "metadata": {},
     "output_type": "display_data"
    }
   ],
   "source": [
    "data.show_in_notebook()"
   ]
  },
  {
   "cell_type": "code",
   "execution_count": 158,
   "id": "03180deb",
   "metadata": {},
   "outputs": [
    {
     "data": {
      "text/html": [
       "<div>\n",
       "<style scoped>\n",
       "    .dataframe tbody tr th:only-of-type {\n",
       "        vertical-align: middle;\n",
       "    }\n",
       "\n",
       "    .dataframe tbody tr th {\n",
       "        vertical-align: top;\n",
       "    }\n",
       "\n",
       "    .dataframe thead th {\n",
       "        text-align: right;\n",
       "    }\n",
       "</style>\n",
       "<table border=\"1\" class=\"dataframe\">\n",
       "  <thead>\n",
       "    <tr style=\"text-align: right;\">\n",
       "      <th></th>\n",
       "      <th>Colesterol_total</th>\n",
       "      <th>Fumador</th>\n",
       "      <th>Frecuencia_Cardiaca</th>\n",
       "      <th>Presion_Diastolica</th>\n",
       "      <th>Cigarrillos_por_dia</th>\n",
       "      <th>Sexo</th>\n",
       "      <th>Glicemia</th>\n",
       "      <th>Hipertension</th>\n",
       "      <th>IMC</th>\n",
       "      <th>ACV</th>\n",
       "      <th>Edad</th>\n",
       "      <th>Presion_sistolica</th>\n",
       "      <th>Medicamentos_presion</th>\n",
       "      <th>Diabetes</th>\n",
       "      <th>Reizgo_EAC_decada</th>\n",
       "    </tr>\n",
       "  </thead>\n",
       "  <tbody>\n",
       "    <tr>\n",
       "      <th>Colesterol_total</th>\n",
       "      <td>1.000000</td>\n",
       "      <td>-0.048494</td>\n",
       "      <td>0.089519</td>\n",
       "      <td>0.167580</td>\n",
       "      <td>-0.026620</td>\n",
       "      <td>-0.065808</td>\n",
       "      <td>0.044932</td>\n",
       "      <td>0.163659</td>\n",
       "      <td>0.121683</td>\n",
       "      <td>0.007670</td>\n",
       "      <td>0.262911</td>\n",
       "      <td>0.211712</td>\n",
       "      <td>0.082272</td>\n",
       "      <td>0.043748</td>\n",
       "      <td>0.080676</td>\n",
       "    </tr>\n",
       "    <tr>\n",
       "      <th>Fumador</th>\n",
       "      <td>-0.048494</td>\n",
       "      <td>1.000000</td>\n",
       "      <td>0.057172</td>\n",
       "      <td>-0.107839</td>\n",
       "      <td>0.769987</td>\n",
       "      <td>0.199287</td>\n",
       "      <td>-0.051880</td>\n",
       "      <td>-0.102312</td>\n",
       "      <td>-0.170169</td>\n",
       "      <td>-0.032002</td>\n",
       "      <td>-0.215080</td>\n",
       "      <td>-0.130159</td>\n",
       "      <td>-0.048777</td>\n",
       "      <td>-0.043453</td>\n",
       "      <td>0.025360</td>\n",
       "    </tr>\n",
       "    <tr>\n",
       "      <th>Frecuencia_Cardiaca</th>\n",
       "      <td>0.089519</td>\n",
       "      <td>0.057172</td>\n",
       "      <td>1.000000</td>\n",
       "      <td>0.178012</td>\n",
       "      <td>0.071100</td>\n",
       "      <td>-0.114814</td>\n",
       "      <td>0.094465</td>\n",
       "      <td>0.147475</td>\n",
       "      <td>0.070806</td>\n",
       "      <td>-0.011750</td>\n",
       "      <td>-0.011746</td>\n",
       "      <td>0.182966</td>\n",
       "      <td>0.013895</td>\n",
       "      <td>0.053966</td>\n",
       "      <td>0.025715</td>\n",
       "    </tr>\n",
       "    <tr>\n",
       "      <th>Presion_Diastolica</th>\n",
       "      <td>0.167580</td>\n",
       "      <td>-0.107839</td>\n",
       "      <td>0.178012</td>\n",
       "      <td>1.000000</td>\n",
       "      <td>-0.050922</td>\n",
       "      <td>0.060364</td>\n",
       "      <td>0.059736</td>\n",
       "      <td>0.613649</td>\n",
       "      <td>0.382157</td>\n",
       "      <td>0.048708</td>\n",
       "      <td>0.203561</td>\n",
       "      <td>0.784676</td>\n",
       "      <td>0.195667</td>\n",
       "      <td>0.052245</td>\n",
       "      <td>0.147684</td>\n",
       "    </tr>\n",
       "    <tr>\n",
       "      <th>Cigarrillos_por_dia</th>\n",
       "      <td>-0.026620</td>\n",
       "      <td>0.769987</td>\n",
       "      <td>0.071100</td>\n",
       "      <td>-0.050922</td>\n",
       "      <td>1.000000</td>\n",
       "      <td>0.322215</td>\n",
       "      <td>-0.052879</td>\n",
       "      <td>-0.062994</td>\n",
       "      <td>-0.090474</td>\n",
       "      <td>-0.033362</td>\n",
       "      <td>-0.190383</td>\n",
       "      <td>-0.085891</td>\n",
       "      <td>-0.043939</td>\n",
       "      <td>-0.038379</td>\n",
       "      <td>0.063060</td>\n",
       "    </tr>\n",
       "    <tr>\n",
       "      <th>Sexo</th>\n",
       "      <td>-0.065808</td>\n",
       "      <td>0.199287</td>\n",
       "      <td>-0.114814</td>\n",
       "      <td>0.060364</td>\n",
       "      <td>0.322215</td>\n",
       "      <td>1.000000</td>\n",
       "      <td>0.003106</td>\n",
       "      <td>0.009135</td>\n",
       "      <td>0.080700</td>\n",
       "      <td>-0.003798</td>\n",
       "      <td>-0.023015</td>\n",
       "      <td>-0.032574</td>\n",
       "      <td>-0.050173</td>\n",
       "      <td>0.015020</td>\n",
       "      <td>0.096060</td>\n",
       "    </tr>\n",
       "    <tr>\n",
       "      <th>Glicemia</th>\n",
       "      <td>0.044932</td>\n",
       "      <td>-0.051880</td>\n",
       "      <td>0.094465</td>\n",
       "      <td>0.059736</td>\n",
       "      <td>-0.052879</td>\n",
       "      <td>0.003106</td>\n",
       "      <td>1.000000</td>\n",
       "      <td>0.082509</td>\n",
       "      <td>0.084139</td>\n",
       "      <td>0.015415</td>\n",
       "      <td>0.113779</td>\n",
       "      <td>0.128141</td>\n",
       "      <td>0.051086</td>\n",
       "      <td>0.609578</td>\n",
       "      <td>0.119826</td>\n",
       "    </tr>\n",
       "    <tr>\n",
       "      <th>Hipertension</th>\n",
       "      <td>0.163659</td>\n",
       "      <td>-0.102312</td>\n",
       "      <td>0.147475</td>\n",
       "      <td>0.613649</td>\n",
       "      <td>-0.062994</td>\n",
       "      <td>0.009135</td>\n",
       "      <td>0.082509</td>\n",
       "      <td>1.000000</td>\n",
       "      <td>0.304447</td>\n",
       "      <td>0.066541</td>\n",
       "      <td>0.303271</td>\n",
       "      <td>0.693520</td>\n",
       "      <td>0.259934</td>\n",
       "      <td>0.076787</td>\n",
       "      <td>0.173806</td>\n",
       "    </tr>\n",
       "    <tr>\n",
       "      <th>IMC</th>\n",
       "      <td>0.121683</td>\n",
       "      <td>-0.170169</td>\n",
       "      <td>0.070806</td>\n",
       "      <td>0.382157</td>\n",
       "      <td>-0.090474</td>\n",
       "      <td>0.080700</td>\n",
       "      <td>0.084139</td>\n",
       "      <td>0.304447</td>\n",
       "      <td>1.000000</td>\n",
       "      <td>0.030565</td>\n",
       "      <td>0.134536</td>\n",
       "      <td>0.329870</td>\n",
       "      <td>0.102511</td>\n",
       "      <td>0.086747</td>\n",
       "      <td>0.076643</td>\n",
       "    </tr>\n",
       "    <tr>\n",
       "      <th>ACV</th>\n",
       "      <td>0.007670</td>\n",
       "      <td>-0.032002</td>\n",
       "      <td>-0.011750</td>\n",
       "      <td>0.048708</td>\n",
       "      <td>-0.033362</td>\n",
       "      <td>-0.003798</td>\n",
       "      <td>0.015415</td>\n",
       "      <td>0.066541</td>\n",
       "      <td>0.030565</td>\n",
       "      <td>1.000000</td>\n",
       "      <td>0.044201</td>\n",
       "      <td>0.054581</td>\n",
       "      <td>0.125864</td>\n",
       "      <td>0.009350</td>\n",
       "      <td>0.044186</td>\n",
       "    </tr>\n",
       "    <tr>\n",
       "      <th>Edad</th>\n",
       "      <td>0.262911</td>\n",
       "      <td>-0.215080</td>\n",
       "      <td>-0.011746</td>\n",
       "      <td>0.203561</td>\n",
       "      <td>-0.190383</td>\n",
       "      <td>-0.023015</td>\n",
       "      <td>0.113779</td>\n",
       "      <td>0.303271</td>\n",
       "      <td>0.134536</td>\n",
       "      <td>0.044201</td>\n",
       "      <td>1.000000</td>\n",
       "      <td>0.389943</td>\n",
       "      <td>0.125478</td>\n",
       "      <td>0.104877</td>\n",
       "      <td>0.226849</td>\n",
       "    </tr>\n",
       "    <tr>\n",
       "      <th>Presion_sistolica</th>\n",
       "      <td>0.211712</td>\n",
       "      <td>-0.130159</td>\n",
       "      <td>0.182966</td>\n",
       "      <td>0.784676</td>\n",
       "      <td>-0.085891</td>\n",
       "      <td>-0.032574</td>\n",
       "      <td>0.128141</td>\n",
       "      <td>0.693520</td>\n",
       "      <td>0.329870</td>\n",
       "      <td>0.054581</td>\n",
       "      <td>0.389943</td>\n",
       "      <td>1.000000</td>\n",
       "      <td>0.258830</td>\n",
       "      <td>0.102785</td>\n",
       "      <td>0.214921</td>\n",
       "    </tr>\n",
       "    <tr>\n",
       "      <th>Medicamentos_presion</th>\n",
       "      <td>0.082272</td>\n",
       "      <td>-0.048777</td>\n",
       "      <td>0.013895</td>\n",
       "      <td>0.195667</td>\n",
       "      <td>-0.043939</td>\n",
       "      <td>-0.050173</td>\n",
       "      <td>0.051086</td>\n",
       "      <td>0.259934</td>\n",
       "      <td>0.102511</td>\n",
       "      <td>0.125864</td>\n",
       "      <td>0.125478</td>\n",
       "      <td>0.258830</td>\n",
       "      <td>1.000000</td>\n",
       "      <td>0.054735</td>\n",
       "      <td>0.085618</td>\n",
       "    </tr>\n",
       "    <tr>\n",
       "      <th>Diabetes</th>\n",
       "      <td>0.043748</td>\n",
       "      <td>-0.043453</td>\n",
       "      <td>0.053966</td>\n",
       "      <td>0.052245</td>\n",
       "      <td>-0.038379</td>\n",
       "      <td>0.015020</td>\n",
       "      <td>0.609578</td>\n",
       "      <td>0.076787</td>\n",
       "      <td>0.086747</td>\n",
       "      <td>0.009350</td>\n",
       "      <td>0.104877</td>\n",
       "      <td>0.102785</td>\n",
       "      <td>0.054735</td>\n",
       "      <td>1.000000</td>\n",
       "      <td>0.089132</td>\n",
       "    </tr>\n",
       "    <tr>\n",
       "      <th>Reizgo_EAC_decada</th>\n",
       "      <td>0.080676</td>\n",
       "      <td>0.025360</td>\n",
       "      <td>0.025715</td>\n",
       "      <td>0.147684</td>\n",
       "      <td>0.063060</td>\n",
       "      <td>0.096060</td>\n",
       "      <td>0.119826</td>\n",
       "      <td>0.173806</td>\n",
       "      <td>0.076643</td>\n",
       "      <td>0.044186</td>\n",
       "      <td>0.226849</td>\n",
       "      <td>0.214921</td>\n",
       "      <td>0.085618</td>\n",
       "      <td>0.089132</td>\n",
       "      <td>1.000000</td>\n",
       "    </tr>\n",
       "  </tbody>\n",
       "</table>\n",
       "</div>"
      ],
      "text/plain": [
       "                      Colesterol_total   Fumador  Frecuencia_Cardiaca  \\\n",
       "Colesterol_total              1.000000 -0.048494             0.089519   \n",
       "Fumador                      -0.048494  1.000000             0.057172   \n",
       "Frecuencia_Cardiaca           0.089519  0.057172             1.000000   \n",
       "Presion_Diastolica            0.167580 -0.107839             0.178012   \n",
       "Cigarrillos_por_dia          -0.026620  0.769987             0.071100   \n",
       "Sexo                         -0.065808  0.199287            -0.114814   \n",
       "Glicemia                      0.044932 -0.051880             0.094465   \n",
       "Hipertension                  0.163659 -0.102312             0.147475   \n",
       "IMC                           0.121683 -0.170169             0.070806   \n",
       "ACV                           0.007670 -0.032002            -0.011750   \n",
       "Edad                          0.262911 -0.215080            -0.011746   \n",
       "Presion_sistolica             0.211712 -0.130159             0.182966   \n",
       "Medicamentos_presion          0.082272 -0.048777             0.013895   \n",
       "Diabetes                      0.043748 -0.043453             0.053966   \n",
       "Reizgo_EAC_decada             0.080676  0.025360             0.025715   \n",
       "\n",
       "                      Presion_Diastolica  Cigarrillos_por_dia      Sexo  \\\n",
       "Colesterol_total                0.167580            -0.026620 -0.065808   \n",
       "Fumador                        -0.107839             0.769987  0.199287   \n",
       "Frecuencia_Cardiaca             0.178012             0.071100 -0.114814   \n",
       "Presion_Diastolica              1.000000            -0.050922  0.060364   \n",
       "Cigarrillos_por_dia            -0.050922             1.000000  0.322215   \n",
       "Sexo                            0.060364             0.322215  1.000000   \n",
       "Glicemia                        0.059736            -0.052879  0.003106   \n",
       "Hipertension                    0.613649            -0.062994  0.009135   \n",
       "IMC                             0.382157            -0.090474  0.080700   \n",
       "ACV                             0.048708            -0.033362 -0.003798   \n",
       "Edad                            0.203561            -0.190383 -0.023015   \n",
       "Presion_sistolica               0.784676            -0.085891 -0.032574   \n",
       "Medicamentos_presion            0.195667            -0.043939 -0.050173   \n",
       "Diabetes                        0.052245            -0.038379  0.015020   \n",
       "Reizgo_EAC_decada               0.147684             0.063060  0.096060   \n",
       "\n",
       "                      Glicemia  Hipertension       IMC       ACV      Edad  \\\n",
       "Colesterol_total      0.044932      0.163659  0.121683  0.007670  0.262911   \n",
       "Fumador              -0.051880     -0.102312 -0.170169 -0.032002 -0.215080   \n",
       "Frecuencia_Cardiaca   0.094465      0.147475  0.070806 -0.011750 -0.011746   \n",
       "Presion_Diastolica    0.059736      0.613649  0.382157  0.048708  0.203561   \n",
       "Cigarrillos_por_dia  -0.052879     -0.062994 -0.090474 -0.033362 -0.190383   \n",
       "Sexo                  0.003106      0.009135  0.080700 -0.003798 -0.023015   \n",
       "Glicemia              1.000000      0.082509  0.084139  0.015415  0.113779   \n",
       "Hipertension          0.082509      1.000000  0.304447  0.066541  0.303271   \n",
       "IMC                   0.084139      0.304447  1.000000  0.030565  0.134536   \n",
       "ACV                   0.015415      0.066541  0.030565  1.000000  0.044201   \n",
       "Edad                  0.113779      0.303271  0.134536  0.044201  1.000000   \n",
       "Presion_sistolica     0.128141      0.693520  0.329870  0.054581  0.389943   \n",
       "Medicamentos_presion  0.051086      0.259934  0.102511  0.125864  0.125478   \n",
       "Diabetes              0.609578      0.076787  0.086747  0.009350  0.104877   \n",
       "Reizgo_EAC_decada     0.119826      0.173806  0.076643  0.044186  0.226849   \n",
       "\n",
       "                      Presion_sistolica  Medicamentos_presion  Diabetes  \\\n",
       "Colesterol_total               0.211712              0.082272  0.043748   \n",
       "Fumador                       -0.130159             -0.048777 -0.043453   \n",
       "Frecuencia_Cardiaca            0.182966              0.013895  0.053966   \n",
       "Presion_Diastolica             0.784676              0.195667  0.052245   \n",
       "Cigarrillos_por_dia           -0.085891             -0.043939 -0.038379   \n",
       "Sexo                          -0.032574             -0.050173  0.015020   \n",
       "Glicemia                       0.128141              0.051086  0.609578   \n",
       "Hipertension                   0.693520              0.259934  0.076787   \n",
       "IMC                            0.329870              0.102511  0.086747   \n",
       "ACV                            0.054581              0.125864  0.009350   \n",
       "Edad                           0.389943              0.125478  0.104877   \n",
       "Presion_sistolica              1.000000              0.258830  0.102785   \n",
       "Medicamentos_presion           0.258830              1.000000  0.054735   \n",
       "Diabetes                       0.102785              0.054735  1.000000   \n",
       "Reizgo_EAC_decada              0.214921              0.085618  0.089132   \n",
       "\n",
       "                      Reizgo_EAC_decada  \n",
       "Colesterol_total               0.080676  \n",
       "Fumador                        0.025360  \n",
       "Frecuencia_Cardiaca            0.025715  \n",
       "Presion_Diastolica             0.147684  \n",
       "Cigarrillos_por_dia            0.063060  \n",
       "Sexo                           0.096060  \n",
       "Glicemia                       0.119826  \n",
       "Hipertension                   0.173806  \n",
       "IMC                            0.076643  \n",
       "ACV                            0.044186  \n",
       "Edad                           0.226849  \n",
       "Presion_sistolica              0.214921  \n",
       "Medicamentos_presion           0.085618  \n",
       "Diabetes                       0.089132  \n",
       "Reizgo_EAC_decada              1.000000  "
      ]
     },
     "execution_count": 158,
     "metadata": {},
     "output_type": "execute_result"
    }
   ],
   "source": [
    "data.corr()"
   ]
  },
  {
   "cell_type": "code",
   "execution_count": 159,
   "id": "49f2b3ff",
   "metadata": {},
   "outputs": [
    {
     "data": {
      "image/png": "[encoded data removed]",
      "text/plain": [
       "<Figure size 800x600 with 2 Axes>"
      ]
     },
     "metadata": {},
     "output_type": "display_data"
    }
   ],
   "source": [
    "\n",
    "plt.figure(figsize=[8,6])\n",
    "paleta = sns.color_palette('light:salmon', as_cmap=True)\n",
    "sns.heatmap(data.corr(), annot=True, cmap=paleta);"
   ]
  },
  {
   "cell_type": "code",
   "execution_count": 160,
   "id": "f5d8c479",
   "metadata": {},
   "outputs": [
    {
     "data": {
      "application/vnd.jupyter.widget-view+json": {
       "model_id": "9a6ead4a4692459c80c13e4428bb55e8",
       "version_major": 2,
       "version_minor": 0
      },
      "text/plain": [
       "loop1:   0%|          | 0/4 [00:00<?, ?it/s]"
      ]
     },
     "metadata": {},
     "output_type": "display_data"
    },
    {
     "data": {
      "text/html": [
       "<div>\n",
       "<style scoped>\n",
       "    .dataframe tbody tr th:only-of-type {\n",
       "        vertical-align: middle;\n",
       "    }\n",
       "\n",
       "    .dataframe tbody tr th {\n",
       "        vertical-align: top;\n",
       "    }\n",
       "\n",
       "    .dataframe thead th {\n",
       "        text-align: right;\n",
       "    }\n",
       "</style>\n",
       "<table border=\"1\" class=\"dataframe\">\n",
       "  <thead>\n",
       "    <tr style=\"text-align: right;\">\n",
       "      <th></th>\n",
       "      <th>male</th>\n",
       "      <th>age</th>\n",
       "      <th>education</th>\n",
       "      <th>currentSmoker</th>\n",
       "      <th>cigsPerDay</th>\n",
       "      <th>BPMeds</th>\n",
       "      <th>prevalentStroke</th>\n",
       "      <th>prevalentHyp</th>\n",
       "      <th>diabetes</th>\n",
       "      <th>totChol</th>\n",
       "      <th>sysBP</th>\n",
       "      <th>diaBP</th>\n",
       "      <th>BMI</th>\n",
       "      <th>heartRate</th>\n",
       "      <th>glucose</th>\n",
       "      <th>TenYearCHD</th>\n",
       "    </tr>\n",
       "  </thead>\n",
       "  <tbody>\n",
       "    <tr>\n",
       "      <th>0</th>\n",
       "      <td>1</td>\n",
       "      <td>39</td>\n",
       "      <td>4.0</td>\n",
       "      <td>0</td>\n",
       "      <td>0.0</td>\n",
       "      <td>0.0</td>\n",
       "      <td>0</td>\n",
       "      <td>0</td>\n",
       "      <td>0</td>\n",
       "      <td>195.0</td>\n",
       "      <td>106.0</td>\n",
       "      <td>70.0</td>\n",
       "      <td>26.97</td>\n",
       "      <td>80.0</td>\n",
       "      <td>77.0</td>\n",
       "      <td>0</td>\n",
       "    </tr>\n",
       "    <tr>\n",
       "      <th>1</th>\n",
       "      <td>0</td>\n",
       "      <td>46</td>\n",
       "      <td>2.0</td>\n",
       "      <td>0</td>\n",
       "      <td>0.0</td>\n",
       "      <td>0.0</td>\n",
       "      <td>0</td>\n",
       "      <td>0</td>\n",
       "      <td>0</td>\n",
       "      <td>250.0</td>\n",
       "      <td>121.0</td>\n",
       "      <td>81.0</td>\n",
       "      <td>28.73</td>\n",
       "      <td>95.0</td>\n",
       "      <td>76.0</td>\n",
       "      <td>0</td>\n",
       "    </tr>\n",
       "    <tr>\n",
       "      <th>2</th>\n",
       "      <td>1</td>\n",
       "      <td>48</td>\n",
       "      <td>1.0</td>\n",
       "      <td>1</td>\n",
       "      <td>20.0</td>\n",
       "      <td>0.0</td>\n",
       "      <td>0</td>\n",
       "      <td>0</td>\n",
       "      <td>0</td>\n",
       "      <td>245.0</td>\n",
       "      <td>127.5</td>\n",
       "      <td>80.0</td>\n",
       "      <td>25.34</td>\n",
       "      <td>75.0</td>\n",
       "      <td>70.0</td>\n",
       "      <td>0</td>\n",
       "    </tr>\n",
       "    <tr>\n",
       "      <th>3</th>\n",
       "      <td>0</td>\n",
       "      <td>61</td>\n",
       "      <td>3.0</td>\n",
       "      <td>1</td>\n",
       "      <td>30.0</td>\n",
       "      <td>0.0</td>\n",
       "      <td>0</td>\n",
       "      <td>1</td>\n",
       "      <td>0</td>\n",
       "      <td>225.0</td>\n",
       "      <td>150.0</td>\n",
       "      <td>95.0</td>\n",
       "      <td>28.58</td>\n",
       "      <td>65.0</td>\n",
       "      <td>103.0</td>\n",
       "      <td>1</td>\n",
       "    </tr>\n",
       "    <tr>\n",
       "      <th>4</th>\n",
       "      <td>0</td>\n",
       "      <td>46</td>\n",
       "      <td>3.0</td>\n",
       "      <td>1</td>\n",
       "      <td>23.0</td>\n",
       "      <td>0.0</td>\n",
       "      <td>0</td>\n",
       "      <td>0</td>\n",
       "      <td>0</td>\n",
       "      <td>285.0</td>\n",
       "      <td>130.0</td>\n",
       "      <td>84.0</td>\n",
       "      <td>23.10</td>\n",
       "      <td>85.0</td>\n",
       "      <td>85.0</td>\n",
       "      <td>0</td>\n",
       "    </tr>\n",
       "  </tbody>\n",
       "</table>\n",
       "</div>"
      ],
      "text/plain": [
       "   male  age  education  currentSmoker  cigsPerDay  BPMeds  prevalentStroke  \\\n",
       "0     1   39        4.0              0         0.0     0.0                0   \n",
       "1     0   46        2.0              0         0.0     0.0                0   \n",
       "2     1   48        1.0              1        20.0     0.0                0   \n",
       "3     0   61        3.0              1        30.0     0.0                0   \n",
       "4     0   46        3.0              1        23.0     0.0                0   \n",
       "\n",
       "   prevalentHyp  diabetes  totChol  sysBP  diaBP    BMI  heartRate  glucose  \\\n",
       "0             0         0    195.0  106.0   70.0  26.97       80.0     77.0   \n",
       "1             0         0    250.0  121.0   81.0  28.73       95.0     76.0   \n",
       "2             0         0    245.0  127.5   80.0  25.34       75.0     70.0   \n",
       "3             1         0    225.0  150.0   95.0  28.58       65.0    103.0   \n",
       "4             0         0    285.0  130.0   84.0  23.10       85.0     85.0   \n",
       "\n",
       "   TenYearCHD  \n",
       "0           0  \n",
       "1           0  \n",
       "2           0  \n",
       "3           1  \n",
       "4           0  "
      ]
     },
     "execution_count": 160,
     "metadata": {},
     "output_type": "execute_result"
    }
   ],
   "source": [
    "from ads.dataset.factory import DatasetFactory\n",
    "bd = DatasetFactory.open('./framingham.csv',target='TenYearCHD')\n",
    "bd.head()"
   ]
  },
  {
   "cell_type": "code",
   "execution_count": 161,
   "id": "ed0f257e",
   "metadata": {},
   "outputs": [
    {
     "data": {
      "text/html": [
       "<div>\n",
       "<style scoped>\n",
       "    .dataframe tbody tr th:only-of-type {\n",
       "        vertical-align: middle;\n",
       "    }\n",
       "\n",
       "    .dataframe tbody tr th {\n",
       "        vertical-align: top;\n",
       "    }\n",
       "\n",
       "    .dataframe thead th {\n",
       "        text-align: right;\n",
       "    }\n",
       "</style>\n",
       "<table border=\"1\" class=\"dataframe\">\n",
       "  <thead>\n",
       "    <tr style=\"text-align: right;\">\n",
       "      <th></th>\n",
       "      <th>Sexo</th>\n",
       "      <th>Edad</th>\n",
       "      <th>Educación</th>\n",
       "      <th>Fumador</th>\n",
       "      <th>Cigarrillos_por_dia</th>\n",
       "      <th>Medicamentos_presion</th>\n",
       "      <th>ACV</th>\n",
       "      <th>Hipertension</th>\n",
       "      <th>Diabetes</th>\n",
       "      <th>Colesterol_total</th>\n",
       "      <th>Presion_sistolica</th>\n",
       "      <th>Presion_Diastolica</th>\n",
       "      <th>IMC</th>\n",
       "      <th>Frecuencia_Cardiaca</th>\n",
       "      <th>Glicemia</th>\n",
       "      <th>Reizgo_EAC_decada</th>\n",
       "    </tr>\n",
       "  </thead>\n",
       "  <tbody>\n",
       "    <tr>\n",
       "      <th>0</th>\n",
       "      <td>1</td>\n",
       "      <td>39</td>\n",
       "      <td>4.0</td>\n",
       "      <td>0</td>\n",
       "      <td>0.0</td>\n",
       "      <td>0.0</td>\n",
       "      <td>0</td>\n",
       "      <td>0</td>\n",
       "      <td>0</td>\n",
       "      <td>195.0</td>\n",
       "      <td>106.0</td>\n",
       "      <td>70.0</td>\n",
       "      <td>26.97</td>\n",
       "      <td>80.0</td>\n",
       "      <td>77.0</td>\n",
       "      <td>0</td>\n",
       "    </tr>\n",
       "    <tr>\n",
       "      <th>1</th>\n",
       "      <td>0</td>\n",
       "      <td>46</td>\n",
       "      <td>2.0</td>\n",
       "      <td>0</td>\n",
       "      <td>0.0</td>\n",
       "      <td>0.0</td>\n",
       "      <td>0</td>\n",
       "      <td>0</td>\n",
       "      <td>0</td>\n",
       "      <td>250.0</td>\n",
       "      <td>121.0</td>\n",
       "      <td>81.0</td>\n",
       "      <td>28.73</td>\n",
       "      <td>95.0</td>\n",
       "      <td>76.0</td>\n",
       "      <td>0</td>\n",
       "    </tr>\n",
       "    <tr>\n",
       "      <th>2</th>\n",
       "      <td>1</td>\n",
       "      <td>48</td>\n",
       "      <td>1.0</td>\n",
       "      <td>1</td>\n",
       "      <td>20.0</td>\n",
       "      <td>0.0</td>\n",
       "      <td>0</td>\n",
       "      <td>0</td>\n",
       "      <td>0</td>\n",
       "      <td>245.0</td>\n",
       "      <td>127.5</td>\n",
       "      <td>80.0</td>\n",
       "      <td>25.34</td>\n",
       "      <td>75.0</td>\n",
       "      <td>70.0</td>\n",
       "      <td>0</td>\n",
       "    </tr>\n",
       "    <tr>\n",
       "      <th>3</th>\n",
       "      <td>0</td>\n",
       "      <td>61</td>\n",
       "      <td>3.0</td>\n",
       "      <td>1</td>\n",
       "      <td>30.0</td>\n",
       "      <td>0.0</td>\n",
       "      <td>0</td>\n",
       "      <td>1</td>\n",
       "      <td>0</td>\n",
       "      <td>225.0</td>\n",
       "      <td>150.0</td>\n",
       "      <td>95.0</td>\n",
       "      <td>28.58</td>\n",
       "      <td>65.0</td>\n",
       "      <td>103.0</td>\n",
       "      <td>1</td>\n",
       "    </tr>\n",
       "    <tr>\n",
       "      <th>4</th>\n",
       "      <td>0</td>\n",
       "      <td>46</td>\n",
       "      <td>3.0</td>\n",
       "      <td>1</td>\n",
       "      <td>23.0</td>\n",
       "      <td>0.0</td>\n",
       "      <td>0</td>\n",
       "      <td>0</td>\n",
       "      <td>0</td>\n",
       "      <td>285.0</td>\n",
       "      <td>130.0</td>\n",
       "      <td>84.0</td>\n",
       "      <td>23.10</td>\n",
       "      <td>85.0</td>\n",
       "      <td>85.0</td>\n",
       "      <td>0</td>\n",
       "    </tr>\n",
       "  </tbody>\n",
       "</table>\n",
       "</div>"
      ],
      "text/plain": [
       "   Sexo  Edad  Educación  Fumador  Cigarrillos_por_dia  Medicamentos_presion  \\\n",
       "0     1    39        4.0        0                  0.0                   0.0   \n",
       "1     0    46        2.0        0                  0.0                   0.0   \n",
       "2     1    48        1.0        1                 20.0                   0.0   \n",
       "3     0    61        3.0        1                 30.0                   0.0   \n",
       "4     0    46        3.0        1                 23.0                   0.0   \n",
       "\n",
       "   ACV  Hipertension  Diabetes  Colesterol_total  Presion_sistolica  \\\n",
       "0    0             0         0             195.0              106.0   \n",
       "1    0             0         0             250.0              121.0   \n",
       "2    0             0         0             245.0              127.5   \n",
       "3    0             1         0             225.0              150.0   \n",
       "4    0             0         0             285.0              130.0   \n",
       "\n",
       "   Presion_Diastolica    IMC  Frecuencia_Cardiaca  Glicemia  Reizgo_EAC_decada  \n",
       "0                70.0  26.97                 80.0      77.0                  0  \n",
       "1                81.0  28.73                 95.0      76.0                  0  \n",
       "2                80.0  25.34                 75.0      70.0                  0  \n",
       "3                95.0  28.58                 65.0     103.0                  1  \n",
       "4                84.0  23.10                 85.0      85.0                  0  "
      ]
     },
     "execution_count": 161,
     "metadata": {},
     "output_type": "execute_result"
    }
   ],
   "source": [
    "bd = bd.rename_columns(columnasEsp)\n",
    "bd.head()"
   ]
  },
  {
   "cell_type": "code",
   "execution_count": 162,
   "id": "439e60e1",
   "metadata": {},
   "outputs": [
    {
     "data": {
      "text/html": [
       "<div>\n",
       "<style scoped>\n",
       "    .dataframe tbody tr th:only-of-type {\n",
       "        vertical-align: middle;\n",
       "    }\n",
       "\n",
       "    .dataframe tbody tr th {\n",
       "        vertical-align: top;\n",
       "    }\n",
       "\n",
       "    .dataframe thead th {\n",
       "        text-align: right;\n",
       "    }\n",
       "</style>\n",
       "<table border=\"1\" class=\"dataframe\">\n",
       "  <thead>\n",
       "    <tr style=\"text-align: right;\">\n",
       "      <th></th>\n",
       "      <th></th>\n",
       "      <th></th>\n",
       "      <th></th>\n",
       "      <th>Code</th>\n",
       "    </tr>\n",
       "    <tr>\n",
       "      <th>Message</th>\n",
       "      <th>Variables</th>\n",
       "      <th>Suggested</th>\n",
       "      <th>Action</th>\n",
       "      <th></th>\n",
       "    </tr>\n",
       "  </thead>\n",
       "  <tbody>\n",
       "    <tr>\n",
       "      <th rowspan=\"4\" valign=\"top\">Contains missing values(105)</th>\n",
       "      <th rowspan=\"4\" valign=\"top\">Educación</th>\n",
       "      <th rowspan=\"4\" valign=\"top\">Fill missing values with frequent</th>\n",
       "      <th>Drop</th>\n",
       "      <td>.drop_columns([\"Educación\"])</td>\n",
       "    </tr>\n",
       "    <tr>\n",
       "      <th>Fill missing values with frequent</th>\n",
       "      <td>.fillna({\"Educación\": 1.0})</td>\n",
       "    </tr>\n",
       "    <tr>\n",
       "      <th>Fill missing values with constant</th>\n",
       "      <td>.fillna({\"Educación\": \"constant\"})</td>\n",
       "    </tr>\n",
       "    <tr>\n",
       "      <th>Do nothing</th>\n",
       "      <td></td>\n",
       "    </tr>\n",
       "    <tr>\n",
       "      <th rowspan=\"4\" valign=\"top\">Contains missing values(29)</th>\n",
       "      <th rowspan=\"4\" valign=\"top\">Cigarrillos_por_dia</th>\n",
       "      <th rowspan=\"4\" valign=\"top\">Fill missing values with frequent</th>\n",
       "      <th>Drop</th>\n",
       "      <td>.drop_columns([\"Cigarrillos_por_dia\"])</td>\n",
       "    </tr>\n",
       "    <tr>\n",
       "      <th>Fill missing values with frequent</th>\n",
       "      <td>.fillna({\"Cigarrillos_por_dia\": 0.0})</td>\n",
       "    </tr>\n",
       "    <tr>\n",
       "      <th>Fill missing values with constant</th>\n",
       "      <td>.fillna({\"Cigarrillos_por_dia\": \"constant\"})</td>\n",
       "    </tr>\n",
       "    <tr>\n",
       "      <th>Do nothing</th>\n",
       "      <td></td>\n",
       "    </tr>\n",
       "    <tr>\n",
       "      <th rowspan=\"4\" valign=\"top\">Contains missing values(53)</th>\n",
       "      <th rowspan=\"4\" valign=\"top\">Medicamentos_presion</th>\n",
       "      <th rowspan=\"4\" valign=\"top\">Fill missing values with frequent</th>\n",
       "      <th>Drop</th>\n",
       "      <td>.drop_columns([\"Medicamentos_presion\"])</td>\n",
       "    </tr>\n",
       "    <tr>\n",
       "      <th>Fill missing values with frequent</th>\n",
       "      <td>.fillna({\"Medicamentos_presion\": 0.0})</td>\n",
       "    </tr>\n",
       "    <tr>\n",
       "      <th>Fill missing values with constant</th>\n",
       "      <td>.fillna({\"Medicamentos_presion\": \"constant\"})</td>\n",
       "    </tr>\n",
       "    <tr>\n",
       "      <th>Do nothing</th>\n",
       "      <td></td>\n",
       "    </tr>\n",
       "    <tr>\n",
       "      <th rowspan=\"4\" valign=\"top\">Contains missing values(50)</th>\n",
       "      <th rowspan=\"4\" valign=\"top\">Colesterol_total</th>\n",
       "      <th rowspan=\"4\" valign=\"top\">Fill missing values with frequent</th>\n",
       "      <th>Drop</th>\n",
       "      <td>.drop_columns([\"Colesterol_total\"])</td>\n",
       "    </tr>\n",
       "    <tr>\n",
       "      <th>Fill missing values with frequent</th>\n",
       "      <td>.fillna({\"Colesterol_total\": 240.0})</td>\n",
       "    </tr>\n",
       "    <tr>\n",
       "      <th>Fill missing values with constant</th>\n",
       "      <td>.fillna({\"Colesterol_total\": \"constant\"})</td>\n",
       "    </tr>\n",
       "    <tr>\n",
       "      <th>Do nothing</th>\n",
       "      <td></td>\n",
       "    </tr>\n",
       "    <tr>\n",
       "      <th rowspan=\"6\" valign=\"top\">Contains missing values(19)</th>\n",
       "      <th rowspan=\"6\" valign=\"top\">IMC</th>\n",
       "      <th rowspan=\"6\" valign=\"top\">Fill missing values with mean</th>\n",
       "      <th>Drop</th>\n",
       "      <td>.drop_columns([\"IMC\"])</td>\n",
       "    </tr>\n",
       "    <tr>\n",
       "      <th>Fill missing values with mean</th>\n",
       "      <td>.fillna({\"IMC\": 25.802})</td>\n",
       "    </tr>\n",
       "    <tr>\n",
       "      <th>Fill missing values with median</th>\n",
       "      <td>.fillna({\"IMC\": 25.4})</td>\n",
       "    </tr>\n",
       "    <tr>\n",
       "      <th>Fill missing values with frequent</th>\n",
       "      <td>.fillna({\"IMC\": 22.19})</td>\n",
       "    </tr>\n",
       "    <tr>\n",
       "      <th>Fill missing values with constant</th>\n",
       "      <td>.fillna({\"IMC\": \"constant\"})</td>\n",
       "    </tr>\n",
       "    <tr>\n",
       "      <th>Do nothing</th>\n",
       "      <td></td>\n",
       "    </tr>\n",
       "    <tr>\n",
       "      <th rowspan=\"4\" valign=\"top\">Contains missing values(1)</th>\n",
       "      <th rowspan=\"4\" valign=\"top\">Frecuencia_Cardiaca</th>\n",
       "      <th rowspan=\"4\" valign=\"top\">Fill missing values with frequent</th>\n",
       "      <th>Drop</th>\n",
       "      <td>.drop_columns([\"Frecuencia_Cardiaca\"])</td>\n",
       "    </tr>\n",
       "    <tr>\n",
       "      <th>Fill missing values with frequent</th>\n",
       "      <td>.fillna({\"Frecuencia_Cardiaca\": 75.0})</td>\n",
       "    </tr>\n",
       "    <tr>\n",
       "      <th>Fill missing values with constant</th>\n",
       "      <td>.fillna({\"Frecuencia_Cardiaca\": \"constant\"})</td>\n",
       "    </tr>\n",
       "    <tr>\n",
       "      <th>Do nothing</th>\n",
       "      <td></td>\n",
       "    </tr>\n",
       "    <tr>\n",
       "      <th rowspan=\"4\" valign=\"top\">Contains missing values(388)</th>\n",
       "      <th rowspan=\"4\" valign=\"top\">Glicemia</th>\n",
       "      <th rowspan=\"4\" valign=\"top\">Fill missing values with frequent</th>\n",
       "      <th>Drop</th>\n",
       "      <td>.drop_columns([\"Glicemia\"])</td>\n",
       "    </tr>\n",
       "    <tr>\n",
       "      <th>Fill missing values with frequent</th>\n",
       "      <td>.fillna({\"Glicemia\": 75.0})</td>\n",
       "    </tr>\n",
       "    <tr>\n",
       "      <th>Fill missing values with constant</th>\n",
       "      <td>.fillna({\"Glicemia\": \"constant\"})</td>\n",
       "    </tr>\n",
       "    <tr>\n",
       "      <th>Do nothing</th>\n",
       "      <td></td>\n",
       "    </tr>\n",
       "    <tr>\n",
       "      <th rowspan=\"3\" valign=\"top\">Strongly correlated with Presion_Diastolica(78.40%.)</th>\n",
       "      <th rowspan=\"3\" valign=\"top\">Presion_sistolica</th>\n",
       "      <th rowspan=\"3\" valign=\"top\">Drop Presion_Diastolica</th>\n",
       "      <th>Drop Presion_sistolica</th>\n",
       "      <td>.drop_columns([\"Presion_sistolica\"])</td>\n",
       "    </tr>\n",
       "    <tr>\n",
       "      <th>Drop Presion_Diastolica</th>\n",
       "      <td>.drop_columns([\"Presion_Diastolica\"])</td>\n",
       "    </tr>\n",
       "    <tr>\n",
       "      <th>Do nothing</th>\n",
       "      <td></td>\n",
       "    </tr>\n",
       "    <tr>\n",
       "      <th rowspan=\"3\" valign=\"top\">Imbalanced Target(17.92%)</th>\n",
       "      <th rowspan=\"3\" valign=\"top\">Reizgo_EAC_decada</th>\n",
       "      <th rowspan=\"3\" valign=\"top\">Do nothing</th>\n",
       "      <th>Do nothing</th>\n",
       "      <td></td>\n",
       "    </tr>\n",
       "    <tr>\n",
       "      <th>Down-sample</th>\n",
       "      <td>.down_sample()</td>\n",
       "    </tr>\n",
       "    <tr>\n",
       "      <th>Up-sample</th>\n",
       "      <td>.up_sample(sampler='default')</td>\n",
       "    </tr>\n",
       "  </tbody>\n",
       "</table>\n",
       "</div>"
      ],
      "text/plain": [
       "                                                                                                                                                                                        Code\n",
       "Message                                              Variables            Suggested                         Action                                                                          \n",
       "Contains missing values(105)                         Educación            Fill missing values with frequent Drop                                                .drop_columns([\"Educación\"])\n",
       "                                                                                                            Fill missing values with frequent                    .fillna({\"Educación\": 1.0})\n",
       "                                                                                                            Fill missing values with constant             .fillna({\"Educación\": \"constant\"})\n",
       "                                                                                                            Do nothing                                                                      \n",
       "Contains missing values(29)                          Cigarrillos_por_dia  Fill missing values with frequent Drop                                      .drop_columns([\"Cigarrillos_por_dia\"])\n",
       "                                                                                                            Fill missing values with frequent          .fillna({\"Cigarrillos_por_dia\": 0.0})\n",
       "                                                                                                            Fill missing values with constant   .fillna({\"Cigarrillos_por_dia\": \"constant\"})\n",
       "                                                                                                            Do nothing                                                                      \n",
       "Contains missing values(53)                          Medicamentos_presion Fill missing values with frequent Drop                                     .drop_columns([\"Medicamentos_presion\"])\n",
       "                                                                                                            Fill missing values with frequent         .fillna({\"Medicamentos_presion\": 0.0})\n",
       "                                                                                                            Fill missing values with constant  .fillna({\"Medicamentos_presion\": \"constant\"})\n",
       "                                                                                                            Do nothing                                                                      \n",
       "Contains missing values(50)                          Colesterol_total     Fill missing values with frequent Drop                                         .drop_columns([\"Colesterol_total\"])\n",
       "                                                                                                            Fill missing values with frequent           .fillna({\"Colesterol_total\": 240.0})\n",
       "                                                                                                            Fill missing values with constant      .fillna({\"Colesterol_total\": \"constant\"})\n",
       "                                                                                                            Do nothing                                                                      \n",
       "Contains missing values(19)                          IMC                  Fill missing values with mean     Drop                                                      .drop_columns([\"IMC\"])\n",
       "                                                                                                            Fill missing values with mean                           .fillna({\"IMC\": 25.802})\n",
       "                                                                                                            Fill missing values with median                           .fillna({\"IMC\": 25.4})\n",
       "                                                                                                            Fill missing values with frequent                        .fillna({\"IMC\": 22.19})\n",
       "                                                                                                            Fill missing values with constant                   .fillna({\"IMC\": \"constant\"})\n",
       "                                                                                                            Do nothing                                                                      \n",
       "Contains missing values(1)                           Frecuencia_Cardiaca  Fill missing values with frequent Drop                                      .drop_columns([\"Frecuencia_Cardiaca\"])\n",
       "                                                                                                            Fill missing values with frequent         .fillna({\"Frecuencia_Cardiaca\": 75.0})\n",
       "                                                                                                            Fill missing values with constant   .fillna({\"Frecuencia_Cardiaca\": \"constant\"})\n",
       "                                                                                                            Do nothing                                                                      \n",
       "Contains missing values(388)                         Glicemia             Fill missing values with frequent Drop                                                 .drop_columns([\"Glicemia\"])\n",
       "                                                                                                            Fill missing values with frequent                    .fillna({\"Glicemia\": 75.0})\n",
       "                                                                                                            Fill missing values with constant              .fillna({\"Glicemia\": \"constant\"})\n",
       "                                                                                                            Do nothing                                                                      \n",
       "Strongly correlated with Presion_Diastolica(78.40%.) Presion_sistolica    Drop Presion_Diastolica           Drop Presion_sistolica                      .drop_columns([\"Presion_sistolica\"])\n",
       "                                                                                                            Drop Presion_Diastolica                    .drop_columns([\"Presion_Diastolica\"])\n",
       "                                                                                                            Do nothing                                                                      \n",
       "Imbalanced Target(17.92%)                            Reizgo_EAC_decada    Do nothing                        Do nothing                                                                      \n",
       "                                                                                                            Down-sample                                                       .down_sample()\n",
       "                                                                                                            Up-sample                                          .up_sample(sampler='default')"
      ]
     },
     "execution_count": 162,
     "metadata": {},
     "output_type": "execute_result"
    }
   ],
   "source": [
    "bd.suggest_recommendations()"
   ]
  },
  {
   "cell_type": "code",
   "execution_count": 163,
   "id": "51fb765b",
   "metadata": {},
   "outputs": [
    {
     "data": {
      "application/vnd.jupyter.widget-view+json": {
       "model_id": "f47555161ee94b5db5e3a00ff48b9af2",
       "version_major": 2,
       "version_minor": 0
      },
      "text/plain": [
       "loop1:   0%|          | 0/7 [00:00<?, ?it/s]"
      ]
     },
     "metadata": {},
     "output_type": "display_data"
    }
   ],
   "source": [
    "bd=bd.auto_transform()"
   ]
  },
  {
   "cell_type": "code",
   "execution_count": 164,
   "id": "0a2d2c8d",
   "metadata": {},
   "outputs": [
    {
     "data": {
      "application/javascript": "(function(root) {\n  function now() {\n    return new Date();\n  }\n\n  const force = true;\n\n  if (typeof root._bokeh_onload_callbacks === \"undefined\" || force === true) {\n    root._bokeh_onload_callbacks = [];\n    root._bokeh_is_loading = undefined;\n  }\n\nconst JS_MIME_TYPE = 'application/javascript';\n  const HTML_MIME_TYPE = 'text/html';\n  const EXEC_MIME_TYPE = 'application/vnd.bokehjs_exec.v0+json';\n  const CLASS_NAME = 'output_bokeh rendered_html';\n\n  /**\n   * Render data to the DOM node\n   */\n  function render(props, node) {\n    const script = document.createElement(\"script\");\n    node.appendChild(script);\n  }\n\n  /**\n   * Handle when an output is cleared or removed\n   */\n  function handleClearOutput(event, handle) {\n    const cell = handle.cell;\n\n    const id = cell.output_area._bokeh_element_id;\n    const server_id = cell.output_area._bokeh_server_id;\n    // Clean up Bokeh references\n    if (id != null && id in Bokeh.index) {\n      Bokeh.index[id].model.document.clear();\n      delete Bokeh.index[id];\n    }\n\n    if (server_id !== undefined) {\n      // Clean up Bokeh references\n      const cmd_clean = \"from bokeh.io.state import curstate; print(curstate().uuid_to_server['\" + server_id + \"'].get_sessions()[0].document.roots[0]._id)\";\n      cell.notebook.kernel.execute(cmd_clean, {\n        iopub: {\n          output: function(msg) {\n            const id = msg.content.text.trim();\n            if (id in Bokeh.index) {\n              Bokeh.index[id].model.document.clear();\n              delete Bokeh.index[id];\n            }\n          }\n        }\n      });\n      // Destroy server and session\n      const cmd_destroy = \"import bokeh.io.notebook as ion; ion.destroy_server('\" + server_id + \"')\";\n      cell.notebook.kernel.execute(cmd_destroy);\n    }\n  }\n\n  /**\n   * Handle when a new output is added\n   */\n  function handleAddOutput(event, handle) {\n    const output_area = handle.output_area;\n    const output = handle.output;\n\n    // limit handleAddOutput to display_data with EXEC_MIME_TYPE content only\n    if ((output.output_type != \"display_data\") || (!Object.prototype.hasOwnProperty.call(output.data, EXEC_MIME_TYPE))) {\n      return\n    }\n\n    const toinsert = output_area.element.find(\".\" + CLASS_NAME.split(' ')[0]);\n\n    if (output.metadata[EXEC_MIME_TYPE][\"id\"] !== undefined) {\n      toinsert[toinsert.length - 1].firstChild.textContent = output.data[JS_MIME_TYPE];\n      // store reference to embed id on output_area\n      output_area._bokeh_element_id = output.metadata[EXEC_MIME_TYPE][\"id\"];\n    }\n    if (output.metadata[EXEC_MIME_TYPE][\"server_id\"] !== undefined) {\n      const bk_div = document.createElement(\"div\");\n      bk_div.innerHTML = output.data[HTML_MIME_TYPE];\n      const script_attrs = bk_div.children[0].attributes;\n      for (let i = 0; i < script_attrs.length; i++) {\n        toinsert[toinsert.length - 1].firstChild.setAttribute(script_attrs[i].name, script_attrs[i].value);\n        toinsert[toinsert.length - 1].firstChild.textContent = bk_div.children[0].textContent\n      }\n      // store reference to server id on output_area\n      output_area._bokeh_server_id = output.metadata[EXEC_MIME_TYPE][\"server_id\"];\n    }\n  }\n\n  function register_renderer(events, OutputArea) {\n\n    function append_mime(data, metadata, element) {\n      // create a DOM node to render to\n      const toinsert = this.create_output_subarea(\n        metadata,\n        CLASS_NAME,\n        EXEC_MIME_TYPE\n      );\n      this.keyboard_manager.register_events(toinsert);\n      // Render to node\n      const props = {data: data, metadata: metadata[EXEC_MIME_TYPE]};\n      render(props, toinsert[toinsert.length - 1]);\n      element.append(toinsert);\n      return toinsert\n    }\n\n    /* Handle when an output is cleared or removed */\n    events.on('clear_output.CodeCell', handleClearOutput);\n    events.on('delete.Cell', handleClearOutput);\n\n    /* Handle when a new output is added */\n    events.on('output_added.OutputArea', handleAddOutput);\n\n    /**\n     * Register the mime type and append_mime function with output_area\n     */\n    OutputArea.prototype.register_mime_type(EXEC_MIME_TYPE, append_mime, {\n      /* Is output safe? */\n      safe: true,\n      /* Index of renderer in `output_area.display_order` */\n      index: 0\n    });\n  }\n\n  // register the mime type if in Jupyter Notebook environment and previously unregistered\n  if (root.Jupyter !== undefined) {\n    const events = require('base/js/events');\n    const OutputArea = require('notebook/js/outputarea').OutputArea;\n\n    if (OutputArea.prototype.mime_types().indexOf(EXEC_MIME_TYPE) == -1) {\n      register_renderer(events, OutputArea);\n    }\n  }\n  if (typeof (root._bokeh_timeout) === \"undefined\" || force === true) {\n    root._bokeh_timeout = Date.now() + 5000;\n    root._bokeh_failed_load = false;\n  }\n\n  const NB_LOAD_WARNING = {'data': {'text/html':\n     \"<div style='background-color: #fdd'>\\n\"+\n     \"<p>\\n\"+\n     \"BokehJS does not appear to have successfully loaded. If loading BokehJS from CDN, this \\n\"+\n     \"may be due to a slow or bad network connection. Possible fixes:\\n\"+\n     \"</p>\\n\"+\n     \"<ul>\\n\"+\n     \"<li>re-rerun `output_notebook()` to attempt to load from CDN again, or</li>\\n\"+\n     \"<li>use INLINE resources instead, as so:</li>\\n\"+\n     \"</ul>\\n\"+\n     \"<code>\\n\"+\n     \"from bokeh.resources import INLINE\\n\"+\n     \"output_notebook(resources=INLINE)\\n\"+\n     \"</code>\\n\"+\n     \"</div>\"}};\n\n  function display_loaded() {\n    const el = document.getElementById(\"1914\");\n    if (el != null) {\n      el.textContent = \"BokehJS is loading...\";\n    }\n    if (root.Bokeh !== undefined) {\n      if (el != null) {\n        el.textContent = \"BokehJS \" + root.Bokeh.version + \" successfully loaded.\";\n      }\n    } else if (Date.now() < root._bokeh_timeout) {\n      setTimeout(display_loaded, 100)\n    }\n  }\n\n  function run_callbacks() {\n    try {\n      root._bokeh_onload_callbacks.forEach(function(callback) {\n        if (callback != null)\n          callback();\n      });\n    } finally {\n      delete root._bokeh_onload_callbacks\n    }\n    console.debug(\"Bokeh: all callbacks have finished\");\n  }\n\n  function load_libs(css_urls, js_urls, callback) {\n    if (css_urls == null) css_urls = [];\n    if (js_urls == null) js_urls = [];\n\n    root._bokeh_onload_callbacks.push(callback);\n    if (root._bokeh_is_loading > 0) {\n      console.debug(\"Bokeh: BokehJS is being loaded, scheduling callback at\", now());\n      return null;\n    }\n    if (js_urls == null || js_urls.length === 0) {\n      run_callbacks();\n      return null;\n    }\n    console.debug(\"Bokeh: BokehJS not loaded, scheduling load and callback at\", now());\n    root._bokeh_is_loading = css_urls.length + js_urls.length;\n\n    function on_load() {\n      root._bokeh_is_loading--;\n      if (root._bokeh_is_loading === 0) {\n        console.debug(\"Bokeh: all BokehJS libraries/stylesheets loaded\");\n        run_callbacks()\n      }\n    }\n\n    function on_error(url) {\n      console.error(\"failed to load \" + url);\n    }\n\n    for (let i = 0; i < css_urls.length; i++) {\n      const url = css_urls[i];\n      const element = document.createElement(\"link\");\n      element.onload = on_load;\n      element.onerror = on_error.bind(null, url);\n      element.rel = \"stylesheet\";\n      element.type = \"text/css\";\n      element.href = url;\n      console.debug(\"Bokeh: injecting link tag for BokehJS stylesheet: \", url);\n      document.body.appendChild(element);\n    }\n\n    for (let i = 0; i < js_urls.length; i++) {\n      const url = js_urls[i];\n      const element = document.createElement('script');\n      element.onload = on_load;\n      element.onerror = on_error.bind(null, url);\n      element.async = false;\n      element.src = url;\n      console.debug(\"Bokeh: injecting script tag for BokehJS library: \", url);\n      document.head.appendChild(element);\n    }\n  };\n\n  function inject_raw_css(css) {\n    const element = document.createElement(\"style\");\n    element.appendChild(document.createTextNode(css));\n    document.body.appendChild(element);\n  }\n\n  const js_urls = [\"https://cdn.bokeh.org/bokeh/release/bokeh-2.4.3.min.js\", \"https://cdn.bokeh.org/bokeh/release/bokeh-gl-2.4.3.min.js\", \"https://cdn.bokeh.org/bokeh/release/bokeh-widgets-2.4.3.min.js\", \"https://cdn.bokeh.org/bokeh/release/bokeh-tables-2.4.3.min.js\", \"https://cdn.bokeh.org/bokeh/release/bokeh-mathjax-2.4.3.min.js\"];\n  const css_urls = [];\n\n  const inline_js = [    function(Bokeh) {\n      Bokeh.set_log_level(\"info\");\n    },\nfunction(Bokeh) {\n    }\n  ];\n\n  function run_inline_js() {\n    if (root.Bokeh !== undefined || force === true) {\n          for (let i = 0; i < inline_js.length; i++) {\n      inline_js[i].call(root, root.Bokeh);\n    }\nif (force === true) {\n        display_loaded();\n      }} else if (Date.now() < root._bokeh_timeout) {\n      setTimeout(run_inline_js, 100);\n    } else if (!root._bokeh_failed_load) {\n      console.log(\"Bokeh: BokehJS failed to load within specified timeout.\");\n      root._bokeh_failed_load = true;\n    } else if (force !== true) {\n      const cell = $(document.getElementById(\"1914\")).parents('.cell').data().cell;\n      cell.output_area.append_execute_result(NB_LOAD_WARNING)\n    }\n  }\n\n  if (root._bokeh_is_loading === 0) {\n    console.debug(\"Bokeh: BokehJS loaded, going straight to plotting\");\n    run_inline_js();\n  } else {\n    load_libs(css_urls, js_urls, function() {\n      console.debug(\"Bokeh: BokehJS plotting callback run at\", now());\n      run_inline_js();\n    });\n  }\n}(window));",
      "application/vnd.bokehjs_load.v0+json": ""
     },
     "metadata": {},
     "output_type": "display_data"
    },
    {
     "data": {
      "application/javascript": "(function(root) {\n  function embed_document(root) {\n  const docs_json = {\"70954ee0-aa75-44f1-b096-15263ebba865\":{\"defs\":[],\"roots\":{\"references\":[{\"attributes\":{\"tabs\":[{\"id\":\"1959\"},{\"id\":\"1993\"},{\"id\":\"2027\"}]},\"id\":\"2028\",\"type\":\"Tabs\"},{\"attributes\":{\"data\":{\"corr\":{\"__ndarray__\":\"AAAAAAAA8D/SvPchdBjFv8QAU4xujsi/uWmBnEur0D90gomEPDzZP7jRLJzzUME/D4CgTOdPir+yLSp75Ei+P9K89yF0GMW/AAAAAAAA8D+a+1SlH0mEP78SnqW6O5i/3avnxjsnwL/ClVj3s9rBvyZ03a+KY6m/NlsGwLHWob/EAFOMbo7Iv5r7VKUfSYQ/AAAAAAAA8D9OuSN1wUKbv0lYekjEn7a/G2bFQRKjt7+4nPYMA+iyP4D/Hv7vJa2/uWmBnEur0D+/Ep6lujuYv065I3XBQpu/AAAAAAAA8D/HKOJj/JXKP84/Dnrwab0/1Egb6hxCtz+RRG+Qt4+nP3SCiYQ8PNk/3avnxjsnwL9JWHpIxJ+2v8co4mP8lco/AAAAAAAA8D/Kd4Xo2NDUPxbuurpzUMc/uFKvUdxRwT+40Syc81DBP8KVWPez2sG/G2bFQRKjt7/OPw568Gm9P8p3hejY0NQ/AAAAAAAA8D+zvT53nkmxP8LzvDGmFbU/D4CgTOdPir8mdN2vimOpv7ic9gwD6LI/1Egb6hxCtz8W7rq6c1DHP7O9PneeSbE/AAAAAAAA8D9GcnauJO21P7ItKnvkSL4/NlsGwLHWob+A/x7+7yWtv5FEb5C3j6c/uFKvUdxRwT/C87wxphW1P0Zydq4k7bU/AAAAAAAA8D8=\",\"dtype\":\"float64\",\"order\":\"little\",\"shape\":[64]},\"index\":[0,1,2,3,4,5,6,7,8,9,10,11,12,13,14,15,16,17,18,19,20,21,22,23,24,25,26,27,28,29,30,31,32,33,34,35,36,37,38,39,40,41,42,43,44,45,46,47,48,49,50,51,52,53,54,55,56,57,58,59,60,61,62,63],\"x\":[\"Edad\",\"Educaci\\u00f3n\",\"Cigarrillos_por_dia\",\"Colesterol_total\",\"Presion_sistolica\",\"IMC\",\"Frecuencia_Cardiaca\",\"Glicemia\",\"Edad\",\"Educaci\\u00f3n\",\"Cigarrillos_por_dia\",\"Colesterol_total\",\"Presion_sistolica\",\"IMC\",\"Frecuencia_Cardiaca\",\"Glicemia\",\"Edad\",\"Educaci\\u00f3n\",\"Cigarrillos_por_dia\",\"Colesterol_total\",\"Presion_sistolica\",\"IMC\",\"Frecuencia_Cardiaca\",\"Glicemia\",\"Edad\",\"Educaci\\u00f3n\",\"Cigarrillos_por_dia\",\"Colesterol_total\",\"Presion_sistolica\",\"IMC\",\"Frecuencia_Cardiaca\",\"Glicemia\",\"Edad\",\"Educaci\\u00f3n\",\"Cigarrillos_por_dia\",\"Colesterol_total\",\"Presion_sistolica\",\"IMC\",\"Frecuencia_Cardiaca\",\"Glicemia\",\"Edad\",\"Educaci\\u00f3n\",\"Cigarrillos_por_dia\",\"Colesterol_total\",\"Presion_sistolica\",\"IMC\",\"Frecuencia_Cardiaca\",\"Glicemia\",\"Edad\",\"Educaci\\u00f3n\",\"Cigarrillos_por_dia\",\"Colesterol_total\",\"Presion_sistolica\",\"IMC\",\"Frecuencia_Cardiaca\",\"Glicemia\",\"Edad\",\"Educaci\\u00f3n\",\"Cigarrillos_por_dia\",\"Colesterol_total\",\"Presion_sistolica\",\"IMC\",\"Frecuencia_Cardiaca\",\"Glicemia\"],\"y\":[\"Edad\",\"Edad\",\"Edad\",\"Edad\",\"Edad\",\"Edad\",\"Edad\",\"Edad\",\"Educaci\\u00f3n\",\"Educaci\\u00f3n\",\"Educaci\\u00f3n\",\"Educaci\\u00f3n\",\"Educaci\\u00f3n\",\"Educaci\\u00f3n\",\"Educaci\\u00f3n\",\"Educaci\\u00f3n\",\"Cigarrillos_por_dia\",\"Cigarrillos_por_dia\",\"Cigarrillos_por_dia\",\"Cigarrillos_por_dia\",\"Cigarrillos_por_dia\",\"Cigarrillos_por_dia\",\"Cigarrillos_por_dia\",\"Cigarrillos_por_dia\",\"Colesterol_total\",\"Colesterol_total\",\"Colesterol_total\",\"Colesterol_total\",\"Colesterol_total\",\"Colesterol_total\",\"Colesterol_total\",\"Colesterol_total\",\"Presion_sistolica\",\"Presion_sistolica\",\"Presion_sistolica\",\"Presion_sistolica\",\"Presion_sistolica\",\"Presion_sistolica\",\"Presion_sistolica\",\"Presion_sistolica\",\"IMC\",\"IMC\",\"IMC\",\"IMC\",\"IMC\",\"IMC\",\"IMC\",\"IMC\",\"Frecuencia_Cardiaca\",\"Frecuencia_Cardiaca\",\"Frecuencia_Cardiaca\",\"Frecuencia_Cardiaca\",\"Frecuencia_Cardiaca\",\"Frecuencia_Cardiaca\",\"Frecuencia_Cardiaca\",\"Frecuencia_Cardiaca\",\"Glicemia\",\"Glicemia\",\"Glicemia\",\"Glicemia\",\"Glicemia\",\"Glicemia\",\"Glicemia\",\"Glicemia\"]},\"selected\":{\"id\":\"2133\"},\"selection_policy\":{\"id\":\"2132\"}},\"id\":\"1916\",\"type\":\"ColumnDataSource\"},{\"attributes\":{\"source\":{\"id\":\"1916\"}},\"id\":\"1953\",\"type\":\"CDSView\"},{\"attributes\":{},\"id\":\"1979\",\"type\":\"PanTool\"},{\"attributes\":{},\"id\":\"2125\",\"type\":\"AllLabels\"},{\"attributes\":{},\"id\":\"2133\",\"type\":\"Selection\"},{\"attributes\":{},\"id\":\"2132\",\"type\":\"UnionRenderers\"},{\"attributes\":{},\"id\":\"1976\",\"type\":\"BasicTicker\"},{\"attributes\":{\"high\":1,\"low\":-1,\"palette\":[\"#f7fcfd\",\"#f6fbfd\",\"#f6fbfc\",\"#f5fafc\",\"#f4fafc\",\"#f3f9fc\",\"#f3f9fb\",\"#f2f8fb\",\"#f1f8fb\",\"#f1f7fa\",\"#f0f7fa\",\"#eff6fa\",\"#eef6fa\",\"#eef5f9\",\"#edf5f9\",\"#ecf4f9\",\"#ebf4f8\",\"#ebf3f8\",\"#eaf3f8\",\"#e9f2f8\",\"#e9f2f7\",\"#e8f1f7\",\"#e7f1f7\",\"#e6f0f7\",\"#e6f0f6\",\"#e5eff6\",\"#e4eff6\",\"#e4eef5\",\"#e3eef5\",\"#e2edf5\",\"#e1edf5\",\"#e1ecf4\",\"#e0ecf4\",\"#dfebf4\",\"#deeaf3\",\"#ddeaf3\",\"#dce9f2\",\"#dbe8f2\",\"#dae7f1\",\"#d9e6f1\",\"#d8e6f0\",\"#d7e5f0\",\"#d6e4f0\",\"#d4e3ef\",\"#d3e2ef\",\"#d2e2ee\",\"#d1e1ee\",\"#d0e0ed\",\"#cfdfed\",\"#cedfec\",\"#cddeec\",\"#ccddec\",\"#cbdceb\",\"#cadbeb\",\"#c9dbea\",\"#c8daea\",\"#c7d9e9\",\"#c6d8e9\",\"#c5d8e9\",\"#c4d7e8\",\"#c3d6e8\",\"#c2d5e7\",\"#c1d4e7\",\"#c0d4e6\",\"#bfd3e6\",\"#bed2e6\",\"#bdd1e5\",\"#bcd1e5\",\"#bbd0e4\",\"#bacfe4\",\"#b9cee4\",\"#b7cee3\",\"#b6cde3\",\"#b5cce3\",\"#b4cce2\",\"#b3cbe2\",\"#b2cae1\",\"#b1c9e1\",\"#b0c9e1\",\"#afc8e0\",\"#aec7e0\",\"#adc7e0\",\"#acc6df\",\"#abc5df\",\"#aac4de\",\"#a9c4de\",\"#a8c3de\",\"#a7c2dd\",\"#a6c2dd\",\"#a5c1dc\",\"#a4c0dc\",\"#a3bfdc\",\"#a2bfdb\",\"#a1bedb\",\"#a0bddb\",\"#9fbcda\",\"#9ebcda\",\"#9dbad9\",\"#9db9d9\",\"#9cb8d8\",\"#9cb7d7\",\"#9bb6d7\",\"#9ab4d6\",\"#9ab3d5\",\"#99b2d5\",\"#99b1d4\",\"#98b0d3\",\"#98aed3\",\"#97add2\",\"#96acd2\",\"#96abd1\",\"#95aad0\",\"#95a8d0\",\"#94a7cf\",\"#94a6ce\",\"#93a5ce\",\"#92a4cd\",\"#92a3cd\",\"#91a1cc\",\"#91a0cb\",\"#909fcb\",\"#909eca\",\"#8f9dc9\",\"#8f9bc9\",\"#8e9ac8\",\"#8d99c8\",\"#8d98c7\",\"#8c97c6\",\"#8c95c6\",\"#8c94c5\",\"#8c93c4\",\"#8c91c4\",\"#8c90c3\",\"#8c8fc2\",\"#8c8dc2\",\"#8c8cc1\",\"#8c8bc0\",\"#8c89c0\",\"#8c88bf\",\"#8c86be\",\"#8c85be\",\"#8c84bd\",\"#8c82bc\",\"#8c81bc\",\"#8c80bb\",\"#8c7eba\",\"#8c7dba\",\"#8c7cb9\",\"#8c7ab8\",\"#8c79b8\",\"#8c78b7\",\"#8c76b7\",\"#8c75b6\",\"#8c74b5\",\"#8c72b5\",\"#8c71b4\",\"#8c70b3\",\"#8c6eb3\",\"#8c6db2\",\"#8c6cb1\",\"#8c6ab1\",\"#8c69b0\",\"#8c68af\",\"#8c66af\",\"#8b65ae\",\"#8b64ad\",\"#8b62ad\",\"#8b61ac\",\"#8b60ac\",\"#8b5eab\",\"#8b5daa\",\"#8b5caa\",\"#8a5aa9\",\"#8a59a8\",\"#8a58a8\",\"#8a56a7\",\"#8a55a7\",\"#8a54a6\",\"#8a52a5\",\"#8a51a5\",\"#8950a4\",\"#894fa3\",\"#894da3\",\"#894ca2\",\"#894ba2\",\"#8949a1\",\"#8948a0\",\"#8947a0\",\"#88459f\",\"#88449e\",\"#88439e\",\"#88419d\",\"#88409c\",\"#883e9b\",\"#873d9a\",\"#873b99\",\"#873a98\",\"#873897\",\"#873696\",\"#863595\",\"#863394\",\"#863293\",\"#863092\",\"#852f91\",\"#852d90\",\"#852b8f\",\"#852a8e\",\"#85288d\",\"#84278c\",\"#84258b\",\"#84248a\",\"#842289\",\"#832088\",\"#831f86\",\"#831d85\",\"#831c84\",\"#831a83\",\"#821982\",\"#821781\",\"#821580\",\"#82147f\",\"#81127e\",\"#81117d\",\"#810f7c\",\"#800f7b\",\"#7e0e79\",\"#7c0e78\",\"#7b0d76\",\"#790d75\",\"#770c73\",\"#760c71\",\"#740b70\",\"#730b6e\",\"#710a6d\",\"#6f0a6b\",\"#6e096a\",\"#6c0968\",\"#6a0867\",\"#690865\",\"#670864\",\"#650762\",\"#640761\",\"#62065f\",\"#61065d\",\"#5f055c\",\"#5d055a\",\"#5c0459\",\"#5a0457\",\"#580356\",\"#570354\",\"#550253\",\"#540251\",\"#520150\",\"#50014e\",\"#4f004d\",\"#4d004b\"]},\"id\":\"1915\",\"type\":\"LinearColorMapper\"},{\"attributes\":{},\"id\":\"1982\",\"type\":\"SaveTool\"},{\"attributes\":{},\"id\":\"2127\",\"type\":\"BasicTickFormatter\"},{\"attributes\":{\"coordinates\":null,\"data_source\":{\"id\":\"1916\"},\"glyph\":{\"id\":\"1949\"},\"group\":null,\"hover_glyph\":null,\"muted_glyph\":{\"id\":\"1951\"},\"nonselection_glyph\":{\"id\":\"1950\"},\"view\":{\"id\":\"1953\"}},\"id\":\"1952\",\"type\":\"GlyphRenderer\"},{\"attributes\":{},\"id\":\"2128\",\"type\":\"AllLabels\"},{\"attributes\":{\"overlay\":{\"id\":\"1985\"}},\"id\":\"1981\",\"type\":\"BoxZoomTool\"},{\"attributes\":{\"child\":{\"id\":\"1994\"},\"title\":\"Category vs Continuous\"},\"id\":\"2027\",\"type\":\"Panel\"},{\"attributes\":{},\"id\":\"1997\",\"type\":\"DataRange1d\"},{\"attributes\":{\"bottom_units\":\"screen\",\"coordinates\":null,\"fill_alpha\":0.5,\"fill_color\":\"lightgrey\",\"group\":null,\"left_units\":\"screen\",\"level\":\"overlay\",\"line_alpha\":1.0,\"line_color\":\"black\",\"line_dash\":[4,4],\"line_width\":2,\"right_units\":\"screen\",\"syncable\":false,\"top_units\":\"screen\"},\"id\":\"1985\",\"type\":\"BoxAnnotation\"},{\"attributes\":{\"child\":{\"id\":\"1917\"},\"title\":\"Continuous vs Continuous\"},\"id\":\"1959\",\"type\":\"Panel\"},{\"attributes\":{},\"id\":\"1999\",\"type\":\"DataRange1d\"},{\"attributes\":{},\"id\":\"1984\",\"type\":\"HelpTool\"},{\"attributes\":{},\"id\":\"2130\",\"type\":\"BasicTickFormatter\"},{\"attributes\":{},\"id\":\"2131\",\"type\":\"AllLabels\"},{\"attributes\":{\"tools\":[{\"id\":\"1979\"},{\"id\":\"1980\"},{\"id\":\"1981\"},{\"id\":\"1982\"},{\"id\":\"1983\"},{\"id\":\"1984\"}]},\"id\":\"1986\",\"type\":\"Toolbar\"},{\"attributes\":{},\"id\":\"1983\",\"type\":\"ResetTool\"},{\"attributes\":{},\"id\":\"1980\",\"type\":\"WheelZoomTool\"},{\"attributes\":{\"axis\":{\"id\":\"1975\"},\"coordinates\":null,\"dimension\":1,\"group\":null,\"ticker\":null},\"id\":\"1978\",\"type\":\"Grid\"},{\"attributes\":{\"coordinates\":null,\"formatter\":{\"id\":\"2121\"},\"group\":null,\"major_label_policy\":{\"id\":\"2122\"},\"ticker\":{\"id\":\"1976\"}},\"id\":\"1975\",\"type\":\"LinearAxis\"},{\"attributes\":{\"axis\":{\"id\":\"1931\"},\"coordinates\":null,\"dimension\":1,\"group\":null,\"ticker\":null},\"id\":\"1933\",\"type\":\"Grid\"},{\"attributes\":{\"axis\":{\"id\":\"2009\"},\"coordinates\":null,\"dimension\":1,\"group\":null,\"ticker\":null},\"id\":\"2012\",\"type\":\"Grid\"},{\"attributes\":{},\"id\":\"1932\",\"type\":\"CategoricalTicker\"},{\"attributes\":{},\"id\":\"1934\",\"type\":\"PanTool\"},{\"attributes\":{},\"id\":\"2121\",\"type\":\"BasicTickFormatter\"},{\"attributes\":{\"fill_color\":{\"field\":\"corr\",\"transform\":{\"id\":\"1915\"}},\"height\":{\"value\":1},\"line_color\":{\"value\":null},\"width\":{\"value\":1},\"x\":{\"field\":\"x\"},\"y\":{\"field\":\"y\"}},\"id\":\"1949\",\"type\":\"Rect\"},{\"attributes\":{},\"id\":\"1972\",\"type\":\"BasicTicker\"},{\"attributes\":{\"child\":{\"id\":\"1960\"},\"title\":\"Category vs Category\"},\"id\":\"1993\",\"type\":\"Panel\"},{\"attributes\":{},\"id\":\"2014\",\"type\":\"WheelZoomTool\"},{\"attributes\":{},\"id\":\"1965\",\"type\":\"DataRange1d\"},{\"attributes\":{\"coordinates\":null,\"group\":null,\"text\":\"Pass in \\\"cramers v\\\" to show the plot, nothing to display\"},\"id\":\"1961\",\"type\":\"Title\"},{\"attributes\":{\"axis\":{\"id\":\"1971\"},\"coordinates\":null,\"group\":null,\"ticker\":null},\"id\":\"1974\",\"type\":\"Grid\"},{\"attributes\":{},\"id\":\"2118\",\"type\":\"CategoricalTickFormatter\"},{\"attributes\":{\"bottom_units\":\"screen\",\"coordinates\":null,\"fill_alpha\":0.5,\"fill_color\":\"lightgrey\",\"group\":null,\"left_units\":\"screen\",\"level\":\"overlay\",\"line_alpha\":1.0,\"line_color\":\"black\",\"line_dash\":[4,4],\"line_width\":2,\"right_units\":\"screen\",\"syncable\":false,\"top_units\":\"screen\"},\"id\":\"1940\",\"type\":\"BoxAnnotation\"},{\"attributes\":{\"tools\":[{\"id\":\"1934\"},{\"id\":\"1935\"},{\"id\":\"1936\"},{\"id\":\"1937\"},{\"id\":\"1938\"},{\"id\":\"1939\"},{\"id\":\"1954\"}]},\"id\":\"1941\",\"type\":\"Toolbar\"},{\"attributes\":{\"below\":[{\"id\":\"1971\"}],\"center\":[{\"id\":\"1974\"},{\"id\":\"1978\"}],\"left\":[{\"id\":\"1975\"}],\"title\":{\"id\":\"1961\"},\"toolbar\":{\"id\":\"1986\"},\"x_range\":{\"id\":\"1963\"},\"x_scale\":{\"id\":\"1967\"},\"y_range\":{\"id\":\"1965\"},\"y_scale\":{\"id\":\"1969\"}},\"id\":\"1960\",\"subtype\":\"Figure\",\"type\":\"Plot\"},{\"attributes\":{},\"id\":\"2018\",\"type\":\"HelpTool\"},{\"attributes\":{\"overlay\":{\"id\":\"1940\"}},\"id\":\"1936\",\"type\":\"BoxZoomTool\"},{\"attributes\":{\"coordinates\":null,\"formatter\":{\"id\":\"2130\"},\"group\":null,\"major_label_policy\":{\"id\":\"2131\"},\"ticker\":{\"id\":\"2006\"}},\"id\":\"2005\",\"type\":\"LinearAxis\"},{\"attributes\":{},\"id\":\"1938\",\"type\":\"ResetTool\"},{\"attributes\":{\"coordinates\":null,\"formatter\":{\"id\":\"2114\"},\"group\":null,\"major_label_policy\":{\"id\":\"2115\"},\"ticker\":{\"id\":\"1932\"}},\"id\":\"1931\",\"type\":\"CategoricalAxis\"},{\"attributes\":{},\"id\":\"2114\",\"type\":\"CategoricalTickFormatter\"},{\"attributes\":{},\"id\":\"1926\",\"type\":\"CategoricalScale\"},{\"attributes\":{\"color_mapper\":{\"id\":\"1915\"},\"coordinates\":null,\"formatter\":{\"id\":\"1957\"},\"group\":null,\"label_standoff\":6,\"location\":[0,0],\"major_label_policy\":{\"id\":\"2116\"},\"major_label_text_font_size\":\"5pt\",\"ticker\":{\"id\":\"1956\"}},\"id\":\"1958\",\"type\":\"ColorBar\"},{\"attributes\":{\"coordinates\":null,\"group\":null,\"text\":\"Continuous vs Continuous\"},\"id\":\"1918\",\"type\":\"Title\"},{\"attributes\":{},\"id\":\"2006\",\"type\":\"BasicTicker\"},{\"attributes\":{\"bottom_units\":\"screen\",\"coordinates\":null,\"fill_alpha\":0.5,\"fill_color\":\"lightgrey\",\"group\":null,\"left_units\":\"screen\",\"level\":\"overlay\",\"line_alpha\":1.0,\"line_color\":\"black\",\"line_dash\":[4,4],\"line_width\":2,\"right_units\":\"screen\",\"syncable\":false,\"top_units\":\"screen\"},\"id\":\"2019\",\"type\":\"BoxAnnotation\"},{\"attributes\":{\"coordinates\":null,\"formatter\":{\"id\":\"2124\"},\"group\":null,\"major_label_policy\":{\"id\":\"2125\"},\"ticker\":{\"id\":\"1972\"}},\"id\":\"1971\",\"type\":\"LinearAxis\"},{\"attributes\":{},\"id\":\"2119\",\"type\":\"AllLabels\"},{\"attributes\":{\"fill_alpha\":{\"value\":0.2},\"fill_color\":{\"field\":\"corr\",\"transform\":{\"id\":\"1915\"}},\"hatch_alpha\":{\"value\":0.2},\"height\":{\"value\":1},\"line_alpha\":{\"value\":0.2},\"line_color\":{\"value\":null},\"width\":{\"value\":1},\"x\":{\"field\":\"x\"},\"y\":{\"field\":\"y\"}},\"id\":\"1951\",\"type\":\"Rect\"},{\"attributes\":{},\"id\":\"1929\",\"type\":\"CategoricalTicker\"},{\"attributes\":{},\"id\":\"2124\",\"type\":\"BasicTickFormatter\"},{\"attributes\":{\"fill_alpha\":{\"value\":0.1},\"fill_color\":{\"field\":\"corr\",\"transform\":{\"id\":\"1915\"}},\"hatch_alpha\":{\"value\":0.1},\"height\":{\"value\":1},\"line_alpha\":{\"value\":0.1},\"line_color\":{\"value\":null},\"width\":{\"value\":1},\"x\":{\"field\":\"x\"},\"y\":{\"field\":\"y\"}},\"id\":\"1950\",\"type\":\"Rect\"},{\"attributes\":{\"overlay\":{\"id\":\"2019\"}},\"id\":\"2015\",\"type\":\"BoxZoomTool\"},{\"attributes\":{},\"id\":\"1924\",\"type\":\"CategoricalScale\"},{\"attributes\":{\"axis\":{\"id\":\"2005\"},\"coordinates\":null,\"group\":null,\"ticker\":null},\"id\":\"2008\",\"type\":\"Grid\"},{\"attributes\":{\"factors\":[\"Edad\",\"Educaci\\u00f3n\",\"Cigarrillos_por_dia\",\"Colesterol_total\",\"Presion_sistolica\",\"IMC\",\"Frecuencia_Cardiaca\",\"Glicemia\"]},\"id\":\"1922\",\"type\":\"FactorRange\"},{\"attributes\":{},\"id\":\"2122\",\"type\":\"AllLabels\"},{\"attributes\":{},\"id\":\"2115\",\"type\":\"AllLabels\"},{\"attributes\":{\"coordinates\":null,\"formatter\":{\"id\":\"2118\"},\"group\":null,\"major_label_orientation\":\"vertical\",\"major_label_policy\":{\"id\":\"2119\"},\"ticker\":{\"id\":\"1929\"}},\"id\":\"1928\",\"type\":\"CategoricalAxis\"},{\"attributes\":{\"below\":[{\"id\":\"1928\"}],\"center\":[{\"id\":\"1930\"},{\"id\":\"1933\"}],\"left\":[{\"id\":\"1931\"}],\"renderers\":[{\"id\":\"1952\"}],\"right\":[{\"id\":\"1958\"}],\"title\":{\"id\":\"1918\"},\"toolbar\":{\"id\":\"1941\"},\"toolbar_location\":\"below\",\"toolbar_sticky\":false,\"x_range\":{\"id\":\"1920\"},\"x_scale\":{\"id\":\"1924\"},\"y_range\":{\"id\":\"1922\"},\"y_scale\":{\"id\":\"1926\"}},\"id\":\"1917\",\"subtype\":\"Figure\",\"type\":\"Plot\"},{\"attributes\":{},\"id\":\"2017\",\"type\":\"ResetTool\"},{\"attributes\":{\"below\":[{\"id\":\"2005\"}],\"center\":[{\"id\":\"2008\"},{\"id\":\"2012\"}],\"left\":[{\"id\":\"2009\"}],\"title\":{\"id\":\"1995\"},\"toolbar\":{\"id\":\"2020\"},\"x_range\":{\"id\":\"1997\"},\"x_scale\":{\"id\":\"2001\"},\"y_range\":{\"id\":\"1999\"},\"y_scale\":{\"id\":\"2003\"}},\"id\":\"1994\",\"subtype\":\"Figure\",\"type\":\"Plot\"},{\"attributes\":{\"tools\":[{\"id\":\"2013\"},{\"id\":\"2014\"},{\"id\":\"2015\"},{\"id\":\"2016\"},{\"id\":\"2017\"},{\"id\":\"2018\"}]},\"id\":\"2020\",\"type\":\"Toolbar\"},{\"attributes\":{},\"id\":\"2003\",\"type\":\"LinearScale\"},{\"attributes\":{\"axis\":{\"id\":\"1928\"},\"coordinates\":null,\"group\":null,\"ticker\":null},\"id\":\"1930\",\"type\":\"Grid\"},{\"attributes\":{},\"id\":\"2013\",\"type\":\"PanTool\"},{\"attributes\":{\"callback\":null,\"tooltips\":[[\"X\",\"@x\"],[\"Y\",\"@y\"],[\"Corr\",\"@corr\"]]},\"id\":\"1954\",\"type\":\"HoverTool\"},{\"attributes\":{},\"id\":\"2001\",\"type\":\"LinearScale\"},{\"attributes\":{},\"id\":\"1935\",\"type\":\"WheelZoomTool\"},{\"attributes\":{},\"id\":\"1969\",\"type\":\"LinearScale\"},{\"attributes\":{},\"id\":\"2116\",\"type\":\"NoOverlap\"},{\"attributes\":{},\"id\":\"1963\",\"type\":\"DataRange1d\"},{\"attributes\":{\"format\":\"%0.2f\"},\"id\":\"1957\",\"type\":\"PrintfTickFormatter\"},{\"attributes\":{},\"id\":\"1967\",\"type\":\"LinearScale\"},{\"attributes\":{\"coordinates\":null,\"group\":null,\"text\":\"Pass in \\\"correlation ratio\\\" to show the plot, nothing to display\"},\"id\":\"1995\",\"type\":\"Title\"},{\"attributes\":{},\"id\":\"1939\",\"type\":\"HelpTool\"},{\"attributes\":{\"desired_num_ticks\":8},\"id\":\"1956\",\"type\":\"BasicTicker\"},{\"attributes\":{},\"id\":\"2016\",\"type\":\"SaveTool\"},{\"attributes\":{},\"id\":\"1937\",\"type\":\"SaveTool\"},{\"attributes\":{\"factors\":[\"Edad\",\"Educaci\\u00f3n\",\"Cigarrillos_por_dia\",\"Colesterol_total\",\"Presion_sistolica\",\"IMC\",\"Frecuencia_Cardiaca\",\"Glicemia\"]},\"id\":\"1920\",\"type\":\"FactorRange\"},{\"attributes\":{},\"id\":\"2010\",\"type\":\"BasicTicker\"},{\"attributes\":{\"coordinates\":null,\"formatter\":{\"id\":\"2127\"},\"group\":null,\"major_label_policy\":{\"id\":\"2128\"},\"ticker\":{\"id\":\"2010\"}},\"id\":\"2009\",\"type\":\"LinearAxis\"}],\"root_ids\":[\"2028\"]},\"title\":\"Bokeh Application\",\"version\":\"2.4.3\"}};\n  const render_items = [{\"docid\":\"70954ee0-aa75-44f1-b096-15263ebba865\",\"root_ids\":[\"2028\"],\"roots\":{\"2028\":\"2df8929f-003a-4976-8128-e53fa35bc777\"}}];\n  root.Bokeh.embed.embed_items_notebook(docs_json, render_items);\n  }\n  if (root.Bokeh !== undefined) {\n    embed_document(root);\n  } else {\n    let attempts = 0;\n    const timer = setInterval(function(root) {\n      if (root.Bokeh !== undefined) {\n        clearInterval(timer);\n        embed_document(root);\n      } else {\n        attempts++;\n        if (attempts > 100) {\n          clearInterval(timer);\n          console.log(\"Bokeh: ERROR: Unable to run BokehJS code because BokehJS library is missing\");\n        }\n      }\n    }, 10, root)\n  }\n})(window);",
      "application/vnd.bokehjs_exec.v0+json": ""
     },
     "metadata": {
      "application/vnd.bokehjs_exec.v0+json": {
       "id": "2028"
      }
     },
     "output_type": "display_data"
    },
    {
     "data": {
      "application/vnd.jupyter.widget-view+json": {
       "model_id": "6257e4502d5f4f48b6461b82ec98feec",
       "version_major": 2,
       "version_minor": 0
      },
      "text/plain": [
       "Accordion(children=(HTML(value='<h3>Type: BinaryClassificationDataset</h3><h3>4,238 Rows, 15 Columns</h3><h4>C…"
      ]
     },
     "metadata": {},
     "output_type": "display_data"
    }
   ],
   "source": [
    "bd.show_in_notebook()"
   ]
  },
  {
   "cell_type": "code",
   "execution_count": 165,
   "id": "609ba8b4",
   "metadata": {},
   "outputs": [
    {
     "data": {
      "image/png": "[encoded data removed]",
      "text/plain": [
       "<Figure size 576x432 with 1 Axes>"
      ]
     },
     "metadata": {},
     "output_type": "display_data"
    }
   ],
   "source": [
    "bd.target.show_in_notebook()"
   ]
  },
  {
   "cell_type": "code",
   "execution_count": 166,
   "id": "083fd7d0",
   "metadata": {},
   "outputs": [
    {
     "data": {
      "text/plain": [
       "0    3594\n",
       "1     644\n",
       "Name: Reizgo_EAC_decada, dtype: int64"
      ]
     },
     "execution_count": 166,
     "metadata": {},
     "output_type": "execute_result"
    }
   ],
   "source": [
    "bd.Reizgo_EAC_decada.value_counts()"
   ]
  },
  {
   "cell_type": "code",
   "execution_count": 167,
   "id": "5c73354c",
   "metadata": {},
   "outputs": [
    {
     "data": {
      "text/plain": [
       "0    0.848042\n",
       "1    0.151958\n",
       "Name: Reizgo_EAC_decada, dtype: float64"
      ]
     },
     "execution_count": 167,
     "metadata": {},
     "output_type": "execute_result"
    }
   ],
   "source": [
    "bd.Reizgo_EAC_decada.value_counts(normalize=True)"
   ]
  },
  {
   "cell_type": "code",
   "execution_count": 168,
   "id": "4b78ca44",
   "metadata": {},
   "outputs": [],
   "source": [
    "import imblearn\n",
    "bd_sobremuestreado = bd.up_sample(sampler='default')"
   ]
  },
  {
   "cell_type": "code",
   "execution_count": 169,
   "id": "5f01c696",
   "metadata": {},
   "outputs": [
    {
     "data": {
      "application/javascript": "(function(root) {\n  function now() {\n    return new Date();\n  }\n\n  const force = true;\n\n  if (typeof root._bokeh_onload_callbacks === \"undefined\" || force === true) {\n    root._bokeh_onload_callbacks = [];\n    root._bokeh_is_loading = undefined;\n  }\n\nconst JS_MIME_TYPE = 'application/javascript';\n  const HTML_MIME_TYPE = 'text/html';\n  const EXEC_MIME_TYPE = 'application/vnd.bokehjs_exec.v0+json';\n  const CLASS_NAME = 'output_bokeh rendered_html';\n\n  /**\n   * Render data to the DOM node\n   */\n  function render(props, node) {\n    const script = document.createElement(\"script\");\n    node.appendChild(script);\n  }\n\n  /**\n   * Handle when an output is cleared or removed\n   */\n  function handleClearOutput(event, handle) {\n    const cell = handle.cell;\n\n    const id = cell.output_area._bokeh_element_id;\n    const server_id = cell.output_area._bokeh_server_id;\n    // Clean up Bokeh references\n    if (id != null && id in Bokeh.index) {\n      Bokeh.index[id].model.document.clear();\n      delete Bokeh.index[id];\n    }\n\n    if (server_id !== undefined) {\n      // Clean up Bokeh references\n      const cmd_clean = \"from bokeh.io.state import curstate; print(curstate().uuid_to_server['\" + server_id + \"'].get_sessions()[0].document.roots[0]._id)\";\n      cell.notebook.kernel.execute(cmd_clean, {\n        iopub: {\n          output: function(msg) {\n            const id = msg.content.text.trim();\n            if (id in Bokeh.index) {\n              Bokeh.index[id].model.document.clear();\n              delete Bokeh.index[id];\n            }\n          }\n        }\n      });\n      // Destroy server and session\n      const cmd_destroy = \"import bokeh.io.notebook as ion; ion.destroy_server('\" + server_id + \"')\";\n      cell.notebook.kernel.execute(cmd_destroy);\n    }\n  }\n\n  /**\n   * Handle when a new output is added\n   */\n  function handleAddOutput(event, handle) {\n    const output_area = handle.output_area;\n    const output = handle.output;\n\n    // limit handleAddOutput to display_data with EXEC_MIME_TYPE content only\n    if ((output.output_type != \"display_data\") || (!Object.prototype.hasOwnProperty.call(output.data, EXEC_MIME_TYPE))) {\n      return\n    }\n\n    const toinsert = output_area.element.find(\".\" + CLASS_NAME.split(' ')[0]);\n\n    if (output.metadata[EXEC_MIME_TYPE][\"id\"] !== undefined) {\n      toinsert[toinsert.length - 1].firstChild.textContent = output.data[JS_MIME_TYPE];\n      // store reference to embed id on output_area\n      output_area._bokeh_element_id = output.metadata[EXEC_MIME_TYPE][\"id\"];\n    }\n    if (output.metadata[EXEC_MIME_TYPE][\"server_id\"] !== undefined) {\n      const bk_div = document.createElement(\"div\");\n      bk_div.innerHTML = output.data[HTML_MIME_TYPE];\n      const script_attrs = bk_div.children[0].attributes;\n      for (let i = 0; i < script_attrs.length; i++) {\n        toinsert[toinsert.length - 1].firstChild.setAttribute(script_attrs[i].name, script_attrs[i].value);\n        toinsert[toinsert.length - 1].firstChild.textContent = bk_div.children[0].textContent\n      }\n      // store reference to server id on output_area\n      output_area._bokeh_server_id = output.metadata[EXEC_MIME_TYPE][\"server_id\"];\n    }\n  }\n\n  function register_renderer(events, OutputArea) {\n\n    function append_mime(data, metadata, element) {\n      // create a DOM node to render to\n      const toinsert = this.create_output_subarea(\n        metadata,\n        CLASS_NAME,\n        EXEC_MIME_TYPE\n      );\n      this.keyboard_manager.register_events(toinsert);\n      // Render to node\n      const props = {data: data, metadata: metadata[EXEC_MIME_TYPE]};\n      render(props, toinsert[toinsert.length - 1]);\n      element.append(toinsert);\n      return toinsert\n    }\n\n    /* Handle when an output is cleared or removed */\n    events.on('clear_output.CodeCell', handleClearOutput);\n    events.on('delete.Cell', handleClearOutput);\n\n    /* Handle when a new output is added */\n    events.on('output_added.OutputArea', handleAddOutput);\n\n    /**\n     * Register the mime type and append_mime function with output_area\n     */\n    OutputArea.prototype.register_mime_type(EXEC_MIME_TYPE, append_mime, {\n      /* Is output safe? */\n      safe: true,\n      /* Index of renderer in `output_area.display_order` */\n      index: 0\n    });\n  }\n\n  // register the mime type if in Jupyter Notebook environment and previously unregistered\n  if (root.Jupyter !== undefined) {\n    const events = require('base/js/events');\n    const OutputArea = require('notebook/js/outputarea').OutputArea;\n\n    if (OutputArea.prototype.mime_types().indexOf(EXEC_MIME_TYPE) == -1) {\n      register_renderer(events, OutputArea);\n    }\n  }\n  if (typeof (root._bokeh_timeout) === \"undefined\" || force === true) {\n    root._bokeh_timeout = Date.now() + 5000;\n    root._bokeh_failed_load = false;\n  }\n\n  const NB_LOAD_WARNING = {'data': {'text/html':\n     \"<div style='background-color: #fdd'>\\n\"+\n     \"<p>\\n\"+\n     \"BokehJS does not appear to have successfully loaded. If loading BokehJS from CDN, this \\n\"+\n     \"may be due to a slow or bad network connection. Possible fixes:\\n\"+\n     \"</p>\\n\"+\n     \"<ul>\\n\"+\n     \"<li>re-rerun `output_notebook()` to attempt to load from CDN again, or</li>\\n\"+\n     \"<li>use INLINE resources instead, as so:</li>\\n\"+\n     \"</ul>\\n\"+\n     \"<code>\\n\"+\n     \"from bokeh.resources import INLINE\\n\"+\n     \"output_notebook(resources=INLINE)\\n\"+\n     \"</code>\\n\"+\n     \"</div>\"}};\n\n  function display_loaded() {\n    const el = document.getElementById(\"2272\");\n    if (el != null) {\n      el.textContent = \"BokehJS is loading...\";\n    }\n    if (root.Bokeh !== undefined) {\n      if (el != null) {\n        el.textContent = \"BokehJS \" + root.Bokeh.version + \" successfully loaded.\";\n      }\n    } else if (Date.now() < root._bokeh_timeout) {\n      setTimeout(display_loaded, 100)\n    }\n  }\n\n  function run_callbacks() {\n    try {\n      root._bokeh_onload_callbacks.forEach(function(callback) {\n        if (callback != null)\n          callback();\n      });\n    } finally {\n      delete root._bokeh_onload_callbacks\n    }\n    console.debug(\"Bokeh: all callbacks have finished\");\n  }\n\n  function load_libs(css_urls, js_urls, callback) {\n    if (css_urls == null) css_urls = [];\n    if (js_urls == null) js_urls = [];\n\n    root._bokeh_onload_callbacks.push(callback);\n    if (root._bokeh_is_loading > 0) {\n      console.debug(\"Bokeh: BokehJS is being loaded, scheduling callback at\", now());\n      return null;\n    }\n    if (js_urls == null || js_urls.length === 0) {\n      run_callbacks();\n      return null;\n    }\n    console.debug(\"Bokeh: BokehJS not loaded, scheduling load and callback at\", now());\n    root._bokeh_is_loading = css_urls.length + js_urls.length;\n\n    function on_load() {\n      root._bokeh_is_loading--;\n      if (root._bokeh_is_loading === 0) {\n        console.debug(\"Bokeh: all BokehJS libraries/stylesheets loaded\");\n        run_callbacks()\n      }\n    }\n\n    function on_error(url) {\n      console.error(\"failed to load \" + url);\n    }\n\n    for (let i = 0; i < css_urls.length; i++) {\n      const url = css_urls[i];\n      const element = document.createElement(\"link\");\n      element.onload = on_load;\n      element.onerror = on_error.bind(null, url);\n      element.rel = \"stylesheet\";\n      element.type = \"text/css\";\n      element.href = url;\n      console.debug(\"Bokeh: injecting link tag for BokehJS stylesheet: \", url);\n      document.body.appendChild(element);\n    }\n\n    for (let i = 0; i < js_urls.length; i++) {\n      const url = js_urls[i];\n      const element = document.createElement('script');\n      element.onload = on_load;\n      element.onerror = on_error.bind(null, url);\n      element.async = false;\n      element.src = url;\n      console.debug(\"Bokeh: injecting script tag for BokehJS library: \", url);\n      document.head.appendChild(element);\n    }\n  };\n\n  function inject_raw_css(css) {\n    const element = document.createElement(\"style\");\n    element.appendChild(document.createTextNode(css));\n    document.body.appendChild(element);\n  }\n\n  const js_urls = [\"https://cdn.bokeh.org/bokeh/release/bokeh-2.4.3.min.js\", \"https://cdn.bokeh.org/bokeh/release/bokeh-gl-2.4.3.min.js\", \"https://cdn.bokeh.org/bokeh/release/bokeh-widgets-2.4.3.min.js\", \"https://cdn.bokeh.org/bokeh/release/bokeh-tables-2.4.3.min.js\", \"https://cdn.bokeh.org/bokeh/release/bokeh-mathjax-2.4.3.min.js\"];\n  const css_urls = [];\n\n  const inline_js = [    function(Bokeh) {\n      Bokeh.set_log_level(\"info\");\n    },\nfunction(Bokeh) {\n    }\n  ];\n\n  function run_inline_js() {\n    if (root.Bokeh !== undefined || force === true) {\n          for (let i = 0; i < inline_js.length; i++) {\n      inline_js[i].call(root, root.Bokeh);\n    }\nif (force === true) {\n        display_loaded();\n      }} else if (Date.now() < root._bokeh_timeout) {\n      setTimeout(run_inline_js, 100);\n    } else if (!root._bokeh_failed_load) {\n      console.log(\"Bokeh: BokehJS failed to load within specified timeout.\");\n      root._bokeh_failed_load = true;\n    } else if (force !== true) {\n      const cell = $(document.getElementById(\"2272\")).parents('.cell').data().cell;\n      cell.output_area.append_execute_result(NB_LOAD_WARNING)\n    }\n  }\n\n  if (root._bokeh_is_loading === 0) {\n    console.debug(\"Bokeh: BokehJS loaded, going straight to plotting\");\n    run_inline_js();\n  } else {\n    load_libs(css_urls, js_urls, function() {\n      console.debug(\"Bokeh: BokehJS plotting callback run at\", now());\n      run_inline_js();\n    });\n  }\n}(window));",
      "application/vnd.bokehjs_load.v0+json": ""
     },
     "metadata": {},
     "output_type": "display_data"
    },
    {
     "data": {
      "application/javascript": "(function(root) {\n  function embed_document(root) {\n  const docs_json = {\"822b5c5f-f71f-4fe5-a913-ba83639cdf0e\":{\"defs\":[],\"roots\":{\"references\":[{\"attributes\":{\"tabs\":[{\"id\":\"2317\"},{\"id\":\"2351\"},{\"id\":\"2385\"}]},\"id\":\"2386\",\"type\":\"Tabs\"},{\"attributes\":{},\"id\":\"2327\",\"type\":\"LinearScale\"},{\"attributes\":{},\"id\":\"2506\",\"type\":\"BasicTickFormatter\"},{\"attributes\":{\"coordinates\":null,\"formatter\":{\"id\":\"2506\"},\"group\":null,\"major_label_policy\":{\"id\":\"2507\"},\"ticker\":{\"id\":\"2334\"}},\"id\":\"2333\",\"type\":\"LinearAxis\"},{\"attributes\":{},\"id\":\"2507\",\"type\":\"AllLabels\"},{\"attributes\":{},\"id\":\"2321\",\"type\":\"DataRange1d\"},{\"attributes\":{},\"id\":\"2282\",\"type\":\"CategoricalScale\"},{\"attributes\":{},\"id\":\"2325\",\"type\":\"LinearScale\"},{\"attributes\":{},\"id\":\"2509\",\"type\":\"BasicTickFormatter\"},{\"attributes\":{\"axis\":{\"id\":\"2329\"},\"coordinates\":null,\"group\":null,\"ticker\":null},\"id\":\"2332\",\"type\":\"Grid\"},{\"attributes\":{},\"id\":\"2510\",\"type\":\"AllLabels\"},{\"attributes\":{\"coordinates\":null,\"group\":null,\"text\":\"Pass in \\\"cramers v\\\" to show the plot, nothing to display\"},\"id\":\"2319\",\"type\":\"Title\"},{\"attributes\":{\"child\":{\"id\":\"2318\"},\"title\":\"Category vs Category\"},\"id\":\"2351\",\"type\":\"Panel\"},{\"attributes\":{\"coordinates\":null,\"formatter\":{\"id\":\"2503\"},\"group\":null,\"major_label_orientation\":\"vertical\",\"major_label_policy\":{\"id\":\"2504\"},\"ticker\":{\"id\":\"2287\"}},\"id\":\"2286\",\"type\":\"CategoricalAxis\"},{\"attributes\":{\"below\":[{\"id\":\"2363\"}],\"center\":[{\"id\":\"2366\"},{\"id\":\"2370\"}],\"left\":[{\"id\":\"2367\"}],\"title\":{\"id\":\"2353\"},\"toolbar\":{\"id\":\"2378\"},\"x_range\":{\"id\":\"2355\"},\"x_scale\":{\"id\":\"2359\"},\"y_range\":{\"id\":\"2357\"},\"y_scale\":{\"id\":\"2361\"}},\"id\":\"2352\",\"subtype\":\"Figure\",\"type\":\"Plot\"},{\"attributes\":{},\"id\":\"2334\",\"type\":\"BasicTicker\"},{\"attributes\":{\"tools\":[{\"id\":\"2337\"},{\"id\":\"2338\"},{\"id\":\"2339\"},{\"id\":\"2340\"},{\"id\":\"2341\"},{\"id\":\"2342\"}]},\"id\":\"2344\",\"type\":\"Toolbar\"},{\"attributes\":{\"coordinates\":null,\"formatter\":{\"id\":\"2509\"},\"group\":null,\"major_label_policy\":{\"id\":\"2510\"},\"ticker\":{\"id\":\"2330\"}},\"id\":\"2329\",\"type\":\"LinearAxis\"},{\"attributes\":{\"data\":{\"corr\":{\"__ndarray__\":\"AAAAAAAA8D9UGHI0tcPDvwsBkMYKXcu/RmT/lhSmyj8WGpeu+FjaPwII374CNMI/tTWw3a25WD8aYjogHHu+P1QYcjS1w8O/AAAAAAAA8D+RyGtNBtFuP0NO7FHYo5o/lw+Z4Wdhvb81MizavTnAv/prlANTwau/bvL8qld0ob8LAZDGCl3Lv5HIa00G0W4/AAAAAAAA8D/kt/u5MKiiv0uZq4MEvLi/hzaos7cpt7/IS5Gtika5P3JcnqkMza2/RmT/lhSmyj9DTuxR2KOaP+S3+7kwqKK/AAAAAAAA8D/qTW2vz1/HP1g6hh5zTLg/3kw32LQZuD8D0eEu8We2PxYal674WNo/lw+Z4Wdhvb9LmauDBLy4v+pNba/PX8c/AAAAAAAA8D9LoSuSCJ3UP3xB84gKjsU/qf/uqcB9wj8CCN++AjTCPzUyLNq9OcC/hzaos7cpt79YOoYec0y4P0uhK5IIndQ/AAAAAAAA8D/uMjQ68WOzP2qzD+Kvors/tTWw3a25WD/6a5QDU8Grv8hLka2KRrk/3kw32LQZuD98QfOICo7FP+4yNDrxY7M/AAAAAAAA8D/fQRbNxeW1PxpiOiAce74/bvL8qld0ob9yXJ6pDM2tvwPR4S7xZ7Y/qf/uqcB9wj9qsw/ir6K7P99BFs3F5bU/AAAAAAAA8D8=\",\"dtype\":\"float64\",\"order\":\"little\",\"shape\":[64]},\"index\":[0,1,2,3,4,5,6,7,8,9,10,11,12,13,14,15,16,17,18,19,20,21,22,23,24,25,26,27,28,29,30,31,32,33,34,35,36,37,38,39,40,41,42,43,44,45,46,47,48,49,50,51,52,53,54,55,56,57,58,59,60,61,62,63],\"x\":[\"Edad\",\"Educaci\\u00f3n\",\"Cigarrillos_por_dia\",\"Colesterol_total\",\"Presion_sistolica\",\"IMC\",\"Frecuencia_Cardiaca\",\"Glicemia\",\"Edad\",\"Educaci\\u00f3n\",\"Cigarrillos_por_dia\",\"Colesterol_total\",\"Presion_sistolica\",\"IMC\",\"Frecuencia_Cardiaca\",\"Glicemia\",\"Edad\",\"Educaci\\u00f3n\",\"Cigarrillos_por_dia\",\"Colesterol_total\",\"Presion_sistolica\",\"IMC\",\"Frecuencia_Cardiaca\",\"Glicemia\",\"Edad\",\"Educaci\\u00f3n\",\"Cigarrillos_por_dia\",\"Colesterol_total\",\"Presion_sistolica\",\"IMC\",\"Frecuencia_Cardiaca\",\"Glicemia\",\"Edad\",\"Educaci\\u00f3n\",\"Cigarrillos_por_dia\",\"Colesterol_total\",\"Presion_sistolica\",\"IMC\",\"Frecuencia_Cardiaca\",\"Glicemia\",\"Edad\",\"Educaci\\u00f3n\",\"Cigarrillos_por_dia\",\"Colesterol_total\",\"Presion_sistolica\",\"IMC\",\"Frecuencia_Cardiaca\",\"Glicemia\",\"Edad\",\"Educaci\\u00f3n\",\"Cigarrillos_por_dia\",\"Colesterol_total\",\"Presion_sistolica\",\"IMC\",\"Frecuencia_Cardiaca\",\"Glicemia\",\"Edad\",\"Educaci\\u00f3n\",\"Cigarrillos_por_dia\",\"Colesterol_total\",\"Presion_sistolica\",\"IMC\",\"Frecuencia_Cardiaca\",\"Glicemia\"],\"y\":[\"Edad\",\"Edad\",\"Edad\",\"Edad\",\"Edad\",\"Edad\",\"Edad\",\"Edad\",\"Educaci\\u00f3n\",\"Educaci\\u00f3n\",\"Educaci\\u00f3n\",\"Educaci\\u00f3n\",\"Educaci\\u00f3n\",\"Educaci\\u00f3n\",\"Educaci\\u00f3n\",\"Educaci\\u00f3n\",\"Cigarrillos_por_dia\",\"Cigarrillos_por_dia\",\"Cigarrillos_por_dia\",\"Cigarrillos_por_dia\",\"Cigarrillos_por_dia\",\"Cigarrillos_por_dia\",\"Cigarrillos_por_dia\",\"Cigarrillos_por_dia\",\"Colesterol_total\",\"Colesterol_total\",\"Colesterol_total\",\"Colesterol_total\",\"Colesterol_total\",\"Colesterol_total\",\"Colesterol_total\",\"Colesterol_total\",\"Presion_sistolica\",\"Presion_sistolica\",\"Presion_sistolica\",\"Presion_sistolica\",\"Presion_sistolica\",\"Presion_sistolica\",\"Presion_sistolica\",\"Presion_sistolica\",\"IMC\",\"IMC\",\"IMC\",\"IMC\",\"IMC\",\"IMC\",\"IMC\",\"IMC\",\"Frecuencia_Cardiaca\",\"Frecuencia_Cardiaca\",\"Frecuencia_Cardiaca\",\"Frecuencia_Cardiaca\",\"Frecuencia_Cardiaca\",\"Frecuencia_Cardiaca\",\"Frecuencia_Cardiaca\",\"Frecuencia_Cardiaca\",\"Glicemia\",\"Glicemia\",\"Glicemia\",\"Glicemia\",\"Glicemia\",\"Glicemia\",\"Glicemia\",\"Glicemia\"]},\"selected\":{\"id\":\"2518\"},\"selection_policy\":{\"id\":\"2517\"}},\"id\":\"2274\",\"type\":\"ColumnDataSource\"},{\"attributes\":{},\"id\":\"2342\",\"type\":\"HelpTool\"},{\"attributes\":{},\"id\":\"2341\",\"type\":\"ResetTool\"},{\"attributes\":{},\"id\":\"2512\",\"type\":\"BasicTickFormatter\"},{\"attributes\":{},\"id\":\"2290\",\"type\":\"CategoricalTicker\"},{\"attributes\":{\"coordinates\":null,\"group\":null,\"text\":\"Continuous vs Continuous\"},\"id\":\"2276\",\"type\":\"Title\"},{\"attributes\":{},\"id\":\"2513\",\"type\":\"AllLabels\"},{\"attributes\":{},\"id\":\"2500\",\"type\":\"AllLabels\"},{\"attributes\":{},\"id\":\"2338\",\"type\":\"WheelZoomTool\"},{\"attributes\":{\"axis\":{\"id\":\"2286\"},\"coordinates\":null,\"group\":null,\"ticker\":null},\"id\":\"2288\",\"type\":\"Grid\"},{\"attributes\":{},\"id\":\"2515\",\"type\":\"BasicTickFormatter\"},{\"attributes\":{},\"id\":\"2499\",\"type\":\"CategoricalTickFormatter\"},{\"attributes\":{},\"id\":\"2516\",\"type\":\"AllLabels\"},{\"attributes\":{},\"id\":\"2284\",\"type\":\"CategoricalScale\"},{\"attributes\":{},\"id\":\"2501\",\"type\":\"NoOverlap\"},{\"attributes\":{\"factors\":[\"Edad\",\"Educaci\\u00f3n\",\"Cigarrillos_por_dia\",\"Colesterol_total\",\"Presion_sistolica\",\"IMC\",\"Frecuencia_Cardiaca\",\"Glicemia\"]},\"id\":\"2280\",\"type\":\"FactorRange\"},{\"attributes\":{\"fill_color\":{\"field\":\"corr\",\"transform\":{\"id\":\"2273\"}},\"height\":{\"value\":1},\"line_color\":{\"value\":null},\"width\":{\"value\":1},\"x\":{\"field\":\"x\"},\"y\":{\"field\":\"y\"}},\"id\":\"2307\",\"type\":\"Rect\"},{\"attributes\":{},\"id\":\"2287\",\"type\":\"CategoricalTicker\"},{\"attributes\":{},\"id\":\"2504\",\"type\":\"AllLabels\"},{\"attributes\":{\"factors\":[\"Edad\",\"Educaci\\u00f3n\",\"Cigarrillos_por_dia\",\"Colesterol_total\",\"Presion_sistolica\",\"IMC\",\"Frecuencia_Cardiaca\",\"Glicemia\"]},\"id\":\"2278\",\"type\":\"FactorRange\"},{\"attributes\":{},\"id\":\"2503\",\"type\":\"CategoricalTickFormatter\"},{\"attributes\":{\"below\":[{\"id\":\"2286\"}],\"center\":[{\"id\":\"2288\"},{\"id\":\"2291\"}],\"left\":[{\"id\":\"2289\"}],\"renderers\":[{\"id\":\"2310\"}],\"right\":[{\"id\":\"2316\"}],\"title\":{\"id\":\"2276\"},\"toolbar\":{\"id\":\"2299\"},\"toolbar_location\":\"below\",\"toolbar_sticky\":false,\"x_range\":{\"id\":\"2278\"},\"x_scale\":{\"id\":\"2282\"},\"y_range\":{\"id\":\"2280\"},\"y_scale\":{\"id\":\"2284\"}},\"id\":\"2275\",\"subtype\":\"Figure\",\"type\":\"Plot\"},{\"attributes\":{},\"id\":\"2517\",\"type\":\"UnionRenderers\"},{\"attributes\":{},\"id\":\"2518\",\"type\":\"Selection\"},{\"attributes\":{\"bottom_units\":\"screen\",\"coordinates\":null,\"fill_alpha\":0.5,\"fill_color\":\"lightgrey\",\"group\":null,\"left_units\":\"screen\",\"level\":\"overlay\",\"line_alpha\":1.0,\"line_color\":\"black\",\"line_dash\":[4,4],\"line_width\":2,\"right_units\":\"screen\",\"syncable\":false,\"top_units\":\"screen\"},\"id\":\"2343\",\"type\":\"BoxAnnotation\"},{\"attributes\":{},\"id\":\"2323\",\"type\":\"DataRange1d\"},{\"attributes\":{},\"id\":\"2340\",\"type\":\"SaveTool\"},{\"attributes\":{},\"id\":\"2337\",\"type\":\"PanTool\"},{\"attributes\":{\"child\":{\"id\":\"2352\"},\"title\":\"Category vs Continuous\"},\"id\":\"2385\",\"type\":\"Panel\"},{\"attributes\":{\"coordinates\":null,\"formatter\":{\"id\":\"2499\"},\"group\":null,\"major_label_policy\":{\"id\":\"2500\"},\"ticker\":{\"id\":\"2290\"}},\"id\":\"2289\",\"type\":\"CategoricalAxis\"},{\"attributes\":{},\"id\":\"2330\",\"type\":\"BasicTicker\"},{\"attributes\":{\"overlay\":{\"id\":\"2343\"}},\"id\":\"2339\",\"type\":\"BoxZoomTool\"},{\"attributes\":{\"axis\":{\"id\":\"2333\"},\"coordinates\":null,\"dimension\":1,\"group\":null,\"ticker\":null},\"id\":\"2336\",\"type\":\"Grid\"},{\"attributes\":{},\"id\":\"2361\",\"type\":\"LinearScale\"},{\"attributes\":{\"fill_alpha\":{\"value\":0.2},\"fill_color\":{\"field\":\"corr\",\"transform\":{\"id\":\"2273\"}},\"hatch_alpha\":{\"value\":0.2},\"height\":{\"value\":1},\"line_alpha\":{\"value\":0.2},\"line_color\":{\"value\":null},\"width\":{\"value\":1},\"x\":{\"field\":\"x\"},\"y\":{\"field\":\"y\"}},\"id\":\"2309\",\"type\":\"Rect\"},{\"attributes\":{\"callback\":null,\"tooltips\":[[\"X\",\"@x\"],[\"Y\",\"@y\"],[\"Corr\",\"@corr\"]]},\"id\":\"2312\",\"type\":\"HoverTool\"},{\"attributes\":{},\"id\":\"2296\",\"type\":\"ResetTool\"},{\"attributes\":{\"color_mapper\":{\"id\":\"2273\"},\"coordinates\":null,\"formatter\":{\"id\":\"2315\"},\"group\":null,\"label_standoff\":6,\"location\":[0,0],\"major_label_policy\":{\"id\":\"2501\"},\"major_label_text_font_size\":\"5pt\",\"ticker\":{\"id\":\"2314\"}},\"id\":\"2316\",\"type\":\"ColorBar\"},{\"attributes\":{\"axis\":{\"id\":\"2363\"},\"coordinates\":null,\"group\":null,\"ticker\":null},\"id\":\"2366\",\"type\":\"Grid\"},{\"attributes\":{\"tools\":[{\"id\":\"2292\"},{\"id\":\"2293\"},{\"id\":\"2294\"},{\"id\":\"2295\"},{\"id\":\"2296\"},{\"id\":\"2297\"},{\"id\":\"2312\"}]},\"id\":\"2299\",\"type\":\"Toolbar\"},{\"attributes\":{\"overlay\":{\"id\":\"2298\"}},\"id\":\"2294\",\"type\":\"BoxZoomTool\"},{\"attributes\":{},\"id\":\"2292\",\"type\":\"PanTool\"},{\"attributes\":{},\"id\":\"2364\",\"type\":\"BasicTicker\"},{\"attributes\":{\"source\":{\"id\":\"2274\"}},\"id\":\"2311\",\"type\":\"CDSView\"},{\"attributes\":{},\"id\":\"2372\",\"type\":\"WheelZoomTool\"},{\"attributes\":{},\"id\":\"2368\",\"type\":\"BasicTicker\"},{\"attributes\":{\"desired_num_ticks\":8},\"id\":\"2314\",\"type\":\"BasicTicker\"},{\"attributes\":{\"child\":{\"id\":\"2275\"},\"title\":\"Continuous vs Continuous\"},\"id\":\"2317\",\"type\":\"Panel\"},{\"attributes\":{\"axis\":{\"id\":\"2289\"},\"coordinates\":null,\"dimension\":1,\"group\":null,\"ticker\":null},\"id\":\"2291\",\"type\":\"Grid\"},{\"attributes\":{\"axis\":{\"id\":\"2367\"},\"coordinates\":null,\"dimension\":1,\"group\":null,\"ticker\":null},\"id\":\"2370\",\"type\":\"Grid\"},{\"attributes\":{\"coordinates\":null,\"formatter\":{\"id\":\"2515\"},\"group\":null,\"major_label_policy\":{\"id\":\"2516\"},\"ticker\":{\"id\":\"2364\"}},\"id\":\"2363\",\"type\":\"LinearAxis\"},{\"attributes\":{\"fill_alpha\":{\"value\":0.1},\"fill_color\":{\"field\":\"corr\",\"transform\":{\"id\":\"2273\"}},\"hatch_alpha\":{\"value\":0.1},\"height\":{\"value\":1},\"line_alpha\":{\"value\":0.1},\"line_color\":{\"value\":null},\"width\":{\"value\":1},\"x\":{\"field\":\"x\"},\"y\":{\"field\":\"y\"}},\"id\":\"2308\",\"type\":\"Rect\"},{\"attributes\":{},\"id\":\"2375\",\"type\":\"ResetTool\"},{\"attributes\":{\"format\":\"%0.2f\"},\"id\":\"2315\",\"type\":\"PrintfTickFormatter\"},{\"attributes\":{},\"id\":\"2359\",\"type\":\"LinearScale\"},{\"attributes\":{\"coordinates\":null,\"formatter\":{\"id\":\"2512\"},\"group\":null,\"major_label_policy\":{\"id\":\"2513\"},\"ticker\":{\"id\":\"2368\"}},\"id\":\"2367\",\"type\":\"LinearAxis\"},{\"attributes\":{\"coordinates\":null,\"group\":null,\"text\":\"Pass in \\\"correlation ratio\\\" to show the plot, nothing to display\"},\"id\":\"2353\",\"type\":\"Title\"},{\"attributes\":{\"coordinates\":null,\"data_source\":{\"id\":\"2274\"},\"glyph\":{\"id\":\"2307\"},\"group\":null,\"hover_glyph\":null,\"muted_glyph\":{\"id\":\"2309\"},\"nonselection_glyph\":{\"id\":\"2308\"},\"view\":{\"id\":\"2311\"}},\"id\":\"2310\",\"type\":\"GlyphRenderer\"},{\"attributes\":{\"high\":1,\"low\":-1,\"palette\":[\"#f7fcfd\",\"#f6fbfd\",\"#f6fbfc\",\"#f5fafc\",\"#f4fafc\",\"#f3f9fc\",\"#f3f9fb\",\"#f2f8fb\",\"#f1f8fb\",\"#f1f7fa\",\"#f0f7fa\",\"#eff6fa\",\"#eef6fa\",\"#eef5f9\",\"#edf5f9\",\"#ecf4f9\",\"#ebf4f8\",\"#ebf3f8\",\"#eaf3f8\",\"#e9f2f8\",\"#e9f2f7\",\"#e8f1f7\",\"#e7f1f7\",\"#e6f0f7\",\"#e6f0f6\",\"#e5eff6\",\"#e4eff6\",\"#e4eef5\",\"#e3eef5\",\"#e2edf5\",\"#e1edf5\",\"#e1ecf4\",\"#e0ecf4\",\"#dfebf4\",\"#deeaf3\",\"#ddeaf3\",\"#dce9f2\",\"#dbe8f2\",\"#dae7f1\",\"#d9e6f1\",\"#d8e6f0\",\"#d7e5f0\",\"#d6e4f0\",\"#d4e3ef\",\"#d3e2ef\",\"#d2e2ee\",\"#d1e1ee\",\"#d0e0ed\",\"#cfdfed\",\"#cedfec\",\"#cddeec\",\"#ccddec\",\"#cbdceb\",\"#cadbeb\",\"#c9dbea\",\"#c8daea\",\"#c7d9e9\",\"#c6d8e9\",\"#c5d8e9\",\"#c4d7e8\",\"#c3d6e8\",\"#c2d5e7\",\"#c1d4e7\",\"#c0d4e6\",\"#bfd3e6\",\"#bed2e6\",\"#bdd1e5\",\"#bcd1e5\",\"#bbd0e4\",\"#bacfe4\",\"#b9cee4\",\"#b7cee3\",\"#b6cde3\",\"#b5cce3\",\"#b4cce2\",\"#b3cbe2\",\"#b2cae1\",\"#b1c9e1\",\"#b0c9e1\",\"#afc8e0\",\"#aec7e0\",\"#adc7e0\",\"#acc6df\",\"#abc5df\",\"#aac4de\",\"#a9c4de\",\"#a8c3de\",\"#a7c2dd\",\"#a6c2dd\",\"#a5c1dc\",\"#a4c0dc\",\"#a3bfdc\",\"#a2bfdb\",\"#a1bedb\",\"#a0bddb\",\"#9fbcda\",\"#9ebcda\",\"#9dbad9\",\"#9db9d9\",\"#9cb8d8\",\"#9cb7d7\",\"#9bb6d7\",\"#9ab4d6\",\"#9ab3d5\",\"#99b2d5\",\"#99b1d4\",\"#98b0d3\",\"#98aed3\",\"#97add2\",\"#96acd2\",\"#96abd1\",\"#95aad0\",\"#95a8d0\",\"#94a7cf\",\"#94a6ce\",\"#93a5ce\",\"#92a4cd\",\"#92a3cd\",\"#91a1cc\",\"#91a0cb\",\"#909fcb\",\"#909eca\",\"#8f9dc9\",\"#8f9bc9\",\"#8e9ac8\",\"#8d99c8\",\"#8d98c7\",\"#8c97c6\",\"#8c95c6\",\"#8c94c5\",\"#8c93c4\",\"#8c91c4\",\"#8c90c3\",\"#8c8fc2\",\"#8c8dc2\",\"#8c8cc1\",\"#8c8bc0\",\"#8c89c0\",\"#8c88bf\",\"#8c86be\",\"#8c85be\",\"#8c84bd\",\"#8c82bc\",\"#8c81bc\",\"#8c80bb\",\"#8c7eba\",\"#8c7dba\",\"#8c7cb9\",\"#8c7ab8\",\"#8c79b8\",\"#8c78b7\",\"#8c76b7\",\"#8c75b6\",\"#8c74b5\",\"#8c72b5\",\"#8c71b4\",\"#8c70b3\",\"#8c6eb3\",\"#8c6db2\",\"#8c6cb1\",\"#8c6ab1\",\"#8c69b0\",\"#8c68af\",\"#8c66af\",\"#8b65ae\",\"#8b64ad\",\"#8b62ad\",\"#8b61ac\",\"#8b60ac\",\"#8b5eab\",\"#8b5daa\",\"#8b5caa\",\"#8a5aa9\",\"#8a59a8\",\"#8a58a8\",\"#8a56a7\",\"#8a55a7\",\"#8a54a6\",\"#8a52a5\",\"#8a51a5\",\"#8950a4\",\"#894fa3\",\"#894da3\",\"#894ca2\",\"#894ba2\",\"#8949a1\",\"#8948a0\",\"#8947a0\",\"#88459f\",\"#88449e\",\"#88439e\",\"#88419d\",\"#88409c\",\"#883e9b\",\"#873d9a\",\"#873b99\",\"#873a98\",\"#873897\",\"#873696\",\"#863595\",\"#863394\",\"#863293\",\"#863092\",\"#852f91\",\"#852d90\",\"#852b8f\",\"#852a8e\",\"#85288d\",\"#84278c\",\"#84258b\",\"#84248a\",\"#842289\",\"#832088\",\"#831f86\",\"#831d85\",\"#831c84\",\"#831a83\",\"#821982\",\"#821781\",\"#821580\",\"#82147f\",\"#81127e\",\"#81117d\",\"#810f7c\",\"#800f7b\",\"#7e0e79\",\"#7c0e78\",\"#7b0d76\",\"#790d75\",\"#770c73\",\"#760c71\",\"#740b70\",\"#730b6e\",\"#710a6d\",\"#6f0a6b\",\"#6e096a\",\"#6c0968\",\"#6a0867\",\"#690865\",\"#670864\",\"#650762\",\"#640761\",\"#62065f\",\"#61065d\",\"#5f055c\",\"#5d055a\",\"#5c0459\",\"#5a0457\",\"#580356\",\"#570354\",\"#550253\",\"#540251\",\"#520150\",\"#50014e\",\"#4f004d\",\"#4d004b\"]},\"id\":\"2273\",\"type\":\"LinearColorMapper\"},{\"attributes\":{},\"id\":\"2374\",\"type\":\"SaveTool\"},{\"attributes\":{},\"id\":\"2376\",\"type\":\"HelpTool\"},{\"attributes\":{},\"id\":\"2297\",\"type\":\"HelpTool\"},{\"attributes\":{},\"id\":\"2371\",\"type\":\"PanTool\"},{\"attributes\":{\"overlay\":{\"id\":\"2377\"}},\"id\":\"2373\",\"type\":\"BoxZoomTool\"},{\"attributes\":{},\"id\":\"2355\",\"type\":\"DataRange1d\"},{\"attributes\":{\"below\":[{\"id\":\"2329\"}],\"center\":[{\"id\":\"2332\"},{\"id\":\"2336\"}],\"left\":[{\"id\":\"2333\"}],\"title\":{\"id\":\"2319\"},\"toolbar\":{\"id\":\"2344\"},\"x_range\":{\"id\":\"2321\"},\"x_scale\":{\"id\":\"2325\"},\"y_range\":{\"id\":\"2323\"},\"y_scale\":{\"id\":\"2327\"}},\"id\":\"2318\",\"subtype\":\"Figure\",\"type\":\"Plot\"},{\"attributes\":{\"bottom_units\":\"screen\",\"coordinates\":null,\"fill_alpha\":0.5,\"fill_color\":\"lightgrey\",\"group\":null,\"left_units\":\"screen\",\"level\":\"overlay\",\"line_alpha\":1.0,\"line_color\":\"black\",\"line_dash\":[4,4],\"line_width\":2,\"right_units\":\"screen\",\"syncable\":false,\"top_units\":\"screen\"},\"id\":\"2377\",\"type\":\"BoxAnnotation\"},{\"attributes\":{},\"id\":\"2295\",\"type\":\"SaveTool\"},{\"attributes\":{\"bottom_units\":\"screen\",\"coordinates\":null,\"fill_alpha\":0.5,\"fill_color\":\"lightgrey\",\"group\":null,\"left_units\":\"screen\",\"level\":\"overlay\",\"line_alpha\":1.0,\"line_color\":\"black\",\"line_dash\":[4,4],\"line_width\":2,\"right_units\":\"screen\",\"syncable\":false,\"top_units\":\"screen\"},\"id\":\"2298\",\"type\":\"BoxAnnotation\"},{\"attributes\":{\"tools\":[{\"id\":\"2371\"},{\"id\":\"2372\"},{\"id\":\"2373\"},{\"id\":\"2374\"},{\"id\":\"2375\"},{\"id\":\"2376\"}]},\"id\":\"2378\",\"type\":\"Toolbar\"},{\"attributes\":{},\"id\":\"2357\",\"type\":\"DataRange1d\"},{\"attributes\":{},\"id\":\"2293\",\"type\":\"WheelZoomTool\"}],\"root_ids\":[\"2386\"]},\"title\":\"Bokeh Application\",\"version\":\"2.4.3\"}};\n  const render_items = [{\"docid\":\"822b5c5f-f71f-4fe5-a913-ba83639cdf0e\",\"root_ids\":[\"2386\"],\"roots\":{\"2386\":\"70352745-10ce-4d7f-a438-31b82d9d54ad\"}}];\n  root.Bokeh.embed.embed_items_notebook(docs_json, render_items);\n  }\n  if (root.Bokeh !== undefined) {\n    embed_document(root);\n  } else {\n    let attempts = 0;\n    const timer = setInterval(function(root) {\n      if (root.Bokeh !== undefined) {\n        clearInterval(timer);\n        embed_document(root);\n      } else {\n        attempts++;\n        if (attempts > 100) {\n          clearInterval(timer);\n          console.log(\"Bokeh: ERROR: Unable to run BokehJS code because BokehJS library is missing\");\n        }\n      }\n    }, 10, root)\n  }\n})(window);",
      "application/vnd.bokehjs_exec.v0+json": ""
     },
     "metadata": {
      "application/vnd.bokehjs_exec.v0+json": {
       "id": "2386"
      }
     },
     "output_type": "display_data"
    },
    {
     "data": {
      "application/vnd.jupyter.widget-view+json": {
       "model_id": "d12628f27b1a485aae6d2c18b241dbdb",
       "version_major": 2,
       "version_minor": 0
      },
      "text/plain": [
       "Accordion(children=(HTML(value='<h3>Type: BinaryClassificationDataset</h3><h3>7,188 Rows, 15 Columns</h3><h4>C…"
      ]
     },
     "metadata": {},
     "output_type": "display_data"
    }
   ],
   "source": [
    "bd_sobremuestreado.show_in_notebook()"
   ]
  },
  {
   "cell_type": "code",
   "execution_count": 170,
   "id": "bd501d60",
   "metadata": {},
   "outputs": [],
   "source": [
    "bd_submuestreado = bd.down_sample()"
   ]
  },
  {
   "cell_type": "code",
   "execution_count": 171,
   "id": "1c81ad3c",
   "metadata": {},
   "outputs": [
    {
     "data": {
      "application/javascript": "(function(root) {\n  function now() {\n    return new Date();\n  }\n\n  const force = true;\n\n  if (typeof root._bokeh_onload_callbacks === \"undefined\" || force === true) {\n    root._bokeh_onload_callbacks = [];\n    root._bokeh_is_loading = undefined;\n  }\n\nconst JS_MIME_TYPE = 'application/javascript';\n  const HTML_MIME_TYPE = 'text/html';\n  const EXEC_MIME_TYPE = 'application/vnd.bokehjs_exec.v0+json';\n  const CLASS_NAME = 'output_bokeh rendered_html';\n\n  /**\n   * Render data to the DOM node\n   */\n  function render(props, node) {\n    const script = document.createElement(\"script\");\n    node.appendChild(script);\n  }\n\n  /**\n   * Handle when an output is cleared or removed\n   */\n  function handleClearOutput(event, handle) {\n    const cell = handle.cell;\n\n    const id = cell.output_area._bokeh_element_id;\n    const server_id = cell.output_area._bokeh_server_id;\n    // Clean up Bokeh references\n    if (id != null && id in Bokeh.index) {\n      Bokeh.index[id].model.document.clear();\n      delete Bokeh.index[id];\n    }\n\n    if (server_id !== undefined) {\n      // Clean up Bokeh references\n      const cmd_clean = \"from bokeh.io.state import curstate; print(curstate().uuid_to_server['\" + server_id + \"'].get_sessions()[0].document.roots[0]._id)\";\n      cell.notebook.kernel.execute(cmd_clean, {\n        iopub: {\n          output: function(msg) {\n            const id = msg.content.text.trim();\n            if (id in Bokeh.index) {\n              Bokeh.index[id].model.document.clear();\n              delete Bokeh.index[id];\n            }\n          }\n        }\n      });\n      // Destroy server and session\n      const cmd_destroy = \"import bokeh.io.notebook as ion; ion.destroy_server('\" + server_id + \"')\";\n      cell.notebook.kernel.execute(cmd_destroy);\n    }\n  }\n\n  /**\n   * Handle when a new output is added\n   */\n  function handleAddOutput(event, handle) {\n    const output_area = handle.output_area;\n    const output = handle.output;\n\n    // limit handleAddOutput to display_data with EXEC_MIME_TYPE content only\n    if ((output.output_type != \"display_data\") || (!Object.prototype.hasOwnProperty.call(output.data, EXEC_MIME_TYPE))) {\n      return\n    }\n\n    const toinsert = output_area.element.find(\".\" + CLASS_NAME.split(' ')[0]);\n\n    if (output.metadata[EXEC_MIME_TYPE][\"id\"] !== undefined) {\n      toinsert[toinsert.length - 1].firstChild.textContent = output.data[JS_MIME_TYPE];\n      // store reference to embed id on output_area\n      output_area._bokeh_element_id = output.metadata[EXEC_MIME_TYPE][\"id\"];\n    }\n    if (output.metadata[EXEC_MIME_TYPE][\"server_id\"] !== undefined) {\n      const bk_div = document.createElement(\"div\");\n      bk_div.innerHTML = output.data[HTML_MIME_TYPE];\n      const script_attrs = bk_div.children[0].attributes;\n      for (let i = 0; i < script_attrs.length; i++) {\n        toinsert[toinsert.length - 1].firstChild.setAttribute(script_attrs[i].name, script_attrs[i].value);\n        toinsert[toinsert.length - 1].firstChild.textContent = bk_div.children[0].textContent\n      }\n      // store reference to server id on output_area\n      output_area._bokeh_server_id = output.metadata[EXEC_MIME_TYPE][\"server_id\"];\n    }\n  }\n\n  function register_renderer(events, OutputArea) {\n\n    function append_mime(data, metadata, element) {\n      // create a DOM node to render to\n      const toinsert = this.create_output_subarea(\n        metadata,\n        CLASS_NAME,\n        EXEC_MIME_TYPE\n      );\n      this.keyboard_manager.register_events(toinsert);\n      // Render to node\n      const props = {data: data, metadata: metadata[EXEC_MIME_TYPE]};\n      render(props, toinsert[toinsert.length - 1]);\n      element.append(toinsert);\n      return toinsert\n    }\n\n    /* Handle when an output is cleared or removed */\n    events.on('clear_output.CodeCell', handleClearOutput);\n    events.on('delete.Cell', handleClearOutput);\n\n    /* Handle when a new output is added */\n    events.on('output_added.OutputArea', handleAddOutput);\n\n    /**\n     * Register the mime type and append_mime function with output_area\n     */\n    OutputArea.prototype.register_mime_type(EXEC_MIME_TYPE, append_mime, {\n      /* Is output safe? */\n      safe: true,\n      /* Index of renderer in `output_area.display_order` */\n      index: 0\n    });\n  }\n\n  // register the mime type if in Jupyter Notebook environment and previously unregistered\n  if (root.Jupyter !== undefined) {\n    const events = require('base/js/events');\n    const OutputArea = require('notebook/js/outputarea').OutputArea;\n\n    if (OutputArea.prototype.mime_types().indexOf(EXEC_MIME_TYPE) == -1) {\n      register_renderer(events, OutputArea);\n    }\n  }\n  if (typeof (root._bokeh_timeout) === \"undefined\" || force === true) {\n    root._bokeh_timeout = Date.now() + 5000;\n    root._bokeh_failed_load = false;\n  }\n\n  const NB_LOAD_WARNING = {'data': {'text/html':\n     \"<div style='background-color: #fdd'>\\n\"+\n     \"<p>\\n\"+\n     \"BokehJS does not appear to have successfully loaded. If loading BokehJS from CDN, this \\n\"+\n     \"may be due to a slow or bad network connection. Possible fixes:\\n\"+\n     \"</p>\\n\"+\n     \"<ul>\\n\"+\n     \"<li>re-rerun `output_notebook()` to attempt to load from CDN again, or</li>\\n\"+\n     \"<li>use INLINE resources instead, as so:</li>\\n\"+\n     \"</ul>\\n\"+\n     \"<code>\\n\"+\n     \"from bokeh.resources import INLINE\\n\"+\n     \"output_notebook(resources=INLINE)\\n\"+\n     \"</code>\\n\"+\n     \"</div>\"}};\n\n  function display_loaded() {\n    const el = document.getElementById(\"2657\");\n    if (el != null) {\n      el.textContent = \"BokehJS is loading...\";\n    }\n    if (root.Bokeh !== undefined) {\n      if (el != null) {\n        el.textContent = \"BokehJS \" + root.Bokeh.version + \" successfully loaded.\";\n      }\n    } else if (Date.now() < root._bokeh_timeout) {\n      setTimeout(display_loaded, 100)\n    }\n  }\n\n  function run_callbacks() {\n    try {\n      root._bokeh_onload_callbacks.forEach(function(callback) {\n        if (callback != null)\n          callback();\n      });\n    } finally {\n      delete root._bokeh_onload_callbacks\n    }\n    console.debug(\"Bokeh: all callbacks have finished\");\n  }\n\n  function load_libs(css_urls, js_urls, callback) {\n    if (css_urls == null) css_urls = [];\n    if (js_urls == null) js_urls = [];\n\n    root._bokeh_onload_callbacks.push(callback);\n    if (root._bokeh_is_loading > 0) {\n      console.debug(\"Bokeh: BokehJS is being loaded, scheduling callback at\", now());\n      return null;\n    }\n    if (js_urls == null || js_urls.length === 0) {\n      run_callbacks();\n      return null;\n    }\n    console.debug(\"Bokeh: BokehJS not loaded, scheduling load and callback at\", now());\n    root._bokeh_is_loading = css_urls.length + js_urls.length;\n\n    function on_load() {\n      root._bokeh_is_loading--;\n      if (root._bokeh_is_loading === 0) {\n        console.debug(\"Bokeh: all BokehJS libraries/stylesheets loaded\");\n        run_callbacks()\n      }\n    }\n\n    function on_error(url) {\n      console.error(\"failed to load \" + url);\n    }\n\n    for (let i = 0; i < css_urls.length; i++) {\n      const url = css_urls[i];\n      const element = document.createElement(\"link\");\n      element.onload = on_load;\n      element.onerror = on_error.bind(null, url);\n      element.rel = \"stylesheet\";\n      element.type = \"text/css\";\n      element.href = url;\n      console.debug(\"Bokeh: injecting link tag for BokehJS stylesheet: \", url);\n      document.body.appendChild(element);\n    }\n\n    for (let i = 0; i < js_urls.length; i++) {\n      const url = js_urls[i];\n      const element = document.createElement('script');\n      element.onload = on_load;\n      element.onerror = on_error.bind(null, url);\n      element.async = false;\n      element.src = url;\n      console.debug(\"Bokeh: injecting script tag for BokehJS library: \", url);\n      document.head.appendChild(element);\n    }\n  };\n\n  function inject_raw_css(css) {\n    const element = document.createElement(\"style\");\n    element.appendChild(document.createTextNode(css));\n    document.body.appendChild(element);\n  }\n\n  const js_urls = [\"https://cdn.bokeh.org/bokeh/release/bokeh-2.4.3.min.js\", \"https://cdn.bokeh.org/bokeh/release/bokeh-gl-2.4.3.min.js\", \"https://cdn.bokeh.org/bokeh/release/bokeh-widgets-2.4.3.min.js\", \"https://cdn.bokeh.org/bokeh/release/bokeh-tables-2.4.3.min.js\", \"https://cdn.bokeh.org/bokeh/release/bokeh-mathjax-2.4.3.min.js\"];\n  const css_urls = [];\n\n  const inline_js = [    function(Bokeh) {\n      Bokeh.set_log_level(\"info\");\n    },\nfunction(Bokeh) {\n    }\n  ];\n\n  function run_inline_js() {\n    if (root.Bokeh !== undefined || force === true) {\n          for (let i = 0; i < inline_js.length; i++) {\n      inline_js[i].call(root, root.Bokeh);\n    }\nif (force === true) {\n        display_loaded();\n      }} else if (Date.now() < root._bokeh_timeout) {\n      setTimeout(run_inline_js, 100);\n    } else if (!root._bokeh_failed_load) {\n      console.log(\"Bokeh: BokehJS failed to load within specified timeout.\");\n      root._bokeh_failed_load = true;\n    } else if (force !== true) {\n      const cell = $(document.getElementById(\"2657\")).parents('.cell').data().cell;\n      cell.output_area.append_execute_result(NB_LOAD_WARNING)\n    }\n  }\n\n  if (root._bokeh_is_loading === 0) {\n    console.debug(\"Bokeh: BokehJS loaded, going straight to plotting\");\n    run_inline_js();\n  } else {\n    load_libs(css_urls, js_urls, function() {\n      console.debug(\"Bokeh: BokehJS plotting callback run at\", now());\n      run_inline_js();\n    });\n  }\n}(window));",
      "application/vnd.bokehjs_load.v0+json": ""
     },
     "metadata": {},
     "output_type": "display_data"
    },
    {
     "data": {
      "application/javascript": "(function(root) {\n  function embed_document(root) {\n  const docs_json = {\"69ec8a40-fc3b-4127-82bc-78bd1f8a2cae\":{\"defs\":[],\"roots\":{\"references\":[{\"attributes\":{\"tabs\":[{\"id\":\"2702\"},{\"id\":\"2736\"},{\"id\":\"2770\"}]},\"id\":\"2771\",\"type\":\"Tabs\"},{\"attributes\":{\"tools\":[{\"id\":\"2722\"},{\"id\":\"2723\"},{\"id\":\"2724\"},{\"id\":\"2725\"},{\"id\":\"2726\"},{\"id\":\"2727\"}]},\"id\":\"2729\",\"type\":\"Toolbar\"},{\"attributes\":{\"coordinates\":null,\"group\":null,\"text\":\"Pass in \\\"correlation ratio\\\" to show the plot, nothing to display\"},\"id\":\"2738\",\"type\":\"Title\"},{\"attributes\":{},\"id\":\"2753\",\"type\":\"BasicTicker\"},{\"attributes\":{},\"id\":\"2723\",\"type\":\"WheelZoomTool\"},{\"attributes\":{},\"id\":\"2749\",\"type\":\"BasicTicker\"},{\"attributes\":{\"callback\":null,\"tooltips\":[[\"X\",\"@x\"],[\"Y\",\"@y\"],[\"Corr\",\"@corr\"]]},\"id\":\"2697\",\"type\":\"HoverTool\"},{\"attributes\":{\"child\":{\"id\":\"2737\"},\"title\":\"Category vs Continuous\"},\"id\":\"2770\",\"type\":\"Panel\"},{\"attributes\":{\"coordinates\":null,\"formatter\":{\"id\":\"2924\"},\"group\":null,\"major_label_policy\":{\"id\":\"2925\"},\"ticker\":{\"id\":\"2753\"}},\"id\":\"2752\",\"type\":\"LinearAxis\"},{\"attributes\":{},\"id\":\"2726\",\"type\":\"ResetTool\"},{\"attributes\":{\"desired_num_ticks\":8},\"id\":\"2699\",\"type\":\"BasicTicker\"},{\"attributes\":{},\"id\":\"2740\",\"type\":\"DataRange1d\"},{\"attributes\":{\"fill_alpha\":{\"value\":0.2},\"fill_color\":{\"field\":\"corr\",\"transform\":{\"id\":\"2658\"}},\"hatch_alpha\":{\"value\":0.2},\"height\":{\"value\":1},\"line_alpha\":{\"value\":0.2},\"line_color\":{\"value\":null},\"width\":{\"value\":1},\"x\":{\"field\":\"x\"},\"y\":{\"field\":\"y\"}},\"id\":\"2694\",\"type\":\"Rect\"},{\"attributes\":{\"coordinates\":null,\"data_source\":{\"id\":\"2659\"},\"glyph\":{\"id\":\"2692\"},\"group\":null,\"hover_glyph\":null,\"muted_glyph\":{\"id\":\"2694\"},\"nonselection_glyph\":{\"id\":\"2693\"},\"view\":{\"id\":\"2696\"}},\"id\":\"2695\",\"type\":\"GlyphRenderer\"},{\"attributes\":{},\"id\":\"2722\",\"type\":\"PanTool\"},{\"attributes\":{\"axis\":{\"id\":\"2752\"},\"coordinates\":null,\"dimension\":1,\"group\":null,\"ticker\":null},\"id\":\"2755\",\"type\":\"Grid\"},{\"attributes\":{},\"id\":\"2725\",\"type\":\"SaveTool\"},{\"attributes\":{\"fill_alpha\":{\"value\":0.1},\"fill_color\":{\"field\":\"corr\",\"transform\":{\"id\":\"2658\"}},\"hatch_alpha\":{\"value\":0.1},\"height\":{\"value\":1},\"line_alpha\":{\"value\":0.1},\"line_color\":{\"value\":null},\"width\":{\"value\":1},\"x\":{\"field\":\"x\"},\"y\":{\"field\":\"y\"}},\"id\":\"2693\",\"type\":\"Rect\"},{\"attributes\":{},\"id\":\"2744\",\"type\":\"LinearScale\"},{\"attributes\":{\"coordinates\":null,\"formatter\":{\"id\":\"2927\"},\"group\":null,\"major_label_policy\":{\"id\":\"2928\"},\"ticker\":{\"id\":\"2749\"}},\"id\":\"2748\",\"type\":\"LinearAxis\"},{\"attributes\":{},\"id\":\"2727\",\"type\":\"HelpTool\"},{\"attributes\":{\"bottom_units\":\"screen\",\"coordinates\":null,\"fill_alpha\":0.5,\"fill_color\":\"lightgrey\",\"group\":null,\"left_units\":\"screen\",\"level\":\"overlay\",\"line_alpha\":1.0,\"line_color\":\"black\",\"line_dash\":[4,4],\"line_width\":2,\"right_units\":\"screen\",\"syncable\":false,\"top_units\":\"screen\"},\"id\":\"2683\",\"type\":\"BoxAnnotation\"},{\"attributes\":{\"color_mapper\":{\"id\":\"2658\"},\"coordinates\":null,\"formatter\":{\"id\":\"2700\"},\"group\":null,\"label_standoff\":6,\"location\":[0,0],\"major_label_policy\":{\"id\":\"2913\"},\"major_label_text_font_size\":\"5pt\",\"ticker\":{\"id\":\"2699\"}},\"id\":\"2701\",\"type\":\"ColorBar\"},{\"attributes\":{\"bottom_units\":\"screen\",\"coordinates\":null,\"fill_alpha\":0.5,\"fill_color\":\"lightgrey\",\"group\":null,\"left_units\":\"screen\",\"level\":\"overlay\",\"line_alpha\":1.0,\"line_color\":\"black\",\"line_dash\":[4,4],\"line_width\":2,\"right_units\":\"screen\",\"syncable\":false,\"top_units\":\"screen\"},\"id\":\"2728\",\"type\":\"BoxAnnotation\"},{\"attributes\":{\"source\":{\"id\":\"2659\"}},\"id\":\"2696\",\"type\":\"CDSView\"},{\"attributes\":{\"child\":{\"id\":\"2660\"},\"title\":\"Continuous vs Continuous\"},\"id\":\"2702\",\"type\":\"Panel\"},{\"attributes\":{\"format\":\"%0.2f\"},\"id\":\"2700\",\"type\":\"PrintfTickFormatter\"},{\"attributes\":{\"overlay\":{\"id\":\"2728\"}},\"id\":\"2724\",\"type\":\"BoxZoomTool\"},{\"attributes\":{},\"id\":\"2742\",\"type\":\"DataRange1d\"},{\"attributes\":{\"axis\":{\"id\":\"2748\"},\"coordinates\":null,\"group\":null,\"ticker\":null},\"id\":\"2751\",\"type\":\"Grid\"},{\"attributes\":{},\"id\":\"2746\",\"type\":\"LinearScale\"},{\"attributes\":{\"tools\":[{\"id\":\"2677\"},{\"id\":\"2678\"},{\"id\":\"2679\"},{\"id\":\"2680\"},{\"id\":\"2681\"},{\"id\":\"2682\"},{\"id\":\"2697\"}]},\"id\":\"2684\",\"type\":\"Toolbar\"},{\"attributes\":{},\"id\":\"2912\",\"type\":\"AllLabels\"},{\"attributes\":{},\"id\":\"2924\",\"type\":\"BasicTickFormatter\"},{\"attributes\":{\"below\":[{\"id\":\"2671\"}],\"center\":[{\"id\":\"2673\"},{\"id\":\"2676\"}],\"left\":[{\"id\":\"2674\"}],\"renderers\":[{\"id\":\"2695\"}],\"right\":[{\"id\":\"2701\"}],\"title\":{\"id\":\"2661\"},\"toolbar\":{\"id\":\"2684\"},\"toolbar_location\":\"below\",\"toolbar_sticky\":false,\"x_range\":{\"id\":\"2663\"},\"x_scale\":{\"id\":\"2667\"},\"y_range\":{\"id\":\"2665\"},\"y_scale\":{\"id\":\"2669\"}},\"id\":\"2660\",\"subtype\":\"Figure\",\"type\":\"Plot\"},{\"attributes\":{},\"id\":\"2715\",\"type\":\"BasicTicker\"},{\"attributes\":{\"axis\":{\"id\":\"2674\"},\"coordinates\":null,\"dimension\":1,\"group\":null,\"ticker\":null},\"id\":\"2676\",\"type\":\"Grid\"},{\"attributes\":{},\"id\":\"2929\",\"type\":\"UnionRenderers\"},{\"attributes\":{},\"id\":\"2719\",\"type\":\"BasicTicker\"},{\"attributes\":{},\"id\":\"2669\",\"type\":\"CategoricalScale\"},{\"attributes\":{},\"id\":\"2927\",\"type\":\"BasicTickFormatter\"},{\"attributes\":{},\"id\":\"2922\",\"type\":\"AllLabels\"},{\"attributes\":{},\"id\":\"2911\",\"type\":\"CategoricalTickFormatter\"},{\"attributes\":{},\"id\":\"2759\",\"type\":\"SaveTool\"},{\"attributes\":{\"factors\":[\"Edad\",\"Educaci\\u00f3n\",\"Cigarrillos_por_dia\",\"Colesterol_total\",\"Presion_sistolica\",\"IMC\",\"Frecuencia_Cardiaca\",\"Glicemia\"]},\"id\":\"2663\",\"type\":\"FactorRange\"},{\"attributes\":{},\"id\":\"2680\",\"type\":\"SaveTool\"},{\"attributes\":{},\"id\":\"2925\",\"type\":\"AllLabels\"},{\"attributes\":{},\"id\":\"2677\",\"type\":\"PanTool\"},{\"attributes\":{},\"id\":\"2678\",\"type\":\"WheelZoomTool\"},{\"attributes\":{},\"id\":\"2913\",\"type\":\"NoOverlap\"},{\"attributes\":{},\"id\":\"2921\",\"type\":\"BasicTickFormatter\"},{\"attributes\":{\"child\":{\"id\":\"2703\"},\"title\":\"Category vs Category\"},\"id\":\"2736\",\"type\":\"Panel\"},{\"attributes\":{},\"id\":\"2760\",\"type\":\"ResetTool\"},{\"attributes\":{\"axis\":{\"id\":\"2671\"},\"coordinates\":null,\"group\":null,\"ticker\":null},\"id\":\"2673\",\"type\":\"Grid\"},{\"attributes\":{},\"id\":\"2916\",\"type\":\"AllLabels\"},{\"attributes\":{},\"id\":\"2706\",\"type\":\"DataRange1d\"},{\"attributes\":{\"coordinates\":null,\"formatter\":{\"id\":\"2918\"},\"group\":null,\"major_label_policy\":{\"id\":\"2919\"},\"ticker\":{\"id\":\"2719\"}},\"id\":\"2718\",\"type\":\"LinearAxis\"},{\"attributes\":{\"below\":[{\"id\":\"2748\"}],\"center\":[{\"id\":\"2751\"},{\"id\":\"2755\"}],\"left\":[{\"id\":\"2752\"}],\"title\":{\"id\":\"2738\"},\"toolbar\":{\"id\":\"2763\"},\"x_range\":{\"id\":\"2740\"},\"x_scale\":{\"id\":\"2744\"},\"y_range\":{\"id\":\"2742\"},\"y_scale\":{\"id\":\"2746\"}},\"id\":\"2737\",\"subtype\":\"Figure\",\"type\":\"Plot\"},{\"attributes\":{},\"id\":\"2675\",\"type\":\"CategoricalTicker\"},{\"attributes\":{},\"id\":\"2915\",\"type\":\"CategoricalTickFormatter\"},{\"attributes\":{\"coordinates\":null,\"formatter\":{\"id\":\"2911\"},\"group\":null,\"major_label_policy\":{\"id\":\"2912\"},\"ticker\":{\"id\":\"2675\"}},\"id\":\"2674\",\"type\":\"CategoricalAxis\"},{\"attributes\":{},\"id\":\"2930\",\"type\":\"Selection\"},{\"attributes\":{},\"id\":\"2681\",\"type\":\"ResetTool\"},{\"attributes\":{},\"id\":\"2756\",\"type\":\"PanTool\"},{\"attributes\":{\"overlay\":{\"id\":\"2683\"}},\"id\":\"2679\",\"type\":\"BoxZoomTool\"},{\"attributes\":{},\"id\":\"2710\",\"type\":\"LinearScale\"},{\"attributes\":{},\"id\":\"2761\",\"type\":\"HelpTool\"},{\"attributes\":{},\"id\":\"2757\",\"type\":\"WheelZoomTool\"},{\"attributes\":{\"overlay\":{\"id\":\"2762\"}},\"id\":\"2758\",\"type\":\"BoxZoomTool\"},{\"attributes\":{},\"id\":\"2928\",\"type\":\"AllLabels\"},{\"attributes\":{\"axis\":{\"id\":\"2714\"},\"coordinates\":null,\"group\":null,\"ticker\":null},\"id\":\"2717\",\"type\":\"Grid\"},{\"attributes\":{\"high\":1,\"low\":-1,\"palette\":[\"#f7fcfd\",\"#f6fbfd\",\"#f6fbfc\",\"#f5fafc\",\"#f4fafc\",\"#f3f9fc\",\"#f3f9fb\",\"#f2f8fb\",\"#f1f8fb\",\"#f1f7fa\",\"#f0f7fa\",\"#eff6fa\",\"#eef6fa\",\"#eef5f9\",\"#edf5f9\",\"#ecf4f9\",\"#ebf4f8\",\"#ebf3f8\",\"#eaf3f8\",\"#e9f2f8\",\"#e9f2f7\",\"#e8f1f7\",\"#e7f1f7\",\"#e6f0f7\",\"#e6f0f6\",\"#e5eff6\",\"#e4eff6\",\"#e4eef5\",\"#e3eef5\",\"#e2edf5\",\"#e1edf5\",\"#e1ecf4\",\"#e0ecf4\",\"#dfebf4\",\"#deeaf3\",\"#ddeaf3\",\"#dce9f2\",\"#dbe8f2\",\"#dae7f1\",\"#d9e6f1\",\"#d8e6f0\",\"#d7e5f0\",\"#d6e4f0\",\"#d4e3ef\",\"#d3e2ef\",\"#d2e2ee\",\"#d1e1ee\",\"#d0e0ed\",\"#cfdfed\",\"#cedfec\",\"#cddeec\",\"#ccddec\",\"#cbdceb\",\"#cadbeb\",\"#c9dbea\",\"#c8daea\",\"#c7d9e9\",\"#c6d8e9\",\"#c5d8e9\",\"#c4d7e8\",\"#c3d6e8\",\"#c2d5e7\",\"#c1d4e7\",\"#c0d4e6\",\"#bfd3e6\",\"#bed2e6\",\"#bdd1e5\",\"#bcd1e5\",\"#bbd0e4\",\"#bacfe4\",\"#b9cee4\",\"#b7cee3\",\"#b6cde3\",\"#b5cce3\",\"#b4cce2\",\"#b3cbe2\",\"#b2cae1\",\"#b1c9e1\",\"#b0c9e1\",\"#afc8e0\",\"#aec7e0\",\"#adc7e0\",\"#acc6df\",\"#abc5df\",\"#aac4de\",\"#a9c4de\",\"#a8c3de\",\"#a7c2dd\",\"#a6c2dd\",\"#a5c1dc\",\"#a4c0dc\",\"#a3bfdc\",\"#a2bfdb\",\"#a1bedb\",\"#a0bddb\",\"#9fbcda\",\"#9ebcda\",\"#9dbad9\",\"#9db9d9\",\"#9cb8d8\",\"#9cb7d7\",\"#9bb6d7\",\"#9ab4d6\",\"#9ab3d5\",\"#99b2d5\",\"#99b1d4\",\"#98b0d3\",\"#98aed3\",\"#97add2\",\"#96acd2\",\"#96abd1\",\"#95aad0\",\"#95a8d0\",\"#94a7cf\",\"#94a6ce\",\"#93a5ce\",\"#92a4cd\",\"#92a3cd\",\"#91a1cc\",\"#91a0cb\",\"#909fcb\",\"#909eca\",\"#8f9dc9\",\"#8f9bc9\",\"#8e9ac8\",\"#8d99c8\",\"#8d98c7\",\"#8c97c6\",\"#8c95c6\",\"#8c94c5\",\"#8c93c4\",\"#8c91c4\",\"#8c90c3\",\"#8c8fc2\",\"#8c8dc2\",\"#8c8cc1\",\"#8c8bc0\",\"#8c89c0\",\"#8c88bf\",\"#8c86be\",\"#8c85be\",\"#8c84bd\",\"#8c82bc\",\"#8c81bc\",\"#8c80bb\",\"#8c7eba\",\"#8c7dba\",\"#8c7cb9\",\"#8c7ab8\",\"#8c79b8\",\"#8c78b7\",\"#8c76b7\",\"#8c75b6\",\"#8c74b5\",\"#8c72b5\",\"#8c71b4\",\"#8c70b3\",\"#8c6eb3\",\"#8c6db2\",\"#8c6cb1\",\"#8c6ab1\",\"#8c69b0\",\"#8c68af\",\"#8c66af\",\"#8b65ae\",\"#8b64ad\",\"#8b62ad\",\"#8b61ac\",\"#8b60ac\",\"#8b5eab\",\"#8b5daa\",\"#8b5caa\",\"#8a5aa9\",\"#8a59a8\",\"#8a58a8\",\"#8a56a7\",\"#8a55a7\",\"#8a54a6\",\"#8a52a5\",\"#8a51a5\",\"#8950a4\",\"#894fa3\",\"#894da3\",\"#894ca2\",\"#894ba2\",\"#8949a1\",\"#8948a0\",\"#8947a0\",\"#88459f\",\"#88449e\",\"#88439e\",\"#88419d\",\"#88409c\",\"#883e9b\",\"#873d9a\",\"#873b99\",\"#873a98\",\"#873897\",\"#873696\",\"#863595\",\"#863394\",\"#863293\",\"#863092\",\"#852f91\",\"#852d90\",\"#852b8f\",\"#852a8e\",\"#85288d\",\"#84278c\",\"#84258b\",\"#84248a\",\"#842289\",\"#832088\",\"#831f86\",\"#831d85\",\"#831c84\",\"#831a83\",\"#821982\",\"#821781\",\"#821580\",\"#82147f\",\"#81127e\",\"#81117d\",\"#810f7c\",\"#800f7b\",\"#7e0e79\",\"#7c0e78\",\"#7b0d76\",\"#790d75\",\"#770c73\",\"#760c71\",\"#740b70\",\"#730b6e\",\"#710a6d\",\"#6f0a6b\",\"#6e096a\",\"#6c0968\",\"#6a0867\",\"#690865\",\"#670864\",\"#650762\",\"#640761\",\"#62065f\",\"#61065d\",\"#5f055c\",\"#5d055a\",\"#5c0459\",\"#5a0457\",\"#580356\",\"#570354\",\"#550253\",\"#540251\",\"#520150\",\"#50014e\",\"#4f004d\",\"#4d004b\"]},\"id\":\"2658\",\"type\":\"LinearColorMapper\"},{\"attributes\":{},\"id\":\"2682\",\"type\":\"HelpTool\"},{\"attributes\":{\"axis\":{\"id\":\"2718\"},\"coordinates\":null,\"dimension\":1,\"group\":null,\"ticker\":null},\"id\":\"2721\",\"type\":\"Grid\"},{\"attributes\":{\"bottom_units\":\"screen\",\"coordinates\":null,\"fill_alpha\":0.5,\"fill_color\":\"lightgrey\",\"group\":null,\"left_units\":\"screen\",\"level\":\"overlay\",\"line_alpha\":1.0,\"line_color\":\"black\",\"line_dash\":[4,4],\"line_width\":2,\"right_units\":\"screen\",\"syncable\":false,\"top_units\":\"screen\"},\"id\":\"2762\",\"type\":\"BoxAnnotation\"},{\"attributes\":{},\"id\":\"2712\",\"type\":\"LinearScale\"},{\"attributes\":{\"coordinates\":null,\"formatter\":{\"id\":\"2915\"},\"group\":null,\"major_label_orientation\":\"vertical\",\"major_label_policy\":{\"id\":\"2916\"},\"ticker\":{\"id\":\"2672\"}},\"id\":\"2671\",\"type\":\"CategoricalAxis\"},{\"attributes\":{},\"id\":\"2708\",\"type\":\"DataRange1d\"},{\"attributes\":{\"coordinates\":null,\"group\":null,\"text\":\"Continuous vs Continuous\"},\"id\":\"2661\",\"type\":\"Title\"},{\"attributes\":{\"data\":{\"corr\":{\"__ndarray__\":\"AAAAAAAA8D8qhurm5z3Ev7Y0lDLbU8q//NtmJM2Tyz+jOmXc7TDaP5+ckuboYcA/PK8REypYRb84dn4FnIvAPyqG6ubnPcS/AAAAAAAA8D+NtiVzYoRTv8MAycByJps/ol/7Kzo2vr/Z4fHkWEPCvz9JJNkeN6y/5Vsd8vdHor+2NJQy21PKv422JXNihFO/AAAAAAAA8D+m6jPcniWkvzqatVQY8Lm/wLMcM+dHuL8QFKKcZlKxP7Qb69jfpqy//NtmJM2Tyz/DAMnAciabP6bqM9yeJaS/AAAAAAAA8D9qeLXQm+/FP6M+JwVAbrY/fnvKM10ioj8FlYzv71a1P6M6ZdztMNo/ol/7Kzo2vr86mrVUGPC5v2p4tdCb78U/AAAAAAAA8D/8nK11xP7TP5vrFZZfw8U/LwFByK4vxT+fnJLm6GHAP9nh8eRYQ8K/wLMcM+dHuL+jPicFQG62P/ycrXXE/tM/AAAAAAAA8D/zE9+JO1i6P5MI3IX46bo/PK8REypYRb8/SSTZHjesvxAUopxmUrE/fnvKM10ioj+b6xWWX8PFP/MT34k7WLo/AAAAAAAA8D/NuUGAt4u0Pzh2fgWci8A/5Vsd8vdHor+0G+vY36asvwWVjO/vVrU/LwFByK4vxT+TCNyF+Om6P825QYC3i7Q/AAAAAAAA8D8=\",\"dtype\":\"float64\",\"order\":\"little\",\"shape\":[64]},\"index\":[0,1,2,3,4,5,6,7,8,9,10,11,12,13,14,15,16,17,18,19,20,21,22,23,24,25,26,27,28,29,30,31,32,33,34,35,36,37,38,39,40,41,42,43,44,45,46,47,48,49,50,51,52,53,54,55,56,57,58,59,60,61,62,63],\"x\":[\"Edad\",\"Educaci\\u00f3n\",\"Cigarrillos_por_dia\",\"Colesterol_total\",\"Presion_sistolica\",\"IMC\",\"Frecuencia_Cardiaca\",\"Glicemia\",\"Edad\",\"Educaci\\u00f3n\",\"Cigarrillos_por_dia\",\"Colesterol_total\",\"Presion_sistolica\",\"IMC\",\"Frecuencia_Cardiaca\",\"Glicemia\",\"Edad\",\"Educaci\\u00f3n\",\"Cigarrillos_por_dia\",\"Colesterol_total\",\"Presion_sistolica\",\"IMC\",\"Frecuencia_Cardiaca\",\"Glicemia\",\"Edad\",\"Educaci\\u00f3n\",\"Cigarrillos_por_dia\",\"Colesterol_total\",\"Presion_sistolica\",\"IMC\",\"Frecuencia_Cardiaca\",\"Glicemia\",\"Edad\",\"Educaci\\u00f3n\",\"Cigarrillos_por_dia\",\"Colesterol_total\",\"Presion_sistolica\",\"IMC\",\"Frecuencia_Cardiaca\",\"Glicemia\",\"Edad\",\"Educaci\\u00f3n\",\"Cigarrillos_por_dia\",\"Colesterol_total\",\"Presion_sistolica\",\"IMC\",\"Frecuencia_Cardiaca\",\"Glicemia\",\"Edad\",\"Educaci\\u00f3n\",\"Cigarrillos_por_dia\",\"Colesterol_total\",\"Presion_sistolica\",\"IMC\",\"Frecuencia_Cardiaca\",\"Glicemia\",\"Edad\",\"Educaci\\u00f3n\",\"Cigarrillos_por_dia\",\"Colesterol_total\",\"Presion_sistolica\",\"IMC\",\"Frecuencia_Cardiaca\",\"Glicemia\"],\"y\":[\"Edad\",\"Edad\",\"Edad\",\"Edad\",\"Edad\",\"Edad\",\"Edad\",\"Edad\",\"Educaci\\u00f3n\",\"Educaci\\u00f3n\",\"Educaci\\u00f3n\",\"Educaci\\u00f3n\",\"Educaci\\u00f3n\",\"Educaci\\u00f3n\",\"Educaci\\u00f3n\",\"Educaci\\u00f3n\",\"Cigarrillos_por_dia\",\"Cigarrillos_por_dia\",\"Cigarrillos_por_dia\",\"Cigarrillos_por_dia\",\"Cigarrillos_por_dia\",\"Cigarrillos_por_dia\",\"Cigarrillos_por_dia\",\"Cigarrillos_por_dia\",\"Colesterol_total\",\"Colesterol_total\",\"Colesterol_total\",\"Colesterol_total\",\"Colesterol_total\",\"Colesterol_total\",\"Colesterol_total\",\"Colesterol_total\",\"Presion_sistolica\",\"Presion_sistolica\",\"Presion_sistolica\",\"Presion_sistolica\",\"Presion_sistolica\",\"Presion_sistolica\",\"Presion_sistolica\",\"Presion_sistolica\",\"IMC\",\"IMC\",\"IMC\",\"IMC\",\"IMC\",\"IMC\",\"IMC\",\"IMC\",\"Frecuencia_Cardiaca\",\"Frecuencia_Cardiaca\",\"Frecuencia_Cardiaca\",\"Frecuencia_Cardiaca\",\"Frecuencia_Cardiaca\",\"Frecuencia_Cardiaca\",\"Frecuencia_Cardiaca\",\"Frecuencia_Cardiaca\",\"Glicemia\",\"Glicemia\",\"Glicemia\",\"Glicemia\",\"Glicemia\",\"Glicemia\",\"Glicemia\",\"Glicemia\"]},\"selected\":{\"id\":\"2930\"},\"selection_policy\":{\"id\":\"2929\"}},\"id\":\"2659\",\"type\":\"ColumnDataSource\"},{\"attributes\":{},\"id\":\"2672\",\"type\":\"CategoricalTicker\"},{\"attributes\":{},\"id\":\"2667\",\"type\":\"CategoricalScale\"},{\"attributes\":{\"factors\":[\"Edad\",\"Educaci\\u00f3n\",\"Cigarrillos_por_dia\",\"Colesterol_total\",\"Presion_sistolica\",\"IMC\",\"Frecuencia_Cardiaca\",\"Glicemia\"]},\"id\":\"2665\",\"type\":\"FactorRange\"},{\"attributes\":{\"below\":[{\"id\":\"2714\"}],\"center\":[{\"id\":\"2717\"},{\"id\":\"2721\"}],\"left\":[{\"id\":\"2718\"}],\"title\":{\"id\":\"2704\"},\"toolbar\":{\"id\":\"2729\"},\"x_range\":{\"id\":\"2706\"},\"x_scale\":{\"id\":\"2710\"},\"y_range\":{\"id\":\"2708\"},\"y_scale\":{\"id\":\"2712\"}},\"id\":\"2703\",\"subtype\":\"Figure\",\"type\":\"Plot\"},{\"attributes\":{\"coordinates\":null,\"group\":null,\"text\":\"Pass in \\\"cramers v\\\" to show the plot, nothing to display\"},\"id\":\"2704\",\"type\":\"Title\"},{\"attributes\":{\"coordinates\":null,\"formatter\":{\"id\":\"2921\"},\"group\":null,\"major_label_policy\":{\"id\":\"2922\"},\"ticker\":{\"id\":\"2715\"}},\"id\":\"2714\",\"type\":\"LinearAxis\"},{\"attributes\":{\"tools\":[{\"id\":\"2756\"},{\"id\":\"2757\"},{\"id\":\"2758\"},{\"id\":\"2759\"},{\"id\":\"2760\"},{\"id\":\"2761\"}]},\"id\":\"2763\",\"type\":\"Toolbar\"},{\"attributes\":{\"fill_color\":{\"field\":\"corr\",\"transform\":{\"id\":\"2658\"}},\"height\":{\"value\":1},\"line_color\":{\"value\":null},\"width\":{\"value\":1},\"x\":{\"field\":\"x\"},\"y\":{\"field\":\"y\"}},\"id\":\"2692\",\"type\":\"Rect\"},{\"attributes\":{},\"id\":\"2919\",\"type\":\"AllLabels\"},{\"attributes\":{},\"id\":\"2918\",\"type\":\"BasicTickFormatter\"}],\"root_ids\":[\"2771\"]},\"title\":\"Bokeh Application\",\"version\":\"2.4.3\"}};\n  const render_items = [{\"docid\":\"69ec8a40-fc3b-4127-82bc-78bd1f8a2cae\",\"root_ids\":[\"2771\"],\"roots\":{\"2771\":\"351b1375-6ad4-404e-9580-1e32a7320f37\"}}];\n  root.Bokeh.embed.embed_items_notebook(docs_json, render_items);\n  }\n  if (root.Bokeh !== undefined) {\n    embed_document(root);\n  } else {\n    let attempts = 0;\n    const timer = setInterval(function(root) {\n      if (root.Bokeh !== undefined) {\n        clearInterval(timer);\n        embed_document(root);\n      } else {\n        attempts++;\n        if (attempts > 100) {\n          clearInterval(timer);\n          console.log(\"Bokeh: ERROR: Unable to run BokehJS code because BokehJS library is missing\");\n        }\n      }\n    }, 10, root)\n  }\n})(window);",
      "application/vnd.bokehjs_exec.v0+json": ""
     },
     "metadata": {
      "application/vnd.bokehjs_exec.v0+json": {
       "id": "2771"
      }
     },
     "output_type": "display_data"
    },
    {
     "data": {
      "application/vnd.jupyter.widget-view+json": {
       "model_id": "31b2f2392aca4ffdae1744c69be2350f",
       "version_major": 2,
       "version_minor": 0
      },
      "text/plain": [
       "Accordion(children=(HTML(value='<h3>Type: BinaryClassificationDataset</h3><h3>1,288 Rows, 15 Columns</h3><h4>C…"
      ]
     },
     "metadata": {},
     "output_type": "display_data"
    }
   ],
   "source": [
    "bd_submuestreado.show_in_notebook()"
   ]
  },
  {
   "cell_type": "code",
   "execution_count": 172,
   "id": "1c0a96e9",
   "metadata": {},
   "outputs": [
    {
     "data": {
      "text/plain": [
       "0    3594\n",
       "1    3594\n",
       "Name: Reizgo_EAC_decada, dtype: int64"
      ]
     },
     "execution_count": 172,
     "metadata": {},
     "output_type": "execute_result"
    }
   ],
   "source": [
    "bd_sobremuestreado.Reizgo_EAC_decada.value_counts()"
   ]
  },
  {
   "cell_type": "code",
   "execution_count": 173,
   "id": "3fe0d998",
   "metadata": {},
   "outputs": [
    {
     "data": {
      "text/plain": [
       "0    644\n",
       "1    644\n",
       "Name: Reizgo_EAC_decada, dtype: int64"
      ]
     },
     "execution_count": 173,
     "metadata": {},
     "output_type": "execute_result"
    }
   ],
   "source": [
    "bd_submuestreado.Reizgo_EAC_decada.value_counts()"
   ]
  },
  {
   "cell_type": "code",
   "execution_count": 174,
   "id": "bae5ba89",
   "metadata": {},
   "outputs": [],
   "source": [
    "#Generando una descripción para el DataFrame\n",
    "descripcion = \"\"\"\n",
    "- Información general: Esta base de datos se refiere a un estudio realizado recolectando datos sobre el estado de salud de los pacientes para tratar de clasificar el riesgo de enfermedad coronaria en los próximos 10 años. Para consultar la base original, puede acceder al siguiente [link](https://www.kaggle.com/dileep070/heart-disease-prediction-using-logistic-regression).\n",
    "\n",
    "Los datos fueron modificados con el objetivo de corregir los problemas de la base y dejarla lista para poder realizar modelos empleando Machine Learning.\n",
    "\n",
    "-Tipo de las Columnas:\n",
    "    - 'sexo': booleano,\n",
    "    - 'edad': numérico,\n",
    "    - 'cigarrillos_por_dia': categórico,                                                                   \n",
    "    - 'uso_medicamento_presion': booleano\n",
    "    - 'acv': booleano,\n",
    "    - 'hipertension': booleano,\n",
    "    - 'diabetes': booleano,\n",
    "    - 'colesterol_total': numérico,\n",
    "    - 'presion_arterial_sistolica': numérico,\n",
    "    - 'presion_arterial_diastolica': numérico,\n",
    "    - 'imc': numérico,\n",
    "    - 'frecuencia_cardiaca': numérico,\n",
    "    - 'glicemia': numérico,\n",
    "    - 'riesgo_EAC_decada': booleano.\n",
    "\n",
    "- Detalle de las Columnas:\n",
    "    - 'sexo': Considera masculino como 1 y femenino como 0;\n",
    "    - 'edad': Edad en años completos;\n",
    "- 'cigarrillos_por_dia': Define diferentes grupos de personas de acuerdo con la cantidad de cigarrillos consumidos por día:\n",
    "    0 - no fumador;\n",
    "    1 - fumador leve (1 a 10 cigarrillos por día);\n",
    "    2 - fumador moderado (11 a 20 cigarrillos por día);\n",
    "    3 - fumador severo (más de 20 cigarrillos por día).\n",
    "- 'uso_medicamento_presion': Si la persona toma o no medicamentos para la presión;\n",
    "    - 'acv': Si ya tuvo Accidente Cerebro-Vascular;\n",
    "    - 'hipertension': Si la persona sufre de hipertensión;\n",
    "    - 'diabetes': Si la persona es diabética;\n",
    "    - 'colesterol_total': Cantidad de colesterol total;\n",
    "    - 'presion_arterial_sistolica': Presión arterial sistólica medida;\n",
    "    - 'presion_arterial_diastolica': Presión arterial diastólica medida;\n",
    "    - 'imc': Índice de masa corporal;\n",
    "    - 'frecuencia_cardiaca': frecuencia cardíaca en pulsaciones por minuto;\n",
    "    - 'glicemia': Cantidad de glicemia en la sangre,\n",
    "- 'riesgo_EAC_decada': Clasificación de riesgo para enfermedad coronaria en los próximos 10 años:\n",
    "    0 - No está en el grupo de riesgo;\n",
    "    1 - Está en el grupo de riesgo.\n",
    "\"\"\""
   ]
  },
  {
   "cell_type": "code",
   "execution_count": 175,
   "id": "a517e3be",
   "metadata": {},
   "outputs": [],
   "source": [
    "bd_sobremuestreado.set_description(descripcion)"
   ]
  },
  {
   "cell_type": "code",
   "execution_count": 176,
   "id": "e6102439",
   "metadata": {},
   "outputs": [
    {
     "data": {
      "application/javascript": "(function(root) {\n  function now() {\n    return new Date();\n  }\n\n  const force = true;\n\n  if (typeof root._bokeh_onload_callbacks === \"undefined\" || force === true) {\n    root._bokeh_onload_callbacks = [];\n    root._bokeh_is_loading = undefined;\n  }\n\nconst JS_MIME_TYPE = 'application/javascript';\n  const HTML_MIME_TYPE = 'text/html';\n  const EXEC_MIME_TYPE = 'application/vnd.bokehjs_exec.v0+json';\n  const CLASS_NAME = 'output_bokeh rendered_html';\n\n  /**\n   * Render data to the DOM node\n   */\n  function render(props, node) {\n    const script = document.createElement(\"script\");\n    node.appendChild(script);\n  }\n\n  /**\n   * Handle when an output is cleared or removed\n   */\n  function handleClearOutput(event, handle) {\n    const cell = handle.cell;\n\n    const id = cell.output_area._bokeh_element_id;\n    const server_id = cell.output_area._bokeh_server_id;\n    // Clean up Bokeh references\n    if (id != null && id in Bokeh.index) {\n      Bokeh.index[id].model.document.clear();\n      delete Bokeh.index[id];\n    }\n\n    if (server_id !== undefined) {\n      // Clean up Bokeh references\n      const cmd_clean = \"from bokeh.io.state import curstate; print(curstate().uuid_to_server['\" + server_id + \"'].get_sessions()[0].document.roots[0]._id)\";\n      cell.notebook.kernel.execute(cmd_clean, {\n        iopub: {\n          output: function(msg) {\n            const id = msg.content.text.trim();\n            if (id in Bokeh.index) {\n              Bokeh.index[id].model.document.clear();\n              delete Bokeh.index[id];\n            }\n          }\n        }\n      });\n      // Destroy server and session\n      const cmd_destroy = \"import bokeh.io.notebook as ion; ion.destroy_server('\" + server_id + \"')\";\n      cell.notebook.kernel.execute(cmd_destroy);\n    }\n  }\n\n  /**\n   * Handle when a new output is added\n   */\n  function handleAddOutput(event, handle) {\n    const output_area = handle.output_area;\n    const output = handle.output;\n\n    // limit handleAddOutput to display_data with EXEC_MIME_TYPE content only\n    if ((output.output_type != \"display_data\") || (!Object.prototype.hasOwnProperty.call(output.data, EXEC_MIME_TYPE))) {\n      return\n    }\n\n    const toinsert = output_area.element.find(\".\" + CLASS_NAME.split(' ')[0]);\n\n    if (output.metadata[EXEC_MIME_TYPE][\"id\"] !== undefined) {\n      toinsert[toinsert.length - 1].firstChild.textContent = output.data[JS_MIME_TYPE];\n      // store reference to embed id on output_area\n      output_area._bokeh_element_id = output.metadata[EXEC_MIME_TYPE][\"id\"];\n    }\n    if (output.metadata[EXEC_MIME_TYPE][\"server_id\"] !== undefined) {\n      const bk_div = document.createElement(\"div\");\n      bk_div.innerHTML = output.data[HTML_MIME_TYPE];\n      const script_attrs = bk_div.children[0].attributes;\n      for (let i = 0; i < script_attrs.length; i++) {\n        toinsert[toinsert.length - 1].firstChild.setAttribute(script_attrs[i].name, script_attrs[i].value);\n        toinsert[toinsert.length - 1].firstChild.textContent = bk_div.children[0].textContent\n      }\n      // store reference to server id on output_area\n      output_area._bokeh_server_id = output.metadata[EXEC_MIME_TYPE][\"server_id\"];\n    }\n  }\n\n  function register_renderer(events, OutputArea) {\n\n    function append_mime(data, metadata, element) {\n      // create a DOM node to render to\n      const toinsert = this.create_output_subarea(\n        metadata,\n        CLASS_NAME,\n        EXEC_MIME_TYPE\n      );\n      this.keyboard_manager.register_events(toinsert);\n      // Render to node\n      const props = {data: data, metadata: metadata[EXEC_MIME_TYPE]};\n      render(props, toinsert[toinsert.length - 1]);\n      element.append(toinsert);\n      return toinsert\n    }\n\n    /* Handle when an output is cleared or removed */\n    events.on('clear_output.CodeCell', handleClearOutput);\n    events.on('delete.Cell', handleClearOutput);\n\n    /* Handle when a new output is added */\n    events.on('output_added.OutputArea', handleAddOutput);\n\n    /**\n     * Register the mime type and append_mime function with output_area\n     */\n    OutputArea.prototype.register_mime_type(EXEC_MIME_TYPE, append_mime, {\n      /* Is output safe? */\n      safe: true,\n      /* Index of renderer in `output_area.display_order` */\n      index: 0\n    });\n  }\n\n  // register the mime type if in Jupyter Notebook environment and previously unregistered\n  if (root.Jupyter !== undefined) {\n    const events = require('base/js/events');\n    const OutputArea = require('notebook/js/outputarea').OutputArea;\n\n    if (OutputArea.prototype.mime_types().indexOf(EXEC_MIME_TYPE) == -1) {\n      register_renderer(events, OutputArea);\n    }\n  }\n  if (typeof (root._bokeh_timeout) === \"undefined\" || force === true) {\n    root._bokeh_timeout = Date.now() + 5000;\n    root._bokeh_failed_load = false;\n  }\n\n  const NB_LOAD_WARNING = {'data': {'text/html':\n     \"<div style='background-color: #fdd'>\\n\"+\n     \"<p>\\n\"+\n     \"BokehJS does not appear to have successfully loaded. If loading BokehJS from CDN, this \\n\"+\n     \"may be due to a slow or bad network connection. Possible fixes:\\n\"+\n     \"</p>\\n\"+\n     \"<ul>\\n\"+\n     \"<li>re-rerun `output_notebook()` to attempt to load from CDN again, or</li>\\n\"+\n     \"<li>use INLINE resources instead, as so:</li>\\n\"+\n     \"</ul>\\n\"+\n     \"<code>\\n\"+\n     \"from bokeh.resources import INLINE\\n\"+\n     \"output_notebook(resources=INLINE)\\n\"+\n     \"</code>\\n\"+\n     \"</div>\"}};\n\n  function display_loaded() {\n    const el = document.getElementById(\"3069\");\n    if (el != null) {\n      el.textContent = \"BokehJS is loading...\";\n    }\n    if (root.Bokeh !== undefined) {\n      if (el != null) {\n        el.textContent = \"BokehJS \" + root.Bokeh.version + \" successfully loaded.\";\n      }\n    } else if (Date.now() < root._bokeh_timeout) {\n      setTimeout(display_loaded, 100)\n    }\n  }\n\n  function run_callbacks() {\n    try {\n      root._bokeh_onload_callbacks.forEach(function(callback) {\n        if (callback != null)\n          callback();\n      });\n    } finally {\n      delete root._bokeh_onload_callbacks\n    }\n    console.debug(\"Bokeh: all callbacks have finished\");\n  }\n\n  function load_libs(css_urls, js_urls, callback) {\n    if (css_urls == null) css_urls = [];\n    if (js_urls == null) js_urls = [];\n\n    root._bokeh_onload_callbacks.push(callback);\n    if (root._bokeh_is_loading > 0) {\n      console.debug(\"Bokeh: BokehJS is being loaded, scheduling callback at\", now());\n      return null;\n    }\n    if (js_urls == null || js_urls.length === 0) {\n      run_callbacks();\n      return null;\n    }\n    console.debug(\"Bokeh: BokehJS not loaded, scheduling load and callback at\", now());\n    root._bokeh_is_loading = css_urls.length + js_urls.length;\n\n    function on_load() {\n      root._bokeh_is_loading--;\n      if (root._bokeh_is_loading === 0) {\n        console.debug(\"Bokeh: all BokehJS libraries/stylesheets loaded\");\n        run_callbacks()\n      }\n    }\n\n    function on_error(url) {\n      console.error(\"failed to load \" + url);\n    }\n\n    for (let i = 0; i < css_urls.length; i++) {\n      const url = css_urls[i];\n      const element = document.createElement(\"link\");\n      element.onload = on_load;\n      element.onerror = on_error.bind(null, url);\n      element.rel = \"stylesheet\";\n      element.type = \"text/css\";\n      element.href = url;\n      console.debug(\"Bokeh: injecting link tag for BokehJS stylesheet: \", url);\n      document.body.appendChild(element);\n    }\n\n    for (let i = 0; i < js_urls.length; i++) {\n      const url = js_urls[i];\n      const element = document.createElement('script');\n      element.onload = on_load;\n      element.onerror = on_error.bind(null, url);\n      element.async = false;\n      element.src = url;\n      console.debug(\"Bokeh: injecting script tag for BokehJS library: \", url);\n      document.head.appendChild(element);\n    }\n  };\n\n  function inject_raw_css(css) {\n    const element = document.createElement(\"style\");\n    element.appendChild(document.createTextNode(css));\n    document.body.appendChild(element);\n  }\n\n  const js_urls = [\"https://cdn.bokeh.org/bokeh/release/bokeh-2.4.3.min.js\", \"https://cdn.bokeh.org/bokeh/release/bokeh-gl-2.4.3.min.js\", \"https://cdn.bokeh.org/bokeh/release/bokeh-widgets-2.4.3.min.js\", \"https://cdn.bokeh.org/bokeh/release/bokeh-tables-2.4.3.min.js\", \"https://cdn.bokeh.org/bokeh/release/bokeh-mathjax-2.4.3.min.js\"];\n  const css_urls = [];\n\n  const inline_js = [    function(Bokeh) {\n      Bokeh.set_log_level(\"info\");\n    },\nfunction(Bokeh) {\n    }\n  ];\n\n  function run_inline_js() {\n    if (root.Bokeh !== undefined || force === true) {\n          for (let i = 0; i < inline_js.length; i++) {\n      inline_js[i].call(root, root.Bokeh);\n    }\nif (force === true) {\n        display_loaded();\n      }} else if (Date.now() < root._bokeh_timeout) {\n      setTimeout(run_inline_js, 100);\n    } else if (!root._bokeh_failed_load) {\n      console.log(\"Bokeh: BokehJS failed to load within specified timeout.\");\n      root._bokeh_failed_load = true;\n    } else if (force !== true) {\n      const cell = $(document.getElementById(\"3069\")).parents('.cell').data().cell;\n      cell.output_area.append_execute_result(NB_LOAD_WARNING)\n    }\n  }\n\n  if (root._bokeh_is_loading === 0) {\n    console.debug(\"Bokeh: BokehJS loaded, going straight to plotting\");\n    run_inline_js();\n  } else {\n    load_libs(css_urls, js_urls, function() {\n      console.debug(\"Bokeh: BokehJS plotting callback run at\", now());\n      run_inline_js();\n    });\n  }\n}(window));",
      "application/vnd.bokehjs_load.v0+json": ""
     },
     "metadata": {},
     "output_type": "display_data"
    },
    {
     "data": {
      "application/javascript": "(function(root) {\n  function embed_document(root) {\n  const docs_json = {\"f586e296-2031-4cd6-b359-55be065ee3b2\":{\"defs\":[],\"roots\":{\"references\":[{\"attributes\":{\"tabs\":[{\"id\":\"3114\"},{\"id\":\"3148\"},{\"id\":\"3182\"}]},\"id\":\"3183\",\"type\":\"Tabs\"},{\"attributes\":{\"color_mapper\":{\"id\":\"3070\"},\"coordinates\":null,\"formatter\":{\"id\":\"3112\"},\"group\":null,\"label_standoff\":6,\"location\":[0,0],\"major_label_policy\":{\"id\":\"3352\"},\"major_label_text_font_size\":\"5pt\",\"ticker\":{\"id\":\"3111\"}},\"id\":\"3113\",\"type\":\"ColorBar\"},{\"attributes\":{\"source\":{\"id\":\"3071\"}},\"id\":\"3108\",\"type\":\"CDSView\"},{\"attributes\":{},\"id\":\"3137\",\"type\":\"SaveTool\"},{\"attributes\":{\"desired_num_ticks\":8},\"id\":\"3111\",\"type\":\"BasicTicker\"},{\"attributes\":{},\"id\":\"3172\",\"type\":\"ResetTool\"},{\"attributes\":{\"child\":{\"id\":\"3072\"},\"title\":\"Continuous vs Continuous\"},\"id\":\"3114\",\"type\":\"Panel\"},{\"attributes\":{\"fill_alpha\":{\"value\":0.2},\"fill_color\":{\"field\":\"corr\",\"transform\":{\"id\":\"3070\"}},\"hatch_alpha\":{\"value\":0.2},\"height\":{\"value\":1},\"line_alpha\":{\"value\":0.2},\"line_color\":{\"value\":null},\"width\":{\"value\":1},\"x\":{\"field\":\"x\"},\"y\":{\"field\":\"y\"}},\"id\":\"3106\",\"type\":\"Rect\"},{\"attributes\":{},\"id\":\"3173\",\"type\":\"HelpTool\"},{\"attributes\":{\"format\":\"%0.2f\"},\"id\":\"3112\",\"type\":\"PrintfTickFormatter\"},{\"attributes\":{\"bottom_units\":\"screen\",\"coordinates\":null,\"fill_alpha\":0.5,\"fill_color\":\"lightgrey\",\"group\":null,\"left_units\":\"screen\",\"level\":\"overlay\",\"line_alpha\":1.0,\"line_color\":\"black\",\"line_dash\":[4,4],\"line_width\":2,\"right_units\":\"screen\",\"syncable\":false,\"top_units\":\"screen\"},\"id\":\"3174\",\"type\":\"BoxAnnotation\"},{\"attributes\":{\"tools\":[{\"id\":\"3089\"},{\"id\":\"3090\"},{\"id\":\"3091\"},{\"id\":\"3092\"},{\"id\":\"3093\"},{\"id\":\"3094\"},{\"id\":\"3109\"}]},\"id\":\"3096\",\"type\":\"Toolbar\"},{\"attributes\":{\"coordinates\":null,\"formatter\":{\"id\":\"3357\"},\"group\":null,\"major_label_policy\":{\"id\":\"3358\"},\"ticker\":{\"id\":\"3131\"}},\"id\":\"3130\",\"type\":\"LinearAxis\"},{\"attributes\":{\"axis\":{\"id\":\"3160\"},\"coordinates\":null,\"group\":null,\"ticker\":null},\"id\":\"3163\",\"type\":\"Grid\"},{\"attributes\":{\"child\":{\"id\":\"3149\"},\"title\":\"Category vs Continuous\"},\"id\":\"3182\",\"type\":\"Panel\"},{\"attributes\":{},\"id\":\"3161\",\"type\":\"BasicTicker\"},{\"attributes\":{},\"id\":\"3154\",\"type\":\"DataRange1d\"},{\"attributes\":{},\"id\":\"3350\",\"type\":\"CategoricalTickFormatter\"},{\"attributes\":{\"coordinates\":null,\"group\":null,\"text\":\"Pass in \\\"correlation ratio\\\" to show the plot, nothing to display\"},\"id\":\"3150\",\"type\":\"Title\"},{\"attributes\":{\"coordinates\":null,\"formatter\":{\"id\":\"3363\"},\"group\":null,\"major_label_policy\":{\"id\":\"3364\"},\"ticker\":{\"id\":\"3165\"}},\"id\":\"3164\",\"type\":\"LinearAxis\"},{\"attributes\":{\"callback\":null,\"tooltips\":[[\"X\",\"@x\"],[\"Y\",\"@y\"],[\"Corr\",\"@corr\"]]},\"id\":\"3109\",\"type\":\"HoverTool\"},{\"attributes\":{},\"id\":\"3351\",\"type\":\"AllLabels\"},{\"attributes\":{\"overlay\":{\"id\":\"3140\"}},\"id\":\"3136\",\"type\":\"BoxZoomTool\"},{\"attributes\":{},\"id\":\"3139\",\"type\":\"HelpTool\"},{\"attributes\":{\"axis\":{\"id\":\"3126\"},\"coordinates\":null,\"group\":null,\"ticker\":null},\"id\":\"3129\",\"type\":\"Grid\"},{\"attributes\":{},\"id\":\"3352\",\"type\":\"NoOverlap\"},{\"attributes\":{},\"id\":\"3135\",\"type\":\"WheelZoomTool\"},{\"attributes\":{},\"id\":\"3134\",\"type\":\"PanTool\"},{\"attributes\":{\"coordinates\":null,\"data_source\":{\"id\":\"3071\"},\"glyph\":{\"id\":\"3104\"},\"group\":null,\"hover_glyph\":null,\"muted_glyph\":{\"id\":\"3106\"},\"nonselection_glyph\":{\"id\":\"3105\"},\"view\":{\"id\":\"3108\"}},\"id\":\"3107\",\"type\":\"GlyphRenderer\"},{\"attributes\":{\"coordinates\":null,\"formatter\":{\"id\":\"3354\"},\"group\":null,\"major_label_orientation\":\"vertical\",\"major_label_policy\":{\"id\":\"3355\"},\"ticker\":{\"id\":\"3084\"}},\"id\":\"3083\",\"type\":\"CategoricalAxis\"},{\"attributes\":{\"fill_alpha\":{\"value\":0.1},\"fill_color\":{\"field\":\"corr\",\"transform\":{\"id\":\"3070\"}},\"hatch_alpha\":{\"value\":0.1},\"height\":{\"value\":1},\"line_alpha\":{\"value\":0.1},\"line_color\":{\"value\":null},\"width\":{\"value\":1},\"x\":{\"field\":\"x\"},\"y\":{\"field\":\"y\"}},\"id\":\"3105\",\"type\":\"Rect\"},{\"attributes\":{},\"id\":\"3354\",\"type\":\"CategoricalTickFormatter\"},{\"attributes\":{\"coordinates\":null,\"formatter\":{\"id\":\"3360\"},\"group\":null,\"major_label_policy\":{\"id\":\"3361\"},\"ticker\":{\"id\":\"3127\"}},\"id\":\"3126\",\"type\":\"LinearAxis\"},{\"attributes\":{},\"id\":\"3355\",\"type\":\"AllLabels\"},{\"attributes\":{},\"id\":\"3094\",\"type\":\"HelpTool\"},{\"attributes\":{},\"id\":\"3124\",\"type\":\"LinearScale\"},{\"attributes\":{\"coordinates\":null,\"group\":null,\"text\":\"Pass in \\\"cramers v\\\" to show the plot, nothing to display\"},\"id\":\"3116\",\"type\":\"Title\"},{\"attributes\":{\"coordinates\":null,\"formatter\":{\"id\":\"3350\"},\"group\":null,\"major_label_policy\":{\"id\":\"3351\"},\"ticker\":{\"id\":\"3087\"}},\"id\":\"3086\",\"type\":\"CategoricalAxis\"},{\"attributes\":{\"child\":{\"id\":\"3115\"},\"title\":\"Category vs Category\"},\"id\":\"3148\",\"type\":\"Panel\"},{\"attributes\":{\"data\":{\"corr\":{\"__ndarray__\":\"AAAAAAAA8D9UGHI0tcPDvwsBkMYKXcu/RmT/lhSmyj8WGpeu+FjaPwII374CNMI/tTWw3a25WD8aYjogHHu+P1QYcjS1w8O/AAAAAAAA8D+RyGtNBtFuP0NO7FHYo5o/lw+Z4Wdhvb81MizavTnAv/prlANTwau/bvL8qld0ob8LAZDGCl3Lv5HIa00G0W4/AAAAAAAA8D/kt/u5MKiiv0uZq4MEvLi/hzaos7cpt7/IS5Gtika5P3JcnqkMza2/RmT/lhSmyj9DTuxR2KOaP+S3+7kwqKK/AAAAAAAA8D/qTW2vz1/HP1g6hh5zTLg/3kw32LQZuD8D0eEu8We2PxYal674WNo/lw+Z4Wdhvb9LmauDBLy4v+pNba/PX8c/AAAAAAAA8D9LoSuSCJ3UP3xB84gKjsU/qf/uqcB9wj8CCN++AjTCPzUyLNq9OcC/hzaos7cpt79YOoYec0y4P0uhK5IIndQ/AAAAAAAA8D/uMjQ68WOzP2qzD+Kvors/tTWw3a25WD/6a5QDU8Grv8hLka2KRrk/3kw32LQZuD98QfOICo7FP+4yNDrxY7M/AAAAAAAA8D/fQRbNxeW1PxpiOiAce74/bvL8qld0ob9yXJ6pDM2tvwPR4S7xZ7Y/qf/uqcB9wj9qsw/ir6K7P99BFs3F5bU/AAAAAAAA8D8=\",\"dtype\":\"float64\",\"order\":\"little\",\"shape\":[64]},\"index\":[0,1,2,3,4,5,6,7,8,9,10,11,12,13,14,15,16,17,18,19,20,21,22,23,24,25,26,27,28,29,30,31,32,33,34,35,36,37,38,39,40,41,42,43,44,45,46,47,48,49,50,51,52,53,54,55,56,57,58,59,60,61,62,63],\"x\":[\"Edad\",\"Educaci\\u00f3n\",\"Cigarrillos_por_dia\",\"Colesterol_total\",\"Presion_sistolica\",\"IMC\",\"Frecuencia_Cardiaca\",\"Glicemia\",\"Edad\",\"Educaci\\u00f3n\",\"Cigarrillos_por_dia\",\"Colesterol_total\",\"Presion_sistolica\",\"IMC\",\"Frecuencia_Cardiaca\",\"Glicemia\",\"Edad\",\"Educaci\\u00f3n\",\"Cigarrillos_por_dia\",\"Colesterol_total\",\"Presion_sistolica\",\"IMC\",\"Frecuencia_Cardiaca\",\"Glicemia\",\"Edad\",\"Educaci\\u00f3n\",\"Cigarrillos_por_dia\",\"Colesterol_total\",\"Presion_sistolica\",\"IMC\",\"Frecuencia_Cardiaca\",\"Glicemia\",\"Edad\",\"Educaci\\u00f3n\",\"Cigarrillos_por_dia\",\"Colesterol_total\",\"Presion_sistolica\",\"IMC\",\"Frecuencia_Cardiaca\",\"Glicemia\",\"Edad\",\"Educaci\\u00f3n\",\"Cigarrillos_por_dia\",\"Colesterol_total\",\"Presion_sistolica\",\"IMC\",\"Frecuencia_Cardiaca\",\"Glicemia\",\"Edad\",\"Educaci\\u00f3n\",\"Cigarrillos_por_dia\",\"Colesterol_total\",\"Presion_sistolica\",\"IMC\",\"Frecuencia_Cardiaca\",\"Glicemia\",\"Edad\",\"Educaci\\u00f3n\",\"Cigarrillos_por_dia\",\"Colesterol_total\",\"Presion_sistolica\",\"IMC\",\"Frecuencia_Cardiaca\",\"Glicemia\"],\"y\":[\"Edad\",\"Edad\",\"Edad\",\"Edad\",\"Edad\",\"Edad\",\"Edad\",\"Edad\",\"Educaci\\u00f3n\",\"Educaci\\u00f3n\",\"Educaci\\u00f3n\",\"Educaci\\u00f3n\",\"Educaci\\u00f3n\",\"Educaci\\u00f3n\",\"Educaci\\u00f3n\",\"Educaci\\u00f3n\",\"Cigarrillos_por_dia\",\"Cigarrillos_por_dia\",\"Cigarrillos_por_dia\",\"Cigarrillos_por_dia\",\"Cigarrillos_por_dia\",\"Cigarrillos_por_dia\",\"Cigarrillos_por_dia\",\"Cigarrillos_por_dia\",\"Colesterol_total\",\"Colesterol_total\",\"Colesterol_total\",\"Colesterol_total\",\"Colesterol_total\",\"Colesterol_total\",\"Colesterol_total\",\"Colesterol_total\",\"Presion_sistolica\",\"Presion_sistolica\",\"Presion_sistolica\",\"Presion_sistolica\",\"Presion_sistolica\",\"Presion_sistolica\",\"Presion_sistolica\",\"Presion_sistolica\",\"IMC\",\"IMC\",\"IMC\",\"IMC\",\"IMC\",\"IMC\",\"IMC\",\"IMC\",\"Frecuencia_Cardiaca\",\"Frecuencia_Cardiaca\",\"Frecuencia_Cardiaca\",\"Frecuencia_Cardiaca\",\"Frecuencia_Cardiaca\",\"Frecuencia_Cardiaca\",\"Frecuencia_Cardiaca\",\"Frecuencia_Cardiaca\",\"Glicemia\",\"Glicemia\",\"Glicemia\",\"Glicemia\",\"Glicemia\",\"Glicemia\",\"Glicemia\",\"Glicemia\"]},\"selected\":{\"id\":\"3369\"},\"selection_policy\":{\"id\":\"3368\"}},\"id\":\"3071\",\"type\":\"ColumnDataSource\"},{\"attributes\":{},\"id\":\"3122\",\"type\":\"LinearScale\"},{\"attributes\":{\"axis\":{\"id\":\"3086\"},\"coordinates\":null,\"dimension\":1,\"group\":null,\"ticker\":null},\"id\":\"3088\",\"type\":\"Grid\"},{\"attributes\":{},\"id\":\"3092\",\"type\":\"SaveTool\"},{\"attributes\":{},\"id\":\"3090\",\"type\":\"WheelZoomTool\"},{\"attributes\":{},\"id\":\"3087\",\"type\":\"CategoricalTicker\"},{\"attributes\":{},\"id\":\"3093\",\"type\":\"ResetTool\"},{\"attributes\":{},\"id\":\"3081\",\"type\":\"CategoricalScale\"},{\"attributes\":{\"bottom_units\":\"screen\",\"coordinates\":null,\"fill_alpha\":0.5,\"fill_color\":\"lightgrey\",\"group\":null,\"left_units\":\"screen\",\"level\":\"overlay\",\"line_alpha\":1.0,\"line_color\":\"black\",\"line_dash\":[4,4],\"line_width\":2,\"right_units\":\"screen\",\"syncable\":false,\"top_units\":\"screen\"},\"id\":\"3095\",\"type\":\"BoxAnnotation\"},{\"attributes\":{},\"id\":\"3089\",\"type\":\"PanTool\"},{\"attributes\":{\"overlay\":{\"id\":\"3095\"}},\"id\":\"3091\",\"type\":\"BoxZoomTool\"},{\"attributes\":{\"coordinates\":null,\"group\":null,\"text\":\"Continuous vs Continuous\"},\"id\":\"3073\",\"type\":\"Title\"},{\"attributes\":{\"coordinates\":null,\"formatter\":{\"id\":\"3366\"},\"group\":null,\"major_label_policy\":{\"id\":\"3367\"},\"ticker\":{\"id\":\"3161\"}},\"id\":\"3160\",\"type\":\"LinearAxis\"},{\"attributes\":{},\"id\":\"3120\",\"type\":\"DataRange1d\"},{\"attributes\":{},\"id\":\"3156\",\"type\":\"LinearScale\"},{\"attributes\":{},\"id\":\"3131\",\"type\":\"BasicTicker\"},{\"attributes\":{\"bottom_units\":\"screen\",\"coordinates\":null,\"fill_alpha\":0.5,\"fill_color\":\"lightgrey\",\"group\":null,\"left_units\":\"screen\",\"level\":\"overlay\",\"line_alpha\":1.0,\"line_color\":\"black\",\"line_dash\":[4,4],\"line_width\":2,\"right_units\":\"screen\",\"syncable\":false,\"top_units\":\"screen\"},\"id\":\"3140\",\"type\":\"BoxAnnotation\"},{\"attributes\":{},\"id\":\"3084\",\"type\":\"CategoricalTicker\"},{\"attributes\":{\"axis\":{\"id\":\"3130\"},\"coordinates\":null,\"dimension\":1,\"group\":null,\"ticker\":null},\"id\":\"3133\",\"type\":\"Grid\"},{\"attributes\":{\"axis\":{\"id\":\"3083\"},\"coordinates\":null,\"group\":null,\"ticker\":null},\"id\":\"3085\",\"type\":\"Grid\"},{\"attributes\":{},\"id\":\"3357\",\"type\":\"BasicTickFormatter\"},{\"attributes\":{},\"id\":\"3158\",\"type\":\"LinearScale\"},{\"attributes\":{},\"id\":\"3127\",\"type\":\"BasicTicker\"},{\"attributes\":{},\"id\":\"3358\",\"type\":\"AllLabels\"},{\"attributes\":{\"axis\":{\"id\":\"3164\"},\"coordinates\":null,\"dimension\":1,\"group\":null,\"ticker\":null},\"id\":\"3167\",\"type\":\"Grid\"},{\"attributes\":{\"below\":[{\"id\":\"3160\"}],\"center\":[{\"id\":\"3163\"},{\"id\":\"3167\"}],\"left\":[{\"id\":\"3164\"}],\"title\":{\"id\":\"3150\"},\"toolbar\":{\"id\":\"3175\"},\"x_range\":{\"id\":\"3152\"},\"x_scale\":{\"id\":\"3156\"},\"y_range\":{\"id\":\"3154\"},\"y_scale\":{\"id\":\"3158\"}},\"id\":\"3149\",\"subtype\":\"Figure\",\"type\":\"Plot\"},{\"attributes\":{},\"id\":\"3165\",\"type\":\"BasicTicker\"},{\"attributes\":{},\"id\":\"3118\",\"type\":\"DataRange1d\"},{\"attributes\":{},\"id\":\"3360\",\"type\":\"BasicTickFormatter\"},{\"attributes\":{},\"id\":\"3169\",\"type\":\"WheelZoomTool\"},{\"attributes\":{},\"id\":\"3361\",\"type\":\"AllLabels\"},{\"attributes\":{},\"id\":\"3168\",\"type\":\"PanTool\"},{\"attributes\":{\"overlay\":{\"id\":\"3174\"}},\"id\":\"3170\",\"type\":\"BoxZoomTool\"},{\"attributes\":{},\"id\":\"3171\",\"type\":\"SaveTool\"},{\"attributes\":{},\"id\":\"3138\",\"type\":\"ResetTool\"},{\"attributes\":{\"tools\":[{\"id\":\"3168\"},{\"id\":\"3169\"},{\"id\":\"3170\"},{\"id\":\"3171\"},{\"id\":\"3172\"},{\"id\":\"3173\"}]},\"id\":\"3175\",\"type\":\"Toolbar\"},{\"attributes\":{},\"id\":\"3152\",\"type\":\"DataRange1d\"},{\"attributes\":{},\"id\":\"3363\",\"type\":\"BasicTickFormatter\"},{\"attributes\":{},\"id\":\"3364\",\"type\":\"AllLabels\"},{\"attributes\":{},\"id\":\"3366\",\"type\":\"BasicTickFormatter\"},{\"attributes\":{},\"id\":\"3367\",\"type\":\"AllLabels\"},{\"attributes\":{},\"id\":\"3368\",\"type\":\"UnionRenderers\"},{\"attributes\":{\"factors\":[\"Edad\",\"Educaci\\u00f3n\",\"Cigarrillos_por_dia\",\"Colesterol_total\",\"Presion_sistolica\",\"IMC\",\"Frecuencia_Cardiaca\",\"Glicemia\"]},\"id\":\"3075\",\"type\":\"FactorRange\"},{\"attributes\":{},\"id\":\"3369\",\"type\":\"Selection\"},{\"attributes\":{\"below\":[{\"id\":\"3083\"}],\"center\":[{\"id\":\"3085\"},{\"id\":\"3088\"}],\"left\":[{\"id\":\"3086\"}],\"renderers\":[{\"id\":\"3107\"}],\"right\":[{\"id\":\"3113\"}],\"title\":{\"id\":\"3073\"},\"toolbar\":{\"id\":\"3096\"},\"toolbar_location\":\"below\",\"toolbar_sticky\":false,\"x_range\":{\"id\":\"3075\"},\"x_scale\":{\"id\":\"3079\"},\"y_range\":{\"id\":\"3077\"},\"y_scale\":{\"id\":\"3081\"}},\"id\":\"3072\",\"subtype\":\"Figure\",\"type\":\"Plot\"},{\"attributes\":{},\"id\":\"3079\",\"type\":\"CategoricalScale\"},{\"attributes\":{\"factors\":[\"Edad\",\"Educaci\\u00f3n\",\"Cigarrillos_por_dia\",\"Colesterol_total\",\"Presion_sistolica\",\"IMC\",\"Frecuencia_Cardiaca\",\"Glicemia\"]},\"id\":\"3077\",\"type\":\"FactorRange\"},{\"attributes\":{\"tools\":[{\"id\":\"3134\"},{\"id\":\"3135\"},{\"id\":\"3136\"},{\"id\":\"3137\"},{\"id\":\"3138\"},{\"id\":\"3139\"}]},\"id\":\"3141\",\"type\":\"Toolbar\"},{\"attributes\":{\"below\":[{\"id\":\"3126\"}],\"center\":[{\"id\":\"3129\"},{\"id\":\"3133\"}],\"left\":[{\"id\":\"3130\"}],\"title\":{\"id\":\"3116\"},\"toolbar\":{\"id\":\"3141\"},\"x_range\":{\"id\":\"3118\"},\"x_scale\":{\"id\":\"3122\"},\"y_range\":{\"id\":\"3120\"},\"y_scale\":{\"id\":\"3124\"}},\"id\":\"3115\",\"subtype\":\"Figure\",\"type\":\"Plot\"},{\"attributes\":{\"high\":1,\"low\":-1,\"palette\":[\"#f7fcfd\",\"#f6fbfd\",\"#f6fbfc\",\"#f5fafc\",\"#f4fafc\",\"#f3f9fc\",\"#f3f9fb\",\"#f2f8fb\",\"#f1f8fb\",\"#f1f7fa\",\"#f0f7fa\",\"#eff6fa\",\"#eef6fa\",\"#eef5f9\",\"#edf5f9\",\"#ecf4f9\",\"#ebf4f8\",\"#ebf3f8\",\"#eaf3f8\",\"#e9f2f8\",\"#e9f2f7\",\"#e8f1f7\",\"#e7f1f7\",\"#e6f0f7\",\"#e6f0f6\",\"#e5eff6\",\"#e4eff6\",\"#e4eef5\",\"#e3eef5\",\"#e2edf5\",\"#e1edf5\",\"#e1ecf4\",\"#e0ecf4\",\"#dfebf4\",\"#deeaf3\",\"#ddeaf3\",\"#dce9f2\",\"#dbe8f2\",\"#dae7f1\",\"#d9e6f1\",\"#d8e6f0\",\"#d7e5f0\",\"#d6e4f0\",\"#d4e3ef\",\"#d3e2ef\",\"#d2e2ee\",\"#d1e1ee\",\"#d0e0ed\",\"#cfdfed\",\"#cedfec\",\"#cddeec\",\"#ccddec\",\"#cbdceb\",\"#cadbeb\",\"#c9dbea\",\"#c8daea\",\"#c7d9e9\",\"#c6d8e9\",\"#c5d8e9\",\"#c4d7e8\",\"#c3d6e8\",\"#c2d5e7\",\"#c1d4e7\",\"#c0d4e6\",\"#bfd3e6\",\"#bed2e6\",\"#bdd1e5\",\"#bcd1e5\",\"#bbd0e4\",\"#bacfe4\",\"#b9cee4\",\"#b7cee3\",\"#b6cde3\",\"#b5cce3\",\"#b4cce2\",\"#b3cbe2\",\"#b2cae1\",\"#b1c9e1\",\"#b0c9e1\",\"#afc8e0\",\"#aec7e0\",\"#adc7e0\",\"#acc6df\",\"#abc5df\",\"#aac4de\",\"#a9c4de\",\"#a8c3de\",\"#a7c2dd\",\"#a6c2dd\",\"#a5c1dc\",\"#a4c0dc\",\"#a3bfdc\",\"#a2bfdb\",\"#a1bedb\",\"#a0bddb\",\"#9fbcda\",\"#9ebcda\",\"#9dbad9\",\"#9db9d9\",\"#9cb8d8\",\"#9cb7d7\",\"#9bb6d7\",\"#9ab4d6\",\"#9ab3d5\",\"#99b2d5\",\"#99b1d4\",\"#98b0d3\",\"#98aed3\",\"#97add2\",\"#96acd2\",\"#96abd1\",\"#95aad0\",\"#95a8d0\",\"#94a7cf\",\"#94a6ce\",\"#93a5ce\",\"#92a4cd\",\"#92a3cd\",\"#91a1cc\",\"#91a0cb\",\"#909fcb\",\"#909eca\",\"#8f9dc9\",\"#8f9bc9\",\"#8e9ac8\",\"#8d99c8\",\"#8d98c7\",\"#8c97c6\",\"#8c95c6\",\"#8c94c5\",\"#8c93c4\",\"#8c91c4\",\"#8c90c3\",\"#8c8fc2\",\"#8c8dc2\",\"#8c8cc1\",\"#8c8bc0\",\"#8c89c0\",\"#8c88bf\",\"#8c86be\",\"#8c85be\",\"#8c84bd\",\"#8c82bc\",\"#8c81bc\",\"#8c80bb\",\"#8c7eba\",\"#8c7dba\",\"#8c7cb9\",\"#8c7ab8\",\"#8c79b8\",\"#8c78b7\",\"#8c76b7\",\"#8c75b6\",\"#8c74b5\",\"#8c72b5\",\"#8c71b4\",\"#8c70b3\",\"#8c6eb3\",\"#8c6db2\",\"#8c6cb1\",\"#8c6ab1\",\"#8c69b0\",\"#8c68af\",\"#8c66af\",\"#8b65ae\",\"#8b64ad\",\"#8b62ad\",\"#8b61ac\",\"#8b60ac\",\"#8b5eab\",\"#8b5daa\",\"#8b5caa\",\"#8a5aa9\",\"#8a59a8\",\"#8a58a8\",\"#8a56a7\",\"#8a55a7\",\"#8a54a6\",\"#8a52a5\",\"#8a51a5\",\"#8950a4\",\"#894fa3\",\"#894da3\",\"#894ca2\",\"#894ba2\",\"#8949a1\",\"#8948a0\",\"#8947a0\",\"#88459f\",\"#88449e\",\"#88439e\",\"#88419d\",\"#88409c\",\"#883e9b\",\"#873d9a\",\"#873b99\",\"#873a98\",\"#873897\",\"#873696\",\"#863595\",\"#863394\",\"#863293\",\"#863092\",\"#852f91\",\"#852d90\",\"#852b8f\",\"#852a8e\",\"#85288d\",\"#84278c\",\"#84258b\",\"#84248a\",\"#842289\",\"#832088\",\"#831f86\",\"#831d85\",\"#831c84\",\"#831a83\",\"#821982\",\"#821781\",\"#821580\",\"#82147f\",\"#81127e\",\"#81117d\",\"#810f7c\",\"#800f7b\",\"#7e0e79\",\"#7c0e78\",\"#7b0d76\",\"#790d75\",\"#770c73\",\"#760c71\",\"#740b70\",\"#730b6e\",\"#710a6d\",\"#6f0a6b\",\"#6e096a\",\"#6c0968\",\"#6a0867\",\"#690865\",\"#670864\",\"#650762\",\"#640761\",\"#62065f\",\"#61065d\",\"#5f055c\",\"#5d055a\",\"#5c0459\",\"#5a0457\",\"#580356\",\"#570354\",\"#550253\",\"#540251\",\"#520150\",\"#50014e\",\"#4f004d\",\"#4d004b\"]},\"id\":\"3070\",\"type\":\"LinearColorMapper\"},{\"attributes\":{\"fill_color\":{\"field\":\"corr\",\"transform\":{\"id\":\"3070\"}},\"height\":{\"value\":1},\"line_color\":{\"value\":null},\"width\":{\"value\":1},\"x\":{\"field\":\"x\"},\"y\":{\"field\":\"y\"}},\"id\":\"3104\",\"type\":\"Rect\"}],\"root_ids\":[\"3183\"]},\"title\":\"Bokeh Application\",\"version\":\"2.4.3\"}};\n  const render_items = [{\"docid\":\"f586e296-2031-4cd6-b359-55be065ee3b2\",\"root_ids\":[\"3183\"],\"roots\":{\"3183\":\"4aaef7e6-0410-402a-9a9f-32ed5eb61419\"}}];\n  root.Bokeh.embed.embed_items_notebook(docs_json, render_items);\n  }\n  if (root.Bokeh !== undefined) {\n    embed_document(root);\n  } else {\n    let attempts = 0;\n    const timer = setInterval(function(root) {\n      if (root.Bokeh !== undefined) {\n        clearInterval(timer);\n        embed_document(root);\n      } else {\n        attempts++;\n        if (attempts > 100) {\n          clearInterval(timer);\n          console.log(\"Bokeh: ERROR: Unable to run BokehJS code because BokehJS library is missing\");\n        }\n      }\n    }, 10, root)\n  }\n})(window);",
      "application/vnd.bokehjs_exec.v0+json": ""
     },
     "metadata": {
      "application/vnd.bokehjs_exec.v0+json": {
       "id": "3183"
      }
     },
     "output_type": "display_data"
    },
    {
     "data": {
      "application/vnd.jupyter.widget-view+json": {
       "model_id": "3269cdd5388d45bcb28925d6aeb28545",
       "version_major": 2,
       "version_minor": 0
      },
      "text/plain": [
       "Accordion(children=(HTML(value=\"<h3>Type: BinaryClassificationDataset</h3><pre>\\n- Información general: Esta b…"
      ]
     },
     "metadata": {},
     "output_type": "display_data"
    }
   ],
   "source": [
    "bd_sobremuestreado.show_in_notebook()"
   ]
  },
  {
   "cell_type": "code",
   "execution_count": 177,
   "id": "05ab8b55",
   "metadata": {},
   "outputs": [],
   "source": [
    "bd_sobremuestreado.to_csv('datos_salud_analizados.csv',sep=';',index=False)"
   ]
  }
 ],
 "metadata": {
  "kernelspec": {
   "display_name": "notebook-1qPppldO",
   "language": "python",
   "name": "python3"
  },
  "language_info": {
   "codemirror_mode": {
    "name": "ipython",
    "version": 3
   },
   "file_extension": ".py",
   "mimetype": "text/x-python",
   "name": "python",
   "nbconvert_exporter": "python",
   "pygments_lexer": "ipython3",
   "version": "3.9.2"
  },
  "vscode": {
   "interpreter": {
    "hash": "cf0a0736d49e152e947c13f34123af5ea61211672f87588409adcde4c0e99bfa"
   }
  }
 },
 "nbformat": 4,
 "nbformat_minor": 5
}
